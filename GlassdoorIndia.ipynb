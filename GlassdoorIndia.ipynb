{
  "nbformat": 4,
  "nbformat_minor": 0,
  "metadata": {
    "colab": {
      "name": "GlassdoorIndia.ipynb",
      "provenance": []
    },
    "kernelspec": {
      "name": "python3",
      "display_name": "Python 3"
    }
  },
  "cells": [
    {
      "cell_type": "code",
      "metadata": {
        "id": "3Pnn2E6tnC11"
      },
      "source": [
        "import numpy as np\r\n",
        "import tensorflow as tf\r\n",
        "import os\r\n",
        "import pandas as pd\r\n",
        "from matplotlib import pyplot as plt\r\n",
        "\r\n",
        "from plotly.offline import init_notebook_mode, iplot \r\n",
        "import plotly.figure_factory as ff\r\n",
        "import plotly.graph_objs as pg\r\n",
        "import plotly.offline as py\r\n",
        "import plotly.express as px"
      ],
      "execution_count": 214,
      "outputs": []
    },
    {
      "cell_type": "code",
      "metadata": {
        "colab": {
          "base_uri": "https://localhost:8080/"
        },
        "id": "jD9ViboanVoA",
        "outputId": "49c7f4ae-b72e-4d9f-c23c-2e3534c9b960"
      },
      "source": [
        "from google.colab import drive\r\n",
        "drive.mount('/content/drive')"
      ],
      "execution_count": 215,
      "outputs": [
        {
          "output_type": "stream",
          "text": [
            "Drive already mounted at /content/drive; to attempt to forcibly remount, call drive.mount(\"/content/drive\", force_remount=True).\n"
          ],
          "name": "stdout"
        }
      ]
    },
    {
      "cell_type": "code",
      "metadata": {
        "id": "nOeBV5FJnYDz"
      },
      "source": [
        "path = r\"/content/drive/My Drive/DataAnecdotes\""
      ],
      "execution_count": 216,
      "outputs": []
    },
    {
      "cell_type": "code",
      "metadata": {
        "id": "9XQtR0B8njL3"
      },
      "source": [
        "dpath=os.listdir(path)"
      ],
      "execution_count": 217,
      "outputs": []
    },
    {
      "cell_type": "code",
      "metadata": {
        "colab": {
          "base_uri": "https://localhost:8080/"
        },
        "id": "CkR7EtDznuS5",
        "outputId": "f2fadc32-abf2-456e-c5d5-0560eca0f185"
      },
      "source": [
        "dpath"
      ],
      "execution_count": 218,
      "outputs": [
        {
          "output_type": "execute_result",
          "data": {
            "text/plain": [
              "['Glassdoor Gender Pay Gap.csv', 'Oaxaca.py']"
            ]
          },
          "metadata": {
            "tags": []
          },
          "execution_count": 218
        }
      ]
    },
    {
      "cell_type": "code",
      "metadata": {
        "id": "XI4qXmhhnv-F"
      },
      "source": [
        "dirname =[]\r\n",
        "for i in range(0,len(dpath)):\r\n",
        "  dirname.append(path + '/' + dpath[i])"
      ],
      "execution_count": 219,
      "outputs": []
    },
    {
      "cell_type": "code",
      "metadata": {
        "colab": {
          "base_uri": "https://localhost:8080/",
          "height": 204
        },
        "id": "o1wnhKjynyC9",
        "outputId": "22d1af78-4fc5-4a97-cbdc-f9539d9ac04a"
      },
      "source": [
        "df= pd.read_csv(dirname[0])\r\n",
        "df.head()"
      ],
      "execution_count": 220,
      "outputs": [
        {
          "output_type": "execute_result",
          "data": {
            "text/html": [
              "<div>\n",
              "<style scoped>\n",
              "    .dataframe tbody tr th:only-of-type {\n",
              "        vertical-align: middle;\n",
              "    }\n",
              "\n",
              "    .dataframe tbody tr th {\n",
              "        vertical-align: top;\n",
              "    }\n",
              "\n",
              "    .dataframe thead th {\n",
              "        text-align: right;\n",
              "    }\n",
              "</style>\n",
              "<table border=\"1\" class=\"dataframe\">\n",
              "  <thead>\n",
              "    <tr style=\"text-align: right;\">\n",
              "      <th></th>\n",
              "      <th>JobTitle</th>\n",
              "      <th>Gender</th>\n",
              "      <th>Age</th>\n",
              "      <th>PerfEval</th>\n",
              "      <th>Education</th>\n",
              "      <th>Dept</th>\n",
              "      <th>Seniority</th>\n",
              "      <th>BasePay</th>\n",
              "      <th>Bonus</th>\n",
              "    </tr>\n",
              "  </thead>\n",
              "  <tbody>\n",
              "    <tr>\n",
              "      <th>0</th>\n",
              "      <td>Graphic Designer</td>\n",
              "      <td>Female</td>\n",
              "      <td>18</td>\n",
              "      <td>5</td>\n",
              "      <td>College</td>\n",
              "      <td>Operations</td>\n",
              "      <td>2</td>\n",
              "      <td>42363</td>\n",
              "      <td>9938</td>\n",
              "    </tr>\n",
              "    <tr>\n",
              "      <th>1</th>\n",
              "      <td>Software Engineer</td>\n",
              "      <td>Male</td>\n",
              "      <td>21</td>\n",
              "      <td>5</td>\n",
              "      <td>College</td>\n",
              "      <td>Management</td>\n",
              "      <td>5</td>\n",
              "      <td>108476</td>\n",
              "      <td>11128</td>\n",
              "    </tr>\n",
              "    <tr>\n",
              "      <th>2</th>\n",
              "      <td>Warehouse Associate</td>\n",
              "      <td>Female</td>\n",
              "      <td>19</td>\n",
              "      <td>4</td>\n",
              "      <td>PhD</td>\n",
              "      <td>Administration</td>\n",
              "      <td>5</td>\n",
              "      <td>90208</td>\n",
              "      <td>9268</td>\n",
              "    </tr>\n",
              "    <tr>\n",
              "      <th>3</th>\n",
              "      <td>Software Engineer</td>\n",
              "      <td>Male</td>\n",
              "      <td>20</td>\n",
              "      <td>5</td>\n",
              "      <td>Masters</td>\n",
              "      <td>Sales</td>\n",
              "      <td>4</td>\n",
              "      <td>108080</td>\n",
              "      <td>10154</td>\n",
              "    </tr>\n",
              "    <tr>\n",
              "      <th>4</th>\n",
              "      <td>Graphic Designer</td>\n",
              "      <td>Male</td>\n",
              "      <td>26</td>\n",
              "      <td>5</td>\n",
              "      <td>Masters</td>\n",
              "      <td>Engineering</td>\n",
              "      <td>5</td>\n",
              "      <td>99464</td>\n",
              "      <td>9319</td>\n",
              "    </tr>\n",
              "  </tbody>\n",
              "</table>\n",
              "</div>"
            ],
            "text/plain": [
              "              JobTitle  Gender  Age  ...  Seniority BasePay  Bonus\n",
              "0     Graphic Designer  Female   18  ...          2   42363   9938\n",
              "1    Software Engineer    Male   21  ...          5  108476  11128\n",
              "2  Warehouse Associate  Female   19  ...          5   90208   9268\n",
              "3    Software Engineer    Male   20  ...          4  108080  10154\n",
              "4     Graphic Designer    Male   26  ...          5   99464   9319\n",
              "\n",
              "[5 rows x 9 columns]"
            ]
          },
          "metadata": {
            "tags": []
          },
          "execution_count": 220
        }
      ]
    },
    {
      "cell_type": "code",
      "metadata": {
        "colab": {
          "base_uri": "https://localhost:8080/"
        },
        "id": "0XjZhtVLn22B",
        "outputId": "96e95c0f-5005-4973-b688-74f057de0efe"
      },
      "source": [
        "df.isnull().sum()"
      ],
      "execution_count": 221,
      "outputs": [
        {
          "output_type": "execute_result",
          "data": {
            "text/plain": [
              "JobTitle     0\n",
              "Gender       0\n",
              "Age          0\n",
              "PerfEval     0\n",
              "Education    0\n",
              "Dept         0\n",
              "Seniority    0\n",
              "BasePay      0\n",
              "Bonus        0\n",
              "dtype: int64"
            ]
          },
          "metadata": {
            "tags": []
          },
          "execution_count": 221
        }
      ]
    },
    {
      "cell_type": "code",
      "metadata": {
        "colab": {
          "base_uri": "https://localhost:8080/",
          "height": 297
        },
        "id": "7QiZheojoDdJ",
        "outputId": "a3563ba3-cbe7-4a6a-e34d-d275c8a96d54"
      },
      "source": [
        "df.describe()"
      ],
      "execution_count": 222,
      "outputs": [
        {
          "output_type": "execute_result",
          "data": {
            "text/html": [
              "<div>\n",
              "<style scoped>\n",
              "    .dataframe tbody tr th:only-of-type {\n",
              "        vertical-align: middle;\n",
              "    }\n",
              "\n",
              "    .dataframe tbody tr th {\n",
              "        vertical-align: top;\n",
              "    }\n",
              "\n",
              "    .dataframe thead th {\n",
              "        text-align: right;\n",
              "    }\n",
              "</style>\n",
              "<table border=\"1\" class=\"dataframe\">\n",
              "  <thead>\n",
              "    <tr style=\"text-align: right;\">\n",
              "      <th></th>\n",
              "      <th>Age</th>\n",
              "      <th>PerfEval</th>\n",
              "      <th>Seniority</th>\n",
              "      <th>BasePay</th>\n",
              "      <th>Bonus</th>\n",
              "    </tr>\n",
              "  </thead>\n",
              "  <tbody>\n",
              "    <tr>\n",
              "      <th>count</th>\n",
              "      <td>1000.000000</td>\n",
              "      <td>1000.000000</td>\n",
              "      <td>1000.000000</td>\n",
              "      <td>1000.000000</td>\n",
              "      <td>1000.000000</td>\n",
              "    </tr>\n",
              "    <tr>\n",
              "      <th>mean</th>\n",
              "      <td>41.393000</td>\n",
              "      <td>3.037000</td>\n",
              "      <td>2.971000</td>\n",
              "      <td>94472.653000</td>\n",
              "      <td>6467.161000</td>\n",
              "    </tr>\n",
              "    <tr>\n",
              "      <th>std</th>\n",
              "      <td>14.294856</td>\n",
              "      <td>1.423959</td>\n",
              "      <td>1.395029</td>\n",
              "      <td>25337.493272</td>\n",
              "      <td>2004.377365</td>\n",
              "    </tr>\n",
              "    <tr>\n",
              "      <th>min</th>\n",
              "      <td>18.000000</td>\n",
              "      <td>1.000000</td>\n",
              "      <td>1.000000</td>\n",
              "      <td>34208.000000</td>\n",
              "      <td>1703.000000</td>\n",
              "    </tr>\n",
              "    <tr>\n",
              "      <th>25%</th>\n",
              "      <td>29.000000</td>\n",
              "      <td>2.000000</td>\n",
              "      <td>2.000000</td>\n",
              "      <td>76850.250000</td>\n",
              "      <td>4849.500000</td>\n",
              "    </tr>\n",
              "    <tr>\n",
              "      <th>50%</th>\n",
              "      <td>41.000000</td>\n",
              "      <td>3.000000</td>\n",
              "      <td>3.000000</td>\n",
              "      <td>93327.500000</td>\n",
              "      <td>6507.000000</td>\n",
              "    </tr>\n",
              "    <tr>\n",
              "      <th>75%</th>\n",
              "      <td>54.250000</td>\n",
              "      <td>4.000000</td>\n",
              "      <td>4.000000</td>\n",
              "      <td>111558.000000</td>\n",
              "      <td>8026.000000</td>\n",
              "    </tr>\n",
              "    <tr>\n",
              "      <th>max</th>\n",
              "      <td>65.000000</td>\n",
              "      <td>5.000000</td>\n",
              "      <td>5.000000</td>\n",
              "      <td>179726.000000</td>\n",
              "      <td>11293.000000</td>\n",
              "    </tr>\n",
              "  </tbody>\n",
              "</table>\n",
              "</div>"
            ],
            "text/plain": [
              "               Age     PerfEval    Seniority        BasePay         Bonus\n",
              "count  1000.000000  1000.000000  1000.000000    1000.000000   1000.000000\n",
              "mean     41.393000     3.037000     2.971000   94472.653000   6467.161000\n",
              "std      14.294856     1.423959     1.395029   25337.493272   2004.377365\n",
              "min      18.000000     1.000000     1.000000   34208.000000   1703.000000\n",
              "25%      29.000000     2.000000     2.000000   76850.250000   4849.500000\n",
              "50%      41.000000     3.000000     3.000000   93327.500000   6507.000000\n",
              "75%      54.250000     4.000000     4.000000  111558.000000   8026.000000\n",
              "max      65.000000     5.000000     5.000000  179726.000000  11293.000000"
            ]
          },
          "metadata": {
            "tags": []
          },
          "execution_count": 222
        }
      ]
    },
    {
      "cell_type": "markdown",
      "metadata": {
        "id": "VAEjnq9GoMm4"
      },
      "source": [
        "Average age = 41\r\n"
      ]
    },
    {
      "cell_type": "markdown",
      "metadata": {
        "id": "_hfkjZO6qj4b"
      },
      "source": [
        "### **Overall Gender Pay Gap**"
      ]
    },
    {
      "cell_type": "code",
      "metadata": {
        "id": "1wDoYqZhoJAB"
      },
      "source": [
        "df['totalPay'] = df['BasePay'] + df['Bonus']"
      ],
      "execution_count": 223,
      "outputs": []
    },
    {
      "cell_type": "code",
      "metadata": {
        "colab": {
          "base_uri": "https://localhost:8080/",
          "height": 204
        },
        "id": "YA-qE906rAUm",
        "outputId": "336bac47-4d15-4200-d9d7-855b7770f9c4"
      },
      "source": [
        "df.head()"
      ],
      "execution_count": 224,
      "outputs": [
        {
          "output_type": "execute_result",
          "data": {
            "text/html": [
              "<div>\n",
              "<style scoped>\n",
              "    .dataframe tbody tr th:only-of-type {\n",
              "        vertical-align: middle;\n",
              "    }\n",
              "\n",
              "    .dataframe tbody tr th {\n",
              "        vertical-align: top;\n",
              "    }\n",
              "\n",
              "    .dataframe thead th {\n",
              "        text-align: right;\n",
              "    }\n",
              "</style>\n",
              "<table border=\"1\" class=\"dataframe\">\n",
              "  <thead>\n",
              "    <tr style=\"text-align: right;\">\n",
              "      <th></th>\n",
              "      <th>JobTitle</th>\n",
              "      <th>Gender</th>\n",
              "      <th>Age</th>\n",
              "      <th>PerfEval</th>\n",
              "      <th>Education</th>\n",
              "      <th>Dept</th>\n",
              "      <th>Seniority</th>\n",
              "      <th>BasePay</th>\n",
              "      <th>Bonus</th>\n",
              "      <th>totalPay</th>\n",
              "    </tr>\n",
              "  </thead>\n",
              "  <tbody>\n",
              "    <tr>\n",
              "      <th>0</th>\n",
              "      <td>Graphic Designer</td>\n",
              "      <td>Female</td>\n",
              "      <td>18</td>\n",
              "      <td>5</td>\n",
              "      <td>College</td>\n",
              "      <td>Operations</td>\n",
              "      <td>2</td>\n",
              "      <td>42363</td>\n",
              "      <td>9938</td>\n",
              "      <td>52301</td>\n",
              "    </tr>\n",
              "    <tr>\n",
              "      <th>1</th>\n",
              "      <td>Software Engineer</td>\n",
              "      <td>Male</td>\n",
              "      <td>21</td>\n",
              "      <td>5</td>\n",
              "      <td>College</td>\n",
              "      <td>Management</td>\n",
              "      <td>5</td>\n",
              "      <td>108476</td>\n",
              "      <td>11128</td>\n",
              "      <td>119604</td>\n",
              "    </tr>\n",
              "    <tr>\n",
              "      <th>2</th>\n",
              "      <td>Warehouse Associate</td>\n",
              "      <td>Female</td>\n",
              "      <td>19</td>\n",
              "      <td>4</td>\n",
              "      <td>PhD</td>\n",
              "      <td>Administration</td>\n",
              "      <td>5</td>\n",
              "      <td>90208</td>\n",
              "      <td>9268</td>\n",
              "      <td>99476</td>\n",
              "    </tr>\n",
              "    <tr>\n",
              "      <th>3</th>\n",
              "      <td>Software Engineer</td>\n",
              "      <td>Male</td>\n",
              "      <td>20</td>\n",
              "      <td>5</td>\n",
              "      <td>Masters</td>\n",
              "      <td>Sales</td>\n",
              "      <td>4</td>\n",
              "      <td>108080</td>\n",
              "      <td>10154</td>\n",
              "      <td>118234</td>\n",
              "    </tr>\n",
              "    <tr>\n",
              "      <th>4</th>\n",
              "      <td>Graphic Designer</td>\n",
              "      <td>Male</td>\n",
              "      <td>26</td>\n",
              "      <td>5</td>\n",
              "      <td>Masters</td>\n",
              "      <td>Engineering</td>\n",
              "      <td>5</td>\n",
              "      <td>99464</td>\n",
              "      <td>9319</td>\n",
              "      <td>108783</td>\n",
              "    </tr>\n",
              "  </tbody>\n",
              "</table>\n",
              "</div>"
            ],
            "text/plain": [
              "              JobTitle  Gender  Age  ...  BasePay  Bonus totalPay\n",
              "0     Graphic Designer  Female   18  ...    42363   9938    52301\n",
              "1    Software Engineer    Male   21  ...   108476  11128   119604\n",
              "2  Warehouse Associate  Female   19  ...    90208   9268    99476\n",
              "3    Software Engineer    Male   20  ...   108080  10154   118234\n",
              "4     Graphic Designer    Male   26  ...    99464   9319   108783\n",
              "\n",
              "[5 rows x 10 columns]"
            ]
          },
          "metadata": {
            "tags": []
          },
          "execution_count": 224
        }
      ]
    },
    {
      "cell_type": "code",
      "metadata": {
        "colab": {
          "base_uri": "https://localhost:8080/",
          "height": 419
        },
        "id": "A2ptZel71Cx8",
        "outputId": "f8e9d533-ecb5-486c-a363-7e4d5ec39da0"
      },
      "source": [
        "male=df.loc[df['Gender'] == 'Male']\r\n",
        "male"
      ],
      "execution_count": 225,
      "outputs": [
        {
          "output_type": "execute_result",
          "data": {
            "text/html": [
              "<div>\n",
              "<style scoped>\n",
              "    .dataframe tbody tr th:only-of-type {\n",
              "        vertical-align: middle;\n",
              "    }\n",
              "\n",
              "    .dataframe tbody tr th {\n",
              "        vertical-align: top;\n",
              "    }\n",
              "\n",
              "    .dataframe thead th {\n",
              "        text-align: right;\n",
              "    }\n",
              "</style>\n",
              "<table border=\"1\" class=\"dataframe\">\n",
              "  <thead>\n",
              "    <tr style=\"text-align: right;\">\n",
              "      <th></th>\n",
              "      <th>JobTitle</th>\n",
              "      <th>Gender</th>\n",
              "      <th>Age</th>\n",
              "      <th>PerfEval</th>\n",
              "      <th>Education</th>\n",
              "      <th>Dept</th>\n",
              "      <th>Seniority</th>\n",
              "      <th>BasePay</th>\n",
              "      <th>Bonus</th>\n",
              "      <th>totalPay</th>\n",
              "    </tr>\n",
              "  </thead>\n",
              "  <tbody>\n",
              "    <tr>\n",
              "      <th>1</th>\n",
              "      <td>Software Engineer</td>\n",
              "      <td>Male</td>\n",
              "      <td>21</td>\n",
              "      <td>5</td>\n",
              "      <td>College</td>\n",
              "      <td>Management</td>\n",
              "      <td>5</td>\n",
              "      <td>108476</td>\n",
              "      <td>11128</td>\n",
              "      <td>119604</td>\n",
              "    </tr>\n",
              "    <tr>\n",
              "      <th>3</th>\n",
              "      <td>Software Engineer</td>\n",
              "      <td>Male</td>\n",
              "      <td>20</td>\n",
              "      <td>5</td>\n",
              "      <td>Masters</td>\n",
              "      <td>Sales</td>\n",
              "      <td>4</td>\n",
              "      <td>108080</td>\n",
              "      <td>10154</td>\n",
              "      <td>118234</td>\n",
              "    </tr>\n",
              "    <tr>\n",
              "      <th>4</th>\n",
              "      <td>Graphic Designer</td>\n",
              "      <td>Male</td>\n",
              "      <td>26</td>\n",
              "      <td>5</td>\n",
              "      <td>Masters</td>\n",
              "      <td>Engineering</td>\n",
              "      <td>5</td>\n",
              "      <td>99464</td>\n",
              "      <td>9319</td>\n",
              "      <td>108783</td>\n",
              "    </tr>\n",
              "    <tr>\n",
              "      <th>7</th>\n",
              "      <td>Software Engineer</td>\n",
              "      <td>Male</td>\n",
              "      <td>18</td>\n",
              "      <td>4</td>\n",
              "      <td>PhD</td>\n",
              "      <td>Engineering</td>\n",
              "      <td>5</td>\n",
              "      <td>97523</td>\n",
              "      <td>10240</td>\n",
              "      <td>107763</td>\n",
              "    </tr>\n",
              "    <tr>\n",
              "      <th>10</th>\n",
              "      <td>Graphic Designer</td>\n",
              "      <td>Male</td>\n",
              "      <td>24</td>\n",
              "      <td>5</td>\n",
              "      <td>PhD</td>\n",
              "      <td>Engineering</td>\n",
              "      <td>5</td>\n",
              "      <td>102261</td>\n",
              "      <td>10212</td>\n",
              "      <td>112473</td>\n",
              "    </tr>\n",
              "    <tr>\n",
              "      <th>...</th>\n",
              "      <td>...</td>\n",
              "      <td>...</td>\n",
              "      <td>...</td>\n",
              "      <td>...</td>\n",
              "      <td>...</td>\n",
              "      <td>...</td>\n",
              "      <td>...</td>\n",
              "      <td>...</td>\n",
              "      <td>...</td>\n",
              "      <td>...</td>\n",
              "    </tr>\n",
              "    <tr>\n",
              "      <th>988</th>\n",
              "      <td>Sales Associate</td>\n",
              "      <td>Male</td>\n",
              "      <td>62</td>\n",
              "      <td>1</td>\n",
              "      <td>Masters</td>\n",
              "      <td>Administration</td>\n",
              "      <td>2</td>\n",
              "      <td>102593</td>\n",
              "      <td>1823</td>\n",
              "      <td>104416</td>\n",
              "    </tr>\n",
              "    <tr>\n",
              "      <th>996</th>\n",
              "      <td>Data Scientist</td>\n",
              "      <td>Male</td>\n",
              "      <td>57</td>\n",
              "      <td>1</td>\n",
              "      <td>Masters</td>\n",
              "      <td>Sales</td>\n",
              "      <td>2</td>\n",
              "      <td>108977</td>\n",
              "      <td>3567</td>\n",
              "      <td>112544</td>\n",
              "    </tr>\n",
              "    <tr>\n",
              "      <th>997</th>\n",
              "      <td>Financial Analyst</td>\n",
              "      <td>Male</td>\n",
              "      <td>48</td>\n",
              "      <td>1</td>\n",
              "      <td>High School</td>\n",
              "      <td>Operations</td>\n",
              "      <td>1</td>\n",
              "      <td>92347</td>\n",
              "      <td>2724</td>\n",
              "      <td>95071</td>\n",
              "    </tr>\n",
              "    <tr>\n",
              "      <th>998</th>\n",
              "      <td>Financial Analyst</td>\n",
              "      <td>Male</td>\n",
              "      <td>65</td>\n",
              "      <td>2</td>\n",
              "      <td>High School</td>\n",
              "      <td>Administration</td>\n",
              "      <td>1</td>\n",
              "      <td>97376</td>\n",
              "      <td>2225</td>\n",
              "      <td>99601</td>\n",
              "    </tr>\n",
              "    <tr>\n",
              "      <th>999</th>\n",
              "      <td>Financial Analyst</td>\n",
              "      <td>Male</td>\n",
              "      <td>60</td>\n",
              "      <td>1</td>\n",
              "      <td>PhD</td>\n",
              "      <td>Sales</td>\n",
              "      <td>2</td>\n",
              "      <td>123108</td>\n",
              "      <td>2244</td>\n",
              "      <td>125352</td>\n",
              "    </tr>\n",
              "  </tbody>\n",
              "</table>\n",
              "<p>532 rows × 10 columns</p>\n",
              "</div>"
            ],
            "text/plain": [
              "              JobTitle Gender  Age  ...  BasePay  Bonus totalPay\n",
              "1    Software Engineer   Male   21  ...   108476  11128   119604\n",
              "3    Software Engineer   Male   20  ...   108080  10154   118234\n",
              "4     Graphic Designer   Male   26  ...    99464   9319   108783\n",
              "7    Software Engineer   Male   18  ...    97523  10240   107763\n",
              "10    Graphic Designer   Male   24  ...   102261  10212   112473\n",
              "..                 ...    ...  ...  ...      ...    ...      ...\n",
              "988    Sales Associate   Male   62  ...   102593   1823   104416\n",
              "996     Data Scientist   Male   57  ...   108977   3567   112544\n",
              "997  Financial Analyst   Male   48  ...    92347   2724    95071\n",
              "998  Financial Analyst   Male   65  ...    97376   2225    99601\n",
              "999  Financial Analyst   Male   60  ...   123108   2244   125352\n",
              "\n",
              "[532 rows x 10 columns]"
            ]
          },
          "metadata": {
            "tags": []
          },
          "execution_count": 225
        }
      ]
    },
    {
      "cell_type": "code",
      "metadata": {
        "colab": {
          "base_uri": "https://localhost:8080/",
          "height": 419
        },
        "id": "qgw8B4GDxF2K",
        "outputId": "246415b0-f3fb-4aa7-e08d-dc418c496f37"
      },
      "source": [
        "female=df.loc[df['Gender'] == 'Female']\r\n",
        "female"
      ],
      "execution_count": 226,
      "outputs": [
        {
          "output_type": "execute_result",
          "data": {
            "text/html": [
              "<div>\n",
              "<style scoped>\n",
              "    .dataframe tbody tr th:only-of-type {\n",
              "        vertical-align: middle;\n",
              "    }\n",
              "\n",
              "    .dataframe tbody tr th {\n",
              "        vertical-align: top;\n",
              "    }\n",
              "\n",
              "    .dataframe thead th {\n",
              "        text-align: right;\n",
              "    }\n",
              "</style>\n",
              "<table border=\"1\" class=\"dataframe\">\n",
              "  <thead>\n",
              "    <tr style=\"text-align: right;\">\n",
              "      <th></th>\n",
              "      <th>JobTitle</th>\n",
              "      <th>Gender</th>\n",
              "      <th>Age</th>\n",
              "      <th>PerfEval</th>\n",
              "      <th>Education</th>\n",
              "      <th>Dept</th>\n",
              "      <th>Seniority</th>\n",
              "      <th>BasePay</th>\n",
              "      <th>Bonus</th>\n",
              "      <th>totalPay</th>\n",
              "    </tr>\n",
              "  </thead>\n",
              "  <tbody>\n",
              "    <tr>\n",
              "      <th>0</th>\n",
              "      <td>Graphic Designer</td>\n",
              "      <td>Female</td>\n",
              "      <td>18</td>\n",
              "      <td>5</td>\n",
              "      <td>College</td>\n",
              "      <td>Operations</td>\n",
              "      <td>2</td>\n",
              "      <td>42363</td>\n",
              "      <td>9938</td>\n",
              "      <td>52301</td>\n",
              "    </tr>\n",
              "    <tr>\n",
              "      <th>2</th>\n",
              "      <td>Warehouse Associate</td>\n",
              "      <td>Female</td>\n",
              "      <td>19</td>\n",
              "      <td>4</td>\n",
              "      <td>PhD</td>\n",
              "      <td>Administration</td>\n",
              "      <td>5</td>\n",
              "      <td>90208</td>\n",
              "      <td>9268</td>\n",
              "      <td>99476</td>\n",
              "    </tr>\n",
              "    <tr>\n",
              "      <th>5</th>\n",
              "      <td>IT</td>\n",
              "      <td>Female</td>\n",
              "      <td>20</td>\n",
              "      <td>5</td>\n",
              "      <td>PhD</td>\n",
              "      <td>Operations</td>\n",
              "      <td>4</td>\n",
              "      <td>70890</td>\n",
              "      <td>10126</td>\n",
              "      <td>81016</td>\n",
              "    </tr>\n",
              "    <tr>\n",
              "      <th>6</th>\n",
              "      <td>Graphic Designer</td>\n",
              "      <td>Female</td>\n",
              "      <td>20</td>\n",
              "      <td>5</td>\n",
              "      <td>College</td>\n",
              "      <td>Sales</td>\n",
              "      <td>4</td>\n",
              "      <td>67585</td>\n",
              "      <td>10541</td>\n",
              "      <td>78126</td>\n",
              "    </tr>\n",
              "    <tr>\n",
              "      <th>8</th>\n",
              "      <td>Graphic Designer</td>\n",
              "      <td>Female</td>\n",
              "      <td>33</td>\n",
              "      <td>5</td>\n",
              "      <td>High School</td>\n",
              "      <td>Engineering</td>\n",
              "      <td>5</td>\n",
              "      <td>112976</td>\n",
              "      <td>9836</td>\n",
              "      <td>122812</td>\n",
              "    </tr>\n",
              "    <tr>\n",
              "      <th>...</th>\n",
              "      <td>...</td>\n",
              "      <td>...</td>\n",
              "      <td>...</td>\n",
              "      <td>...</td>\n",
              "      <td>...</td>\n",
              "      <td>...</td>\n",
              "      <td>...</td>\n",
              "      <td>...</td>\n",
              "      <td>...</td>\n",
              "      <td>...</td>\n",
              "    </tr>\n",
              "    <tr>\n",
              "      <th>991</th>\n",
              "      <td>IT</td>\n",
              "      <td>Female</td>\n",
              "      <td>65</td>\n",
              "      <td>1</td>\n",
              "      <td>Masters</td>\n",
              "      <td>Administration</td>\n",
              "      <td>1</td>\n",
              "      <td>106945</td>\n",
              "      <td>2041</td>\n",
              "      <td>108986</td>\n",
              "    </tr>\n",
              "    <tr>\n",
              "      <th>992</th>\n",
              "      <td>Graphic Designer</td>\n",
              "      <td>Female</td>\n",
              "      <td>63</td>\n",
              "      <td>1</td>\n",
              "      <td>College</td>\n",
              "      <td>Administration</td>\n",
              "      <td>2</td>\n",
              "      <td>81545</td>\n",
              "      <td>3418</td>\n",
              "      <td>84963</td>\n",
              "    </tr>\n",
              "    <tr>\n",
              "      <th>993</th>\n",
              "      <td>Marketing Associate</td>\n",
              "      <td>Female</td>\n",
              "      <td>65</td>\n",
              "      <td>1</td>\n",
              "      <td>Masters</td>\n",
              "      <td>Administration</td>\n",
              "      <td>1</td>\n",
              "      <td>80789</td>\n",
              "      <td>1884</td>\n",
              "      <td>82673</td>\n",
              "    </tr>\n",
              "    <tr>\n",
              "      <th>994</th>\n",
              "      <td>Marketing Associate</td>\n",
              "      <td>Female</td>\n",
              "      <td>64</td>\n",
              "      <td>1</td>\n",
              "      <td>PhD</td>\n",
              "      <td>Administration</td>\n",
              "      <td>2</td>\n",
              "      <td>85253</td>\n",
              "      <td>2777</td>\n",
              "      <td>88030</td>\n",
              "    </tr>\n",
              "    <tr>\n",
              "      <th>995</th>\n",
              "      <td>Marketing Associate</td>\n",
              "      <td>Female</td>\n",
              "      <td>61</td>\n",
              "      <td>1</td>\n",
              "      <td>High School</td>\n",
              "      <td>Administration</td>\n",
              "      <td>1</td>\n",
              "      <td>62644</td>\n",
              "      <td>3270</td>\n",
              "      <td>65914</td>\n",
              "    </tr>\n",
              "  </tbody>\n",
              "</table>\n",
              "<p>468 rows × 10 columns</p>\n",
              "</div>"
            ],
            "text/plain": [
              "                JobTitle  Gender  Age  ...  BasePay  Bonus totalPay\n",
              "0       Graphic Designer  Female   18  ...    42363   9938    52301\n",
              "2    Warehouse Associate  Female   19  ...    90208   9268    99476\n",
              "5                     IT  Female   20  ...    70890  10126    81016\n",
              "6       Graphic Designer  Female   20  ...    67585  10541    78126\n",
              "8       Graphic Designer  Female   33  ...   112976   9836   122812\n",
              "..                   ...     ...  ...  ...      ...    ...      ...\n",
              "991                   IT  Female   65  ...   106945   2041   108986\n",
              "992     Graphic Designer  Female   63  ...    81545   3418    84963\n",
              "993  Marketing Associate  Female   65  ...    80789   1884    82673\n",
              "994  Marketing Associate  Female   64  ...    85253   2777    88030\n",
              "995  Marketing Associate  Female   61  ...    62644   3270    65914\n",
              "\n",
              "[468 rows x 10 columns]"
            ]
          },
          "metadata": {
            "tags": []
          },
          "execution_count": 226
        }
      ]
    },
    {
      "cell_type": "code",
      "metadata": {
        "id": "_ffBf85K1MId"
      },
      "source": [
        "basemalepay=male['BasePay'].mean()\r\n",
        "basefemalepay=female['BasePay'].mean()\r\n",
        "bonusmalepay=male['Bonus'].mean()\r\n",
        "bonusfemalepay=female['Bonus'].mean()\r\n",
        "totalmalepay=male['totalPay'].mean()\r\n",
        "totalfemalepay=female['totalPay'].mean()"
      ],
      "execution_count": 227,
      "outputs": []
    },
    {
      "cell_type": "code",
      "metadata": {
        "colab": {
          "base_uri": "https://localhost:8080/"
        },
        "id": "w8yKTlpPxRgq",
        "outputId": "11053673-31c7-4de4-9bb9-0d4e15abb2a7"
      },
      "source": [
        "print(\"For Males :\")\r\n",
        "print(\"Mean Base Pay =\",basemalepay)\r\n",
        "print(\"Mean Bonus Pay =\",bonusmalepay)\r\n",
        "print(\"Mean Total Pay =\",totalmalepay)"
      ],
      "execution_count": 228,
      "outputs": [
        {
          "output_type": "stream",
          "text": [
            "For Males :\n",
            "Mean Base Pay = 98457.54511278195\n",
            "Mean Bonus Pay = 6461.133458646616\n",
            "Mean Total Pay = 104918.67857142857\n"
          ],
          "name": "stdout"
        }
      ]
    },
    {
      "cell_type": "code",
      "metadata": {
        "colab": {
          "base_uri": "https://localhost:8080/"
        },
        "id": "24wd3WIlxw9v",
        "outputId": "3d8ce465-415f-4e55-879e-39ba6523998c"
      },
      "source": [
        "print(\"For Females :\")\r\n",
        "print(\"Mean Base Pay =\",basefemalepay)\r\n",
        "print(\"Mean Bonus Pay =\",bonusfemalepay)\r\n",
        "print(\"Mean Total Pay =\",totalfemalepay)"
      ],
      "execution_count": 229,
      "outputs": [
        {
          "output_type": "stream",
          "text": [
            "For Females :\n",
            "Mean Base Pay = 89942.81837606838\n",
            "Mean Bonus Pay = 6474.01282051282\n",
            "Mean Total Pay = 96416.8311965812\n"
          ],
          "name": "stdout"
        }
      ]
    },
    {
      "cell_type": "code",
      "metadata": {
        "id": "Q9yulOlMyHXn"
      },
      "source": [
        "basepaygap=((basemalepay-basefemalepay)/basemalepay)*100\r\n",
        "totalpaygap=((totalmalepay-totalfemalepay)/totalmalepay)*100"
      ],
      "execution_count": 230,
      "outputs": []
    },
    {
      "cell_type": "code",
      "metadata": {
        "colab": {
          "base_uri": "https://localhost:8080/"
        },
        "id": "lh1GMi08z-IC",
        "outputId": "f786c66a-0910-4197-9948-828685d33b2c"
      },
      "source": [
        "print(\"Overall Gender Pay Gap :\")\r\n",
        "print(\"BasePay Gap: \", basepaygap,\"%\")\r\n",
        "print(\"TotalPay Gap: \", totalpaygap,\"%\")\r\n"
      ],
      "execution_count": 231,
      "outputs": [
        {
          "output_type": "stream",
          "text": [
            "Overall Gender Pay Gap :\n",
            "BasePay Gap:  8.648120087658148 %\n",
            "TotalPay Gap:  8.103273402418342 %\n"
          ],
          "name": "stdout"
        }
      ]
    },
    {
      "cell_type": "markdown",
      "metadata": {
        "id": "Nu9mNuV05wiv"
      },
      "source": [
        "**Adjusted Pay Gap**"
      ]
    },
    {
      "cell_type": "code",
      "metadata": {
        "colab": {
          "base_uri": "https://localhost:8080/"
        },
        "id": "X-yzCXIv32uE",
        "outputId": "f8935a9e-a750-4021-ac97-8d0158bcd16f"
      },
      "source": [
        "print(f'Num of diffirent job titles: {df.JobTitle.unique().shape[0]}')\r\n",
        "print('Job Titles: ')\r\n",
        "df.JobTitle.value_counts()"
      ],
      "execution_count": 232,
      "outputs": [
        {
          "output_type": "stream",
          "text": [
            "Num of diffirent job titles: 10\n",
            "Job Titles: \n"
          ],
          "name": "stdout"
        },
        {
          "output_type": "execute_result",
          "data": {
            "text/plain": [
              "Marketing Associate    118\n",
              "Software Engineer      109\n",
              "Data Scientist         107\n",
              "Financial Analyst      107\n",
              "Graphic Designer        98\n",
              "IT                      96\n",
              "Sales Associate         94\n",
              "Driver                  91\n",
              "Warehouse Associate     90\n",
              "Manager                 90\n",
              "Name: JobTitle, dtype: int64"
            ]
          },
          "metadata": {
            "tags": []
          },
          "execution_count": 232
        }
      ]
    },
    {
      "cell_type": "code",
      "metadata": {
        "id": "NvFEg3gn6wCC"
      },
      "source": [
        "MA_male=male.loc[male['JobTitle']=='Marketing Associate']\r\n",
        "MA_female=female.loc[female['JobTitle']=='Marketing Associate']\r\n",
        "SE_male=male.loc[male['JobTitle']=='Software Engineer']\r\n",
        "SE_female=female.loc[female['JobTitle']=='Software Engineer']\r\n",
        "DS_male=male.loc[male['JobTitle']=='Data Scientist']\r\n",
        "DS_female=female.loc[female['JobTitle']=='Data Scientist']\r\n",
        "FA_male=male.loc[male['JobTitle']=='Financial Analyst']\r\n",
        "FA_female=female.loc[female['JobTitle']=='Financial Analyst']\r\n",
        "GD_male=male.loc[male['JobTitle']=='Graphic Designer']\r\n",
        "GD_female=female.loc[female['JobTitle']=='Graphic Designer']\r\n",
        "IT_male=male.loc[male['JobTitle']=='IT']\r\n",
        "IT_female=female.loc[female['JobTitle']=='IT']\r\n",
        "SA_male=male.loc[male['JobTitle']=='Sales Associate']\r\n",
        "SA_female=female.loc[female['JobTitle']=='Sales Associate']\r\n",
        "Driver_male=male.loc[male['JobTitle']=='Driver']\r\n",
        "Driver_female=female.loc[female['JobTitle']=='Driver']\r\n",
        "WA_male=male.loc[male['JobTitle']=='Warehouse Associate']\r\n",
        "WA_female=female.loc[female['JobTitle']=='Warehouse Associate']\r\n",
        "Man_male=male.loc[male['JobTitle']=='Manager']\r\n",
        "Man_female=female.loc[female['JobTitle']=='Manager']"
      ],
      "execution_count": 233,
      "outputs": []
    },
    {
      "cell_type": "code",
      "metadata": {
        "id": "5GGroH7b8-XD"
      },
      "source": [
        "MA_male_base=MA_male['BasePay'].mean()\r\n",
        "MA_female_base=MA_female['BasePay'].mean()\r\n",
        "SE_male_base=SE_male['BasePay'].mean()\r\n",
        "SE_female_base=SE_female['BasePay'].mean()\r\n",
        "DS_male_base=DS_male['BasePay'].mean()\r\n",
        "DS_female_base=DS_female['BasePay'].mean()\r\n",
        "FA_male_base=FA_male['BasePay'].mean()\r\n",
        "FA_female_base=FA_female['BasePay'].mean()\r\n",
        "GD_male_base=GD_male['BasePay'].mean()\r\n",
        "GD_female_base=GD_female['BasePay'].mean()\r\n",
        "IT_male_base=IT_male['BasePay'].mean()\r\n",
        "IT_female_base=IT_female['BasePay'].mean()\r\n",
        "SA_male_base=SA_male['BasePay'].mean()\r\n",
        "SA_female_base=SA_female['BasePay'].mean()\r\n",
        "Driver_male_base=Driver_male['BasePay'].mean()\r\n",
        "Driver_female_base=Driver_female['BasePay'].mean()\r\n",
        "WA_male_base=WA_male['BasePay'].mean()\r\n",
        "WA_female_base=WA_female['BasePay'].mean()\r\n",
        "Man_male_base=Man_male['BasePay'].mean()\r\n",
        "Man_female_base=Man_female['BasePay'].mean()"
      ],
      "execution_count": 234,
      "outputs": []
    },
    {
      "cell_type": "code",
      "metadata": {
        "id": "ouWrvkYJAoiw"
      },
      "source": [
        "MA_male_tot=MA_male['totalPay'].mean()\r\n",
        "MA_female_tot=MA_female['totalPay'].mean()\r\n",
        "SE_male_tot=SE_male['totalPay'].mean()\r\n",
        "SE_female_tot=SE_female['totalPay'].mean()\r\n",
        "DS_male_tot=DS_male['totalPay'].mean()\r\n",
        "DS_female_tot=DS_female['totalPay'].mean()\r\n",
        "FA_male_tot=FA_male['totalPay'].mean()\r\n",
        "FA_female_tot=FA_female['totalPay'].mean()\r\n",
        "GD_male_tot=GD_male['totalPay'].mean()\r\n",
        "GD_female_tot=GD_female['totalPay'].mean()\r\n",
        "IT_male_tot=IT_male['totalPay'].mean()\r\n",
        "IT_female_tot=IT_female['totalPay'].mean()\r\n",
        "SA_male_tot=SA_male['totalPay'].mean()\r\n",
        "SA_female_tot=SA_female['totalPay'].mean()\r\n",
        "Driver_male_tot=Driver_male['totalPay'].mean()\r\n",
        "Driver_female_tot=Driver_female['totalPay'].mean()\r\n",
        "WA_male_tot=WA_male['totalPay'].mean()\r\n",
        "WA_female_tot=WA_female['totalPay'].mean()\r\n",
        "Man_male_tot=Man_male['totalPay'].mean()\r\n",
        "Man_female_tot=Man_female['totalPay'].mean()\r\n"
      ],
      "execution_count": 235,
      "outputs": []
    },
    {
      "cell_type": "code",
      "metadata": {
        "id": "I4RWw_tkCauh"
      },
      "source": [
        "MA_bgap=((MA_male_base-MA_female_base)/MA_male_base)*100\r\n",
        "SE_bgap=((SE_male_base-SE_female_base)/SE_male_base)*100\r\n",
        "DS_bgap=((DS_male_base-DS_female_base)/DS_male_base)*100\r\n",
        "FA_bgap=((FA_male_base-FA_female_base)/FA_male_base)*100\r\n",
        "GD_bgap=((GD_male_base-GD_female_base)/GD_male_base)*100\r\n",
        "IT_bgap=((IT_male_base-IT_female_base)/IT_male_base)*100\r\n",
        "SA_bgap=((SA_male_base-SA_female_base)/SA_male_base)*100\r\n",
        "Driver_bgap=((Driver_male_base-Driver_female_base)/Driver_male_base)*100\r\n",
        "WA_bgap=((WA_male_base-WA_female_base)/WA_male_base)*100\r\n",
        "Man_bgap=((Man_male_base-Man_female_base)/Man_male_base)*100"
      ],
      "execution_count": 236,
      "outputs": []
    },
    {
      "cell_type": "code",
      "metadata": {
        "id": "LI4er418DXWW"
      },
      "source": [
        "MA_tgap=((MA_male_tot-MA_female_tot)/MA_male_tot)*100\r\n",
        "SE_tgap=((SE_male_tot-SE_female_tot)/SE_male_tot)*100\r\n",
        "DS_tgap=((DS_male_tot-DS_female_tot)/DS_male_tot)*100\r\n",
        "FA_tgap=((FA_male_tot-FA_female_tot)/FA_male_tot)*100\r\n",
        "GD_tgap=((GD_male_tot-GD_female_tot)/GD_male_tot)*100\r\n",
        "IT_tgap=((IT_male_tot-IT_female_tot)/IT_male_tot)*100\r\n",
        "SA_tgap=((SA_male_tot-SA_female_tot)/SA_male_tot)*100\r\n",
        "Driver_tgap=((Driver_male_tot-Driver_female_tot)/Driver_male_tot)*100\r\n",
        "WA_tgap=((WA_male_tot-WA_female_tot)/WA_male_tot)*100\r\n",
        "Man_tgap=((Man_male_tot-Man_female_tot)/Man_male_tot)*100"
      ],
      "execution_count": 237,
      "outputs": []
    },
    {
      "cell_type": "code",
      "metadata": {
        "colab": {
          "base_uri": "https://localhost:8080/"
        },
        "id": "gYdmILYyDj-i",
        "outputId": "5272dc1c-3fab-4565-e164-9ebbc13f28f7"
      },
      "source": [
        "print(\"Adjusted BasePay Gaps (JobTitles) :\")\r\n",
        "print(\"Marketing Associate=\",MA_bgap , '%')\r\n",
        "print(\"Software Engineer=\",SE_bgap,'%')\r\n",
        "print(\"Data Scientist=\",DS_bgap,'%')\r\n",
        "print(\"Financial Associate=\",FA_bgap,'%')\r\n",
        "print(\"Graphic Designer=\",GD_bgap,'%')\r\n",
        "print('IT=',IT_bgap,'%')\r\n",
        "print(\"Sales Associate=\",SA_bgap,'%')\r\n",
        "print('Driver=',Driver_bgap,'%')\r\n",
        "print(\"Warehouse Associate=\",WA_bgap,'%')\r\n",
        "print('Manager=',Man_bgap,'%')"
      ],
      "execution_count": 238,
      "outputs": [
        {
          "output_type": "stream",
          "text": [
            "Adjusted BasePay Gaps (JobTitles) :\n",
            "Marketing Associate= 7.037753605970021 %\n",
            "Software Engineer= 10.97144138978659 %\n",
            "Data Scientist= -7.265155544180376 %\n",
            "Financial Associate= -0.8998189748868689 %\n",
            "Graphic Designer= -2.9549283188125655 %\n",
            "IT= 0.6001388580063454 %\n",
            "Sales Associate= 2.9250128387455105 %\n",
            "Driver= 5.53005847053636 %\n",
            "Warehouse Associate= -6.787517176354524 %\n",
            "Manager= -1.9250042523614346 %\n"
          ],
          "name": "stdout"
        }
      ]
    },
    {
      "cell_type": "code",
      "metadata": {
        "colab": {
          "base_uri": "https://localhost:8080/"
        },
        "id": "3ua2x56PDye9",
        "outputId": "ae5b9342-206b-4555-d488-0fe5f4522ee1"
      },
      "source": [
        "print(\"Adjusted TotalPay Gaps (JobTitles) :\")\r\n",
        "print(\"Marketing Associate=\",MA_tgap , '%')\r\n",
        "print(\"Software Engineer=\",SE_tgap,'%')\r\n",
        "print(\"Data Scientist=\",DS_tgap,'%')\r\n",
        "print(\"Financial Associate=\",FA_tgap,'%')\r\n",
        "print(\"Graphic Designer=\",GD_tgap,'%')\r\n",
        "print('IT=',IT_tgap,'%')\r\n",
        "print(\"Sales Associate=\",SA_tgap,'%')\r\n",
        "print('Driver=',Driver_tgap,'%')\r\n",
        "print(\"Warehouse Associate=\",WA_tgap,'%')\r\n",
        "print('Manager=',Man_tgap,'%')\r\n"
      ],
      "execution_count": 239,
      "outputs": [
        {
          "output_type": "stream",
          "text": [
            "Adjusted TotalPay Gaps (JobTitles) :\n",
            "Marketing Associate= 6.704148283440851 %\n",
            "Software Engineer= 10.51582414444464 %\n",
            "Data Scientist= -7.336054636923419 %\n",
            "Financial Associate= -0.6203654674909456 %\n",
            "Graphic Designer= -2.305076226503032 %\n",
            "IT= 0.41304880974178515 %\n",
            "Sales Associate= 2.649340975573608 %\n",
            "Driver= 5.3043780433143635 %\n",
            "Warehouse Associate= -7.198008822173094 %\n",
            "Manager= -1.7682272823756784 %\n"
          ],
          "name": "stdout"
        }
      ]
    },
    {
      "cell_type": "markdown",
      "metadata": {
        "id": "9izGfo2PFx78"
      },
      "source": [
        "### **Distribution Plots**"
      ]
    },
    {
      "cell_type": "code",
      "metadata": {
        "colab": {
          "base_uri": "https://localhost:8080/",
          "height": 542
        },
        "id": "m0ArkXfpFdyM",
        "outputId": "e54eb424-bb9a-4f86-846e-7025370d015c"
      },
      "source": [
        "title = pd.get_dummies(df, columns=['Gender']).groupby('JobTitle').sum()\r\n",
        "\r\n",
        "female = pg.Pie(labels=title.index,values=title['Gender_Female'],name=\"Female\",hole=0.5,domain={'x': [0,0.46]})\r\n",
        "male = pg.Pie(labels=title.index,values=title['Gender_Male'],name=\"Male\",hole=0.5,domain={'x': [0.52,1]})\r\n",
        "\r\n",
        "layout = dict(title = 'Job Title Distribution', font=dict(size=14), legend=dict(orientation=\"h\"),\r\n",
        "              annotations = [dict(x=0.2, y=0.5, text='Female', showarrow=False, font=dict(size=20)),\r\n",
        "                             dict(x=0.8, y=0.5, text='Male', showarrow=False, font=dict(size=20)) ])\r\n",
        "\r\n",
        "fig = dict(data=[female, male], layout=layout)\r\n",
        "py.iplot(fig)"
      ],
      "execution_count": 240,
      "outputs": [
        {
          "output_type": "display_data",
          "data": {
            "text/html": [
              "<html>\n",
              "<head><meta charset=\"utf-8\" /></head>\n",
              "<body>\n",
              "    <div>\n",
              "            <script src=\"https://cdnjs.cloudflare.com/ajax/libs/mathjax/2.7.5/MathJax.js?config=TeX-AMS-MML_SVG\"></script><script type=\"text/javascript\">if (window.MathJax) {MathJax.Hub.Config({SVG: {font: \"STIX-Web\"}});}</script>\n",
              "                <script type=\"text/javascript\">window.PlotlyConfig = {MathJaxConfig: 'local'};</script>\n",
              "        <script src=\"https://cdn.plot.ly/plotly-latest.min.js\"></script>    \n",
              "            <div id=\"351dbce0-6179-4b05-8536-5031b7900ff0\" class=\"plotly-graph-div\" style=\"height:525px; width:100%;\"></div>\n",
              "            <script type=\"text/javascript\">\n",
              "                \n",
              "                    window.PLOTLYENV=window.PLOTLYENV || {};\n",
              "                    \n",
              "                if (document.getElementById(\"351dbce0-6179-4b05-8536-5031b7900ff0\")) {\n",
              "                    Plotly.newPlot(\n",
              "                        '351dbce0-6179-4b05-8536-5031b7900ff0',\n",
              "                        [{\"domain\": {\"x\": [0, 0.46]}, \"hole\": 0.5, \"labels\": [\"Data Scientist\", \"Driver\", \"Financial Analyst\", \"Graphic Designer\", \"IT\", \"Manager\", \"Marketing Associate\", \"Sales Associate\", \"Software Engineer\", \"Warehouse Associate\"], \"name\": \"Female\", \"type\": \"pie\", \"values\": [53, 46, 49, 48, 50, 18, 107, 43, 8, 46]}, {\"domain\": {\"x\": [0.52, 1]}, \"hole\": 0.5, \"labels\": [\"Data Scientist\", \"Driver\", \"Financial Analyst\", \"Graphic Designer\", \"IT\", \"Manager\", \"Marketing Associate\", \"Sales Associate\", \"Software Engineer\", \"Warehouse Associate\"], \"name\": \"Male\", \"type\": \"pie\", \"values\": [54, 45, 58, 50, 46, 72, 11, 51, 101, 44]}],\n",
              "                        {\"annotations\": [{\"font\": {\"size\": 20}, \"showarrow\": false, \"text\": \"Female\", \"x\": 0.2, \"y\": 0.5}, {\"font\": {\"size\": 20}, \"showarrow\": false, \"text\": \"Male\", \"x\": 0.8, \"y\": 0.5}], \"font\": {\"size\": 14}, \"legend\": {\"orientation\": \"h\"}, \"template\": {\"data\": {\"bar\": [{\"error_x\": {\"color\": \"#2a3f5f\"}, \"error_y\": {\"color\": \"#2a3f5f\"}, \"marker\": {\"line\": {\"color\": \"#E5ECF6\", \"width\": 0.5}}, \"type\": \"bar\"}], \"barpolar\": [{\"marker\": {\"line\": {\"color\": \"#E5ECF6\", \"width\": 0.5}}, \"type\": \"barpolar\"}], \"carpet\": [{\"aaxis\": {\"endlinecolor\": \"#2a3f5f\", \"gridcolor\": \"white\", \"linecolor\": \"white\", \"minorgridcolor\": \"white\", \"startlinecolor\": \"#2a3f5f\"}, \"baxis\": {\"endlinecolor\": \"#2a3f5f\", \"gridcolor\": \"white\", \"linecolor\": \"white\", \"minorgridcolor\": \"white\", \"startlinecolor\": \"#2a3f5f\"}, \"type\": \"carpet\"}], \"choropleth\": [{\"colorbar\": {\"outlinewidth\": 0, \"ticks\": \"\"}, \"type\": \"choropleth\"}], \"contour\": [{\"colorbar\": {\"outlinewidth\": 0, \"ticks\": \"\"}, \"colorscale\": [[0.0, \"#0d0887\"], [0.1111111111111111, \"#46039f\"], [0.2222222222222222, \"#7201a8\"], [0.3333333333333333, \"#9c179e\"], [0.4444444444444444, \"#bd3786\"], [0.5555555555555556, \"#d8576b\"], [0.6666666666666666, \"#ed7953\"], [0.7777777777777778, \"#fb9f3a\"], [0.8888888888888888, \"#fdca26\"], [1.0, \"#f0f921\"]], \"type\": \"contour\"}], \"contourcarpet\": [{\"colorbar\": {\"outlinewidth\": 0, \"ticks\": \"\"}, \"type\": \"contourcarpet\"}], \"heatmap\": [{\"colorbar\": {\"outlinewidth\": 0, \"ticks\": \"\"}, \"colorscale\": [[0.0, \"#0d0887\"], [0.1111111111111111, \"#46039f\"], [0.2222222222222222, \"#7201a8\"], [0.3333333333333333, \"#9c179e\"], [0.4444444444444444, \"#bd3786\"], [0.5555555555555556, \"#d8576b\"], [0.6666666666666666, \"#ed7953\"], [0.7777777777777778, \"#fb9f3a\"], [0.8888888888888888, \"#fdca26\"], [1.0, \"#f0f921\"]], \"type\": \"heatmap\"}], \"heatmapgl\": [{\"colorbar\": {\"outlinewidth\": 0, \"ticks\": \"\"}, \"colorscale\": [[0.0, \"#0d0887\"], [0.1111111111111111, \"#46039f\"], [0.2222222222222222, \"#7201a8\"], [0.3333333333333333, \"#9c179e\"], [0.4444444444444444, \"#bd3786\"], [0.5555555555555556, \"#d8576b\"], [0.6666666666666666, \"#ed7953\"], [0.7777777777777778, \"#fb9f3a\"], [0.8888888888888888, \"#fdca26\"], [1.0, \"#f0f921\"]], \"type\": \"heatmapgl\"}], \"histogram\": [{\"marker\": {\"colorbar\": {\"outlinewidth\": 0, \"ticks\": \"\"}}, \"type\": \"histogram\"}], \"histogram2d\": [{\"colorbar\": {\"outlinewidth\": 0, \"ticks\": \"\"}, \"colorscale\": [[0.0, \"#0d0887\"], [0.1111111111111111, \"#46039f\"], [0.2222222222222222, \"#7201a8\"], [0.3333333333333333, \"#9c179e\"], [0.4444444444444444, \"#bd3786\"], [0.5555555555555556, \"#d8576b\"], [0.6666666666666666, \"#ed7953\"], [0.7777777777777778, \"#fb9f3a\"], [0.8888888888888888, \"#fdca26\"], [1.0, \"#f0f921\"]], \"type\": \"histogram2d\"}], \"histogram2dcontour\": [{\"colorbar\": {\"outlinewidth\": 0, \"ticks\": \"\"}, \"colorscale\": [[0.0, \"#0d0887\"], [0.1111111111111111, \"#46039f\"], [0.2222222222222222, \"#7201a8\"], [0.3333333333333333, \"#9c179e\"], [0.4444444444444444, \"#bd3786\"], [0.5555555555555556, \"#d8576b\"], [0.6666666666666666, \"#ed7953\"], [0.7777777777777778, \"#fb9f3a\"], [0.8888888888888888, \"#fdca26\"], [1.0, \"#f0f921\"]], \"type\": \"histogram2dcontour\"}], \"mesh3d\": [{\"colorbar\": {\"outlinewidth\": 0, \"ticks\": \"\"}, \"type\": \"mesh3d\"}], \"parcoords\": [{\"line\": {\"colorbar\": {\"outlinewidth\": 0, \"ticks\": \"\"}}, \"type\": \"parcoords\"}], \"pie\": [{\"automargin\": true, \"type\": \"pie\"}], \"scatter\": [{\"marker\": {\"colorbar\": {\"outlinewidth\": 0, \"ticks\": \"\"}}, \"type\": \"scatter\"}], \"scatter3d\": [{\"line\": {\"colorbar\": {\"outlinewidth\": 0, \"ticks\": \"\"}}, \"marker\": {\"colorbar\": {\"outlinewidth\": 0, \"ticks\": \"\"}}, \"type\": \"scatter3d\"}], \"scattercarpet\": [{\"marker\": {\"colorbar\": {\"outlinewidth\": 0, \"ticks\": \"\"}}, \"type\": \"scattercarpet\"}], \"scattergeo\": [{\"marker\": {\"colorbar\": {\"outlinewidth\": 0, \"ticks\": \"\"}}, \"type\": \"scattergeo\"}], \"scattergl\": [{\"marker\": {\"colorbar\": {\"outlinewidth\": 0, \"ticks\": \"\"}}, \"type\": \"scattergl\"}], \"scattermapbox\": [{\"marker\": {\"colorbar\": {\"outlinewidth\": 0, \"ticks\": \"\"}}, \"type\": \"scattermapbox\"}], \"scatterpolar\": [{\"marker\": {\"colorbar\": {\"outlinewidth\": 0, \"ticks\": \"\"}}, \"type\": \"scatterpolar\"}], \"scatterpolargl\": [{\"marker\": {\"colorbar\": {\"outlinewidth\": 0, \"ticks\": \"\"}}, \"type\": \"scatterpolargl\"}], \"scatterternary\": [{\"marker\": {\"colorbar\": {\"outlinewidth\": 0, \"ticks\": \"\"}}, \"type\": \"scatterternary\"}], \"surface\": [{\"colorbar\": {\"outlinewidth\": 0, \"ticks\": \"\"}, \"colorscale\": [[0.0, \"#0d0887\"], [0.1111111111111111, \"#46039f\"], [0.2222222222222222, \"#7201a8\"], [0.3333333333333333, \"#9c179e\"], [0.4444444444444444, \"#bd3786\"], [0.5555555555555556, \"#d8576b\"], [0.6666666666666666, \"#ed7953\"], [0.7777777777777778, \"#fb9f3a\"], [0.8888888888888888, \"#fdca26\"], [1.0, \"#f0f921\"]], \"type\": \"surface\"}], \"table\": [{\"cells\": {\"fill\": {\"color\": \"#EBF0F8\"}, \"line\": {\"color\": \"white\"}}, \"header\": {\"fill\": {\"color\": \"#C8D4E3\"}, \"line\": {\"color\": \"white\"}}, \"type\": \"table\"}]}, \"layout\": {\"annotationdefaults\": {\"arrowcolor\": \"#2a3f5f\", \"arrowhead\": 0, \"arrowwidth\": 1}, \"coloraxis\": {\"colorbar\": {\"outlinewidth\": 0, \"ticks\": \"\"}}, \"colorscale\": {\"diverging\": [[0, \"#8e0152\"], [0.1, \"#c51b7d\"], [0.2, \"#de77ae\"], [0.3, \"#f1b6da\"], [0.4, \"#fde0ef\"], [0.5, \"#f7f7f7\"], [0.6, \"#e6f5d0\"], [0.7, \"#b8e186\"], [0.8, \"#7fbc41\"], [0.9, \"#4d9221\"], [1, \"#276419\"]], \"sequential\": [[0.0, \"#0d0887\"], [0.1111111111111111, \"#46039f\"], [0.2222222222222222, \"#7201a8\"], [0.3333333333333333, \"#9c179e\"], [0.4444444444444444, \"#bd3786\"], [0.5555555555555556, \"#d8576b\"], [0.6666666666666666, \"#ed7953\"], [0.7777777777777778, \"#fb9f3a\"], [0.8888888888888888, \"#fdca26\"], [1.0, \"#f0f921\"]], \"sequentialminus\": [[0.0, \"#0d0887\"], [0.1111111111111111, \"#46039f\"], [0.2222222222222222, \"#7201a8\"], [0.3333333333333333, \"#9c179e\"], [0.4444444444444444, \"#bd3786\"], [0.5555555555555556, \"#d8576b\"], [0.6666666666666666, \"#ed7953\"], [0.7777777777777778, \"#fb9f3a\"], [0.8888888888888888, \"#fdca26\"], [1.0, \"#f0f921\"]]}, \"colorway\": [\"#636efa\", \"#EF553B\", \"#00cc96\", \"#ab63fa\", \"#FFA15A\", \"#19d3f3\", \"#FF6692\", \"#B6E880\", \"#FF97FF\", \"#FECB52\"], \"font\": {\"color\": \"#2a3f5f\"}, \"geo\": {\"bgcolor\": \"white\", \"lakecolor\": \"white\", \"landcolor\": \"#E5ECF6\", \"showlakes\": true, \"showland\": true, \"subunitcolor\": \"white\"}, \"hoverlabel\": {\"align\": \"left\"}, \"hovermode\": \"closest\", \"mapbox\": {\"style\": \"light\"}, \"paper_bgcolor\": \"white\", \"plot_bgcolor\": \"#E5ECF6\", \"polar\": {\"angularaxis\": {\"gridcolor\": \"white\", \"linecolor\": \"white\", \"ticks\": \"\"}, \"bgcolor\": \"#E5ECF6\", \"radialaxis\": {\"gridcolor\": \"white\", \"linecolor\": \"white\", \"ticks\": \"\"}}, \"scene\": {\"xaxis\": {\"backgroundcolor\": \"#E5ECF6\", \"gridcolor\": \"white\", \"gridwidth\": 2, \"linecolor\": \"white\", \"showbackground\": true, \"ticks\": \"\", \"zerolinecolor\": \"white\"}, \"yaxis\": {\"backgroundcolor\": \"#E5ECF6\", \"gridcolor\": \"white\", \"gridwidth\": 2, \"linecolor\": \"white\", \"showbackground\": true, \"ticks\": \"\", \"zerolinecolor\": \"white\"}, \"zaxis\": {\"backgroundcolor\": \"#E5ECF6\", \"gridcolor\": \"white\", \"gridwidth\": 2, \"linecolor\": \"white\", \"showbackground\": true, \"ticks\": \"\", \"zerolinecolor\": \"white\"}}, \"shapedefaults\": {\"line\": {\"color\": \"#2a3f5f\"}}, \"ternary\": {\"aaxis\": {\"gridcolor\": \"white\", \"linecolor\": \"white\", \"ticks\": \"\"}, \"baxis\": {\"gridcolor\": \"white\", \"linecolor\": \"white\", \"ticks\": \"\"}, \"bgcolor\": \"#E5ECF6\", \"caxis\": {\"gridcolor\": \"white\", \"linecolor\": \"white\", \"ticks\": \"\"}}, \"title\": {\"x\": 0.05}, \"xaxis\": {\"automargin\": true, \"gridcolor\": \"white\", \"linecolor\": \"white\", \"ticks\": \"\", \"title\": {\"standoff\": 15}, \"zerolinecolor\": \"white\", \"zerolinewidth\": 2}, \"yaxis\": {\"automargin\": true, \"gridcolor\": \"white\", \"linecolor\": \"white\", \"ticks\": \"\", \"title\": {\"standoff\": 15}, \"zerolinecolor\": \"white\", \"zerolinewidth\": 2}}}, \"title\": {\"text\": \"Job Title Distribution\"}},\n",
              "                        {\"responsive\": true}\n",
              "                    ).then(function(){\n",
              "                            \n",
              "var gd = document.getElementById('351dbce0-6179-4b05-8536-5031b7900ff0');\n",
              "var x = new MutationObserver(function (mutations, observer) {{\n",
              "        var display = window.getComputedStyle(gd).display;\n",
              "        if (!display || display === 'none') {{\n",
              "            console.log([gd, 'removed!']);\n",
              "            Plotly.purge(gd);\n",
              "            observer.disconnect();\n",
              "        }}\n",
              "}});\n",
              "\n",
              "// Listen for the removal of the full notebook cells\n",
              "var notebookContainer = gd.closest('#notebook-container');\n",
              "if (notebookContainer) {{\n",
              "    x.observe(notebookContainer, {childList: true});\n",
              "}}\n",
              "\n",
              "// Listen for the clearing of the current output cell\n",
              "var outputEl = gd.closest('.output');\n",
              "if (outputEl) {{\n",
              "    x.observe(outputEl, {childList: true});\n",
              "}}\n",
              "\n",
              "                        })\n",
              "                };\n",
              "                \n",
              "            </script>\n",
              "        </div>\n",
              "</body>\n",
              "</html>"
            ]
          },
          "metadata": {
            "tags": []
          }
        }
      ]
    },
    {
      "cell_type": "code",
      "metadata": {
        "colab": {
          "base_uri": "https://localhost:8080/",
          "height": 542
        },
        "id": "2QK6KfveFoP-",
        "outputId": "0637b185-049e-4eb3-9c8f-d49ae2f4fbf7"
      },
      "source": [
        "title = pd.get_dummies(df, columns=['Gender']).groupby('Education').sum()\r\n",
        "\r\n",
        "female = pg.Pie(labels=title.index,values=title['Gender_Female'],name=\"Female\",hole=0.5,domain={'x': [0,0.46]})\r\n",
        "male = pg.Pie(labels=title.index,values=title['Gender_Male'],name=\"Male\",hole=0.5,domain={'x': [0.52,1]})\r\n",
        "\r\n",
        "layout = dict(title = 'Education Distribution', font=dict(size=14), legend=dict(orientation=\"h\"),\r\n",
        "              annotations = [dict(x=0.2, y=0.5, text='Female', showarrow=False, font=dict(size=20)),\r\n",
        "                             dict(x=0.8, y=0.5, text='Male', showarrow=False, font=dict(size=20)) ])\r\n",
        "\r\n",
        "fig = dict(data=[female, male], layout=layout)\r\n",
        "py.iplot(fig)"
      ],
      "execution_count": 241,
      "outputs": [
        {
          "output_type": "display_data",
          "data": {
            "text/html": [
              "<html>\n",
              "<head><meta charset=\"utf-8\" /></head>\n",
              "<body>\n",
              "    <div>\n",
              "            <script src=\"https://cdnjs.cloudflare.com/ajax/libs/mathjax/2.7.5/MathJax.js?config=TeX-AMS-MML_SVG\"></script><script type=\"text/javascript\">if (window.MathJax) {MathJax.Hub.Config({SVG: {font: \"STIX-Web\"}});}</script>\n",
              "                <script type=\"text/javascript\">window.PlotlyConfig = {MathJaxConfig: 'local'};</script>\n",
              "        <script src=\"https://cdn.plot.ly/plotly-latest.min.js\"></script>    \n",
              "            <div id=\"1c8c1058-ac72-4fd5-879c-22dddcc32274\" class=\"plotly-graph-div\" style=\"height:525px; width:100%;\"></div>\n",
              "            <script type=\"text/javascript\">\n",
              "                \n",
              "                    window.PLOTLYENV=window.PLOTLYENV || {};\n",
              "                    \n",
              "                if (document.getElementById(\"1c8c1058-ac72-4fd5-879c-22dddcc32274\")) {\n",
              "                    Plotly.newPlot(\n",
              "                        '1c8c1058-ac72-4fd5-879c-22dddcc32274',\n",
              "                        [{\"domain\": {\"x\": [0, 0.46]}, \"hole\": 0.5, \"labels\": [\"College\", \"High School\", \"Masters\", \"PhD\"], \"name\": \"Female\", \"type\": \"pie\", \"values\": [123, 132, 107, 106]}, {\"domain\": {\"x\": [0.52, 1]}, \"hole\": 0.5, \"labels\": [\"College\", \"High School\", \"Masters\", \"PhD\"], \"name\": \"Male\", \"type\": \"pie\", \"values\": [118, 133, 149, 132]}],\n",
              "                        {\"annotations\": [{\"font\": {\"size\": 20}, \"showarrow\": false, \"text\": \"Female\", \"x\": 0.2, \"y\": 0.5}, {\"font\": {\"size\": 20}, \"showarrow\": false, \"text\": \"Male\", \"x\": 0.8, \"y\": 0.5}], \"font\": {\"size\": 14}, \"legend\": {\"orientation\": \"h\"}, \"template\": {\"data\": {\"bar\": [{\"error_x\": {\"color\": \"#2a3f5f\"}, \"error_y\": {\"color\": \"#2a3f5f\"}, \"marker\": {\"line\": {\"color\": \"#E5ECF6\", \"width\": 0.5}}, \"type\": \"bar\"}], \"barpolar\": [{\"marker\": {\"line\": {\"color\": \"#E5ECF6\", \"width\": 0.5}}, \"type\": \"barpolar\"}], \"carpet\": [{\"aaxis\": {\"endlinecolor\": \"#2a3f5f\", \"gridcolor\": \"white\", \"linecolor\": \"white\", \"minorgridcolor\": \"white\", \"startlinecolor\": \"#2a3f5f\"}, \"baxis\": {\"endlinecolor\": \"#2a3f5f\", \"gridcolor\": \"white\", \"linecolor\": \"white\", \"minorgridcolor\": \"white\", \"startlinecolor\": \"#2a3f5f\"}, \"type\": \"carpet\"}], \"choropleth\": [{\"colorbar\": {\"outlinewidth\": 0, \"ticks\": \"\"}, \"type\": \"choropleth\"}], \"contour\": [{\"colorbar\": {\"outlinewidth\": 0, \"ticks\": \"\"}, \"colorscale\": [[0.0, \"#0d0887\"], [0.1111111111111111, \"#46039f\"], [0.2222222222222222, \"#7201a8\"], [0.3333333333333333, \"#9c179e\"], [0.4444444444444444, \"#bd3786\"], [0.5555555555555556, \"#d8576b\"], [0.6666666666666666, \"#ed7953\"], [0.7777777777777778, \"#fb9f3a\"], [0.8888888888888888, \"#fdca26\"], [1.0, \"#f0f921\"]], \"type\": \"contour\"}], \"contourcarpet\": [{\"colorbar\": {\"outlinewidth\": 0, \"ticks\": \"\"}, \"type\": \"contourcarpet\"}], \"heatmap\": [{\"colorbar\": {\"outlinewidth\": 0, \"ticks\": \"\"}, \"colorscale\": [[0.0, \"#0d0887\"], [0.1111111111111111, \"#46039f\"], [0.2222222222222222, \"#7201a8\"], [0.3333333333333333, \"#9c179e\"], [0.4444444444444444, \"#bd3786\"], [0.5555555555555556, \"#d8576b\"], [0.6666666666666666, \"#ed7953\"], [0.7777777777777778, \"#fb9f3a\"], [0.8888888888888888, \"#fdca26\"], [1.0, \"#f0f921\"]], \"type\": \"heatmap\"}], \"heatmapgl\": [{\"colorbar\": {\"outlinewidth\": 0, \"ticks\": \"\"}, \"colorscale\": [[0.0, \"#0d0887\"], [0.1111111111111111, \"#46039f\"], [0.2222222222222222, \"#7201a8\"], [0.3333333333333333, \"#9c179e\"], [0.4444444444444444, \"#bd3786\"], [0.5555555555555556, \"#d8576b\"], [0.6666666666666666, \"#ed7953\"], [0.7777777777777778, \"#fb9f3a\"], [0.8888888888888888, \"#fdca26\"], [1.0, \"#f0f921\"]], \"type\": \"heatmapgl\"}], \"histogram\": [{\"marker\": {\"colorbar\": {\"outlinewidth\": 0, \"ticks\": \"\"}}, \"type\": \"histogram\"}], \"histogram2d\": [{\"colorbar\": {\"outlinewidth\": 0, \"ticks\": \"\"}, \"colorscale\": [[0.0, \"#0d0887\"], [0.1111111111111111, \"#46039f\"], [0.2222222222222222, \"#7201a8\"], [0.3333333333333333, \"#9c179e\"], [0.4444444444444444, \"#bd3786\"], [0.5555555555555556, \"#d8576b\"], [0.6666666666666666, \"#ed7953\"], [0.7777777777777778, \"#fb9f3a\"], [0.8888888888888888, \"#fdca26\"], [1.0, \"#f0f921\"]], \"type\": \"histogram2d\"}], \"histogram2dcontour\": [{\"colorbar\": {\"outlinewidth\": 0, \"ticks\": \"\"}, \"colorscale\": [[0.0, \"#0d0887\"], [0.1111111111111111, \"#46039f\"], [0.2222222222222222, \"#7201a8\"], [0.3333333333333333, \"#9c179e\"], [0.4444444444444444, \"#bd3786\"], [0.5555555555555556, \"#d8576b\"], [0.6666666666666666, \"#ed7953\"], [0.7777777777777778, \"#fb9f3a\"], [0.8888888888888888, \"#fdca26\"], [1.0, \"#f0f921\"]], \"type\": \"histogram2dcontour\"}], \"mesh3d\": [{\"colorbar\": {\"outlinewidth\": 0, \"ticks\": \"\"}, \"type\": \"mesh3d\"}], \"parcoords\": [{\"line\": {\"colorbar\": {\"outlinewidth\": 0, \"ticks\": \"\"}}, \"type\": \"parcoords\"}], \"pie\": [{\"automargin\": true, \"type\": \"pie\"}], \"scatter\": [{\"marker\": {\"colorbar\": {\"outlinewidth\": 0, \"ticks\": \"\"}}, \"type\": \"scatter\"}], \"scatter3d\": [{\"line\": {\"colorbar\": {\"outlinewidth\": 0, \"ticks\": \"\"}}, \"marker\": {\"colorbar\": {\"outlinewidth\": 0, \"ticks\": \"\"}}, \"type\": \"scatter3d\"}], \"scattercarpet\": [{\"marker\": {\"colorbar\": {\"outlinewidth\": 0, \"ticks\": \"\"}}, \"type\": \"scattercarpet\"}], \"scattergeo\": [{\"marker\": {\"colorbar\": {\"outlinewidth\": 0, \"ticks\": \"\"}}, \"type\": \"scattergeo\"}], \"scattergl\": [{\"marker\": {\"colorbar\": {\"outlinewidth\": 0, \"ticks\": \"\"}}, \"type\": \"scattergl\"}], \"scattermapbox\": [{\"marker\": {\"colorbar\": {\"outlinewidth\": 0, \"ticks\": \"\"}}, \"type\": \"scattermapbox\"}], \"scatterpolar\": [{\"marker\": {\"colorbar\": {\"outlinewidth\": 0, \"ticks\": \"\"}}, \"type\": \"scatterpolar\"}], \"scatterpolargl\": [{\"marker\": {\"colorbar\": {\"outlinewidth\": 0, \"ticks\": \"\"}}, \"type\": \"scatterpolargl\"}], \"scatterternary\": [{\"marker\": {\"colorbar\": {\"outlinewidth\": 0, \"ticks\": \"\"}}, \"type\": \"scatterternary\"}], \"surface\": [{\"colorbar\": {\"outlinewidth\": 0, \"ticks\": \"\"}, \"colorscale\": [[0.0, \"#0d0887\"], [0.1111111111111111, \"#46039f\"], [0.2222222222222222, \"#7201a8\"], [0.3333333333333333, \"#9c179e\"], [0.4444444444444444, \"#bd3786\"], [0.5555555555555556, \"#d8576b\"], [0.6666666666666666, \"#ed7953\"], [0.7777777777777778, \"#fb9f3a\"], [0.8888888888888888, \"#fdca26\"], [1.0, \"#f0f921\"]], \"type\": \"surface\"}], \"table\": [{\"cells\": {\"fill\": {\"color\": \"#EBF0F8\"}, \"line\": {\"color\": \"white\"}}, \"header\": {\"fill\": {\"color\": \"#C8D4E3\"}, \"line\": {\"color\": \"white\"}}, \"type\": \"table\"}]}, \"layout\": {\"annotationdefaults\": {\"arrowcolor\": \"#2a3f5f\", \"arrowhead\": 0, \"arrowwidth\": 1}, \"coloraxis\": {\"colorbar\": {\"outlinewidth\": 0, \"ticks\": \"\"}}, \"colorscale\": {\"diverging\": [[0, \"#8e0152\"], [0.1, \"#c51b7d\"], [0.2, \"#de77ae\"], [0.3, \"#f1b6da\"], [0.4, \"#fde0ef\"], [0.5, \"#f7f7f7\"], [0.6, \"#e6f5d0\"], [0.7, \"#b8e186\"], [0.8, \"#7fbc41\"], [0.9, \"#4d9221\"], [1, \"#276419\"]], \"sequential\": [[0.0, \"#0d0887\"], [0.1111111111111111, \"#46039f\"], [0.2222222222222222, \"#7201a8\"], [0.3333333333333333, \"#9c179e\"], [0.4444444444444444, \"#bd3786\"], [0.5555555555555556, \"#d8576b\"], [0.6666666666666666, \"#ed7953\"], [0.7777777777777778, \"#fb9f3a\"], [0.8888888888888888, \"#fdca26\"], [1.0, \"#f0f921\"]], \"sequentialminus\": [[0.0, \"#0d0887\"], [0.1111111111111111, \"#46039f\"], [0.2222222222222222, \"#7201a8\"], [0.3333333333333333, \"#9c179e\"], [0.4444444444444444, \"#bd3786\"], [0.5555555555555556, \"#d8576b\"], [0.6666666666666666, \"#ed7953\"], [0.7777777777777778, \"#fb9f3a\"], [0.8888888888888888, \"#fdca26\"], [1.0, \"#f0f921\"]]}, \"colorway\": [\"#636efa\", \"#EF553B\", \"#00cc96\", \"#ab63fa\", \"#FFA15A\", \"#19d3f3\", \"#FF6692\", \"#B6E880\", \"#FF97FF\", \"#FECB52\"], \"font\": {\"color\": \"#2a3f5f\"}, \"geo\": {\"bgcolor\": \"white\", \"lakecolor\": \"white\", \"landcolor\": \"#E5ECF6\", \"showlakes\": true, \"showland\": true, \"subunitcolor\": \"white\"}, \"hoverlabel\": {\"align\": \"left\"}, \"hovermode\": \"closest\", \"mapbox\": {\"style\": \"light\"}, \"paper_bgcolor\": \"white\", \"plot_bgcolor\": \"#E5ECF6\", \"polar\": {\"angularaxis\": {\"gridcolor\": \"white\", \"linecolor\": \"white\", \"ticks\": \"\"}, \"bgcolor\": \"#E5ECF6\", \"radialaxis\": {\"gridcolor\": \"white\", \"linecolor\": \"white\", \"ticks\": \"\"}}, \"scene\": {\"xaxis\": {\"backgroundcolor\": \"#E5ECF6\", \"gridcolor\": \"white\", \"gridwidth\": 2, \"linecolor\": \"white\", \"showbackground\": true, \"ticks\": \"\", \"zerolinecolor\": \"white\"}, \"yaxis\": {\"backgroundcolor\": \"#E5ECF6\", \"gridcolor\": \"white\", \"gridwidth\": 2, \"linecolor\": \"white\", \"showbackground\": true, \"ticks\": \"\", \"zerolinecolor\": \"white\"}, \"zaxis\": {\"backgroundcolor\": \"#E5ECF6\", \"gridcolor\": \"white\", \"gridwidth\": 2, \"linecolor\": \"white\", \"showbackground\": true, \"ticks\": \"\", \"zerolinecolor\": \"white\"}}, \"shapedefaults\": {\"line\": {\"color\": \"#2a3f5f\"}}, \"ternary\": {\"aaxis\": {\"gridcolor\": \"white\", \"linecolor\": \"white\", \"ticks\": \"\"}, \"baxis\": {\"gridcolor\": \"white\", \"linecolor\": \"white\", \"ticks\": \"\"}, \"bgcolor\": \"#E5ECF6\", \"caxis\": {\"gridcolor\": \"white\", \"linecolor\": \"white\", \"ticks\": \"\"}}, \"title\": {\"x\": 0.05}, \"xaxis\": {\"automargin\": true, \"gridcolor\": \"white\", \"linecolor\": \"white\", \"ticks\": \"\", \"title\": {\"standoff\": 15}, \"zerolinecolor\": \"white\", \"zerolinewidth\": 2}, \"yaxis\": {\"automargin\": true, \"gridcolor\": \"white\", \"linecolor\": \"white\", \"ticks\": \"\", \"title\": {\"standoff\": 15}, \"zerolinecolor\": \"white\", \"zerolinewidth\": 2}}}, \"title\": {\"text\": \"Education Distribution\"}},\n",
              "                        {\"responsive\": true}\n",
              "                    ).then(function(){\n",
              "                            \n",
              "var gd = document.getElementById('1c8c1058-ac72-4fd5-879c-22dddcc32274');\n",
              "var x = new MutationObserver(function (mutations, observer) {{\n",
              "        var display = window.getComputedStyle(gd).display;\n",
              "        if (!display || display === 'none') {{\n",
              "            console.log([gd, 'removed!']);\n",
              "            Plotly.purge(gd);\n",
              "            observer.disconnect();\n",
              "        }}\n",
              "}});\n",
              "\n",
              "// Listen for the removal of the full notebook cells\n",
              "var notebookContainer = gd.closest('#notebook-container');\n",
              "if (notebookContainer) {{\n",
              "    x.observe(notebookContainer, {childList: true});\n",
              "}}\n",
              "\n",
              "// Listen for the clearing of the current output cell\n",
              "var outputEl = gd.closest('.output');\n",
              "if (outputEl) {{\n",
              "    x.observe(outputEl, {childList: true});\n",
              "}}\n",
              "\n",
              "                        })\n",
              "                };\n",
              "                \n",
              "            </script>\n",
              "        </div>\n",
              "</body>\n",
              "</html>"
            ]
          },
          "metadata": {
            "tags": []
          }
        }
      ]
    },
    {
      "cell_type": "code",
      "metadata": {
        "colab": {
          "base_uri": "https://localhost:8080/",
          "height": 542
        },
        "id": "4fsgwXT5GNH-",
        "outputId": "e47f3e96-2cbc-4f5d-e704-ed84304d01a9"
      },
      "source": [
        "title = pd.get_dummies(df, columns=['Gender']).groupby('Seniority').sum()\r\n",
        "\r\n",
        "female = pg.Pie(labels=title.index,values=title['Gender_Female'],name=\"Female\",hole=0.5,domain={'x': [0,0.46]})\r\n",
        "male = pg.Pie(labels=title.index,values=title['Gender_Male'],name=\"Male\",hole=0.5,domain={'x': [0.52,1]})\r\n",
        "\r\n",
        "layout = dict(title = 'Seniority Distribution', font=dict(size=14), legend=dict(orientation=\"h\"),\r\n",
        "              annotations = [dict(x=0.2, y=0.5, text='Female', showarrow=False, font=dict(size=20)),\r\n",
        "                             dict(x=0.8, y=0.5, text='Male', showarrow=False, font=dict(size=20)) ])\r\n",
        "\r\n",
        "fig = dict(data=[female, male], layout=layout)\r\n",
        "py.iplot(fig)"
      ],
      "execution_count": 242,
      "outputs": [
        {
          "output_type": "display_data",
          "data": {
            "text/html": [
              "<html>\n",
              "<head><meta charset=\"utf-8\" /></head>\n",
              "<body>\n",
              "    <div>\n",
              "            <script src=\"https://cdnjs.cloudflare.com/ajax/libs/mathjax/2.7.5/MathJax.js?config=TeX-AMS-MML_SVG\"></script><script type=\"text/javascript\">if (window.MathJax) {MathJax.Hub.Config({SVG: {font: \"STIX-Web\"}});}</script>\n",
              "                <script type=\"text/javascript\">window.PlotlyConfig = {MathJaxConfig: 'local'};</script>\n",
              "        <script src=\"https://cdn.plot.ly/plotly-latest.min.js\"></script>    \n",
              "            <div id=\"8992c8bf-0650-462a-8ae0-bd8f36354f66\" class=\"plotly-graph-div\" style=\"height:525px; width:100%;\"></div>\n",
              "            <script type=\"text/javascript\">\n",
              "                \n",
              "                    window.PLOTLYENV=window.PLOTLYENV || {};\n",
              "                    \n",
              "                if (document.getElementById(\"8992c8bf-0650-462a-8ae0-bd8f36354f66\")) {\n",
              "                    Plotly.newPlot(\n",
              "                        '8992c8bf-0650-462a-8ae0-bd8f36354f66',\n",
              "                        [{\"domain\": {\"x\": [0, 0.46]}, \"hole\": 0.5, \"labels\": [1, 2, 3, 4, 5], \"name\": \"Female\", \"type\": \"pie\", \"values\": [83, 102, 106, 80, 97]}, {\"domain\": {\"x\": [0.52, 1]}, \"hole\": 0.5, \"labels\": [1, 2, 3, 4, 5], \"name\": \"Male\", \"type\": \"pie\", \"values\": [112, 107, 113, 104, 96]}],\n",
              "                        {\"annotations\": [{\"font\": {\"size\": 20}, \"showarrow\": false, \"text\": \"Female\", \"x\": 0.2, \"y\": 0.5}, {\"font\": {\"size\": 20}, \"showarrow\": false, \"text\": \"Male\", \"x\": 0.8, \"y\": 0.5}], \"font\": {\"size\": 14}, \"legend\": {\"orientation\": \"h\"}, \"template\": {\"data\": {\"bar\": [{\"error_x\": {\"color\": \"#2a3f5f\"}, \"error_y\": {\"color\": \"#2a3f5f\"}, \"marker\": {\"line\": {\"color\": \"#E5ECF6\", \"width\": 0.5}}, \"type\": \"bar\"}], \"barpolar\": [{\"marker\": {\"line\": {\"color\": \"#E5ECF6\", \"width\": 0.5}}, \"type\": \"barpolar\"}], \"carpet\": [{\"aaxis\": {\"endlinecolor\": \"#2a3f5f\", \"gridcolor\": \"white\", \"linecolor\": \"white\", \"minorgridcolor\": \"white\", \"startlinecolor\": \"#2a3f5f\"}, \"baxis\": {\"endlinecolor\": \"#2a3f5f\", \"gridcolor\": \"white\", \"linecolor\": \"white\", \"minorgridcolor\": \"white\", \"startlinecolor\": \"#2a3f5f\"}, \"type\": \"carpet\"}], \"choropleth\": [{\"colorbar\": {\"outlinewidth\": 0, \"ticks\": \"\"}, \"type\": \"choropleth\"}], \"contour\": [{\"colorbar\": {\"outlinewidth\": 0, \"ticks\": \"\"}, \"colorscale\": [[0.0, \"#0d0887\"], [0.1111111111111111, \"#46039f\"], [0.2222222222222222, \"#7201a8\"], [0.3333333333333333, \"#9c179e\"], [0.4444444444444444, \"#bd3786\"], [0.5555555555555556, \"#d8576b\"], [0.6666666666666666, \"#ed7953\"], [0.7777777777777778, \"#fb9f3a\"], [0.8888888888888888, \"#fdca26\"], [1.0, \"#f0f921\"]], \"type\": \"contour\"}], \"contourcarpet\": [{\"colorbar\": {\"outlinewidth\": 0, \"ticks\": \"\"}, \"type\": \"contourcarpet\"}], \"heatmap\": [{\"colorbar\": {\"outlinewidth\": 0, \"ticks\": \"\"}, \"colorscale\": [[0.0, \"#0d0887\"], [0.1111111111111111, \"#46039f\"], [0.2222222222222222, \"#7201a8\"], [0.3333333333333333, \"#9c179e\"], [0.4444444444444444, \"#bd3786\"], [0.5555555555555556, \"#d8576b\"], [0.6666666666666666, \"#ed7953\"], [0.7777777777777778, \"#fb9f3a\"], [0.8888888888888888, \"#fdca26\"], [1.0, \"#f0f921\"]], \"type\": \"heatmap\"}], \"heatmapgl\": [{\"colorbar\": {\"outlinewidth\": 0, \"ticks\": \"\"}, \"colorscale\": [[0.0, \"#0d0887\"], [0.1111111111111111, \"#46039f\"], [0.2222222222222222, \"#7201a8\"], [0.3333333333333333, \"#9c179e\"], [0.4444444444444444, \"#bd3786\"], [0.5555555555555556, \"#d8576b\"], [0.6666666666666666, \"#ed7953\"], [0.7777777777777778, \"#fb9f3a\"], [0.8888888888888888, \"#fdca26\"], [1.0, \"#f0f921\"]], \"type\": \"heatmapgl\"}], \"histogram\": [{\"marker\": {\"colorbar\": {\"outlinewidth\": 0, \"ticks\": \"\"}}, \"type\": \"histogram\"}], \"histogram2d\": [{\"colorbar\": {\"outlinewidth\": 0, \"ticks\": \"\"}, \"colorscale\": [[0.0, \"#0d0887\"], [0.1111111111111111, \"#46039f\"], [0.2222222222222222, \"#7201a8\"], [0.3333333333333333, \"#9c179e\"], [0.4444444444444444, \"#bd3786\"], [0.5555555555555556, \"#d8576b\"], [0.6666666666666666, \"#ed7953\"], [0.7777777777777778, \"#fb9f3a\"], [0.8888888888888888, \"#fdca26\"], [1.0, \"#f0f921\"]], \"type\": \"histogram2d\"}], \"histogram2dcontour\": [{\"colorbar\": {\"outlinewidth\": 0, \"ticks\": \"\"}, \"colorscale\": [[0.0, \"#0d0887\"], [0.1111111111111111, \"#46039f\"], [0.2222222222222222, \"#7201a8\"], [0.3333333333333333, \"#9c179e\"], [0.4444444444444444, \"#bd3786\"], [0.5555555555555556, \"#d8576b\"], [0.6666666666666666, \"#ed7953\"], [0.7777777777777778, \"#fb9f3a\"], [0.8888888888888888, \"#fdca26\"], [1.0, \"#f0f921\"]], \"type\": \"histogram2dcontour\"}], \"mesh3d\": [{\"colorbar\": {\"outlinewidth\": 0, \"ticks\": \"\"}, \"type\": \"mesh3d\"}], \"parcoords\": [{\"line\": {\"colorbar\": {\"outlinewidth\": 0, \"ticks\": \"\"}}, \"type\": \"parcoords\"}], \"pie\": [{\"automargin\": true, \"type\": \"pie\"}], \"scatter\": [{\"marker\": {\"colorbar\": {\"outlinewidth\": 0, \"ticks\": \"\"}}, \"type\": \"scatter\"}], \"scatter3d\": [{\"line\": {\"colorbar\": {\"outlinewidth\": 0, \"ticks\": \"\"}}, \"marker\": {\"colorbar\": {\"outlinewidth\": 0, \"ticks\": \"\"}}, \"type\": \"scatter3d\"}], \"scattercarpet\": [{\"marker\": {\"colorbar\": {\"outlinewidth\": 0, \"ticks\": \"\"}}, \"type\": \"scattercarpet\"}], \"scattergeo\": [{\"marker\": {\"colorbar\": {\"outlinewidth\": 0, \"ticks\": \"\"}}, \"type\": \"scattergeo\"}], \"scattergl\": [{\"marker\": {\"colorbar\": {\"outlinewidth\": 0, \"ticks\": \"\"}}, \"type\": \"scattergl\"}], \"scattermapbox\": [{\"marker\": {\"colorbar\": {\"outlinewidth\": 0, \"ticks\": \"\"}}, \"type\": \"scattermapbox\"}], \"scatterpolar\": [{\"marker\": {\"colorbar\": {\"outlinewidth\": 0, \"ticks\": \"\"}}, \"type\": \"scatterpolar\"}], \"scatterpolargl\": [{\"marker\": {\"colorbar\": {\"outlinewidth\": 0, \"ticks\": \"\"}}, \"type\": \"scatterpolargl\"}], \"scatterternary\": [{\"marker\": {\"colorbar\": {\"outlinewidth\": 0, \"ticks\": \"\"}}, \"type\": \"scatterternary\"}], \"surface\": [{\"colorbar\": {\"outlinewidth\": 0, \"ticks\": \"\"}, \"colorscale\": [[0.0, \"#0d0887\"], [0.1111111111111111, \"#46039f\"], [0.2222222222222222, \"#7201a8\"], [0.3333333333333333, \"#9c179e\"], [0.4444444444444444, \"#bd3786\"], [0.5555555555555556, \"#d8576b\"], [0.6666666666666666, \"#ed7953\"], [0.7777777777777778, \"#fb9f3a\"], [0.8888888888888888, \"#fdca26\"], [1.0, \"#f0f921\"]], \"type\": \"surface\"}], \"table\": [{\"cells\": {\"fill\": {\"color\": \"#EBF0F8\"}, \"line\": {\"color\": \"white\"}}, \"header\": {\"fill\": {\"color\": \"#C8D4E3\"}, \"line\": {\"color\": \"white\"}}, \"type\": \"table\"}]}, \"layout\": {\"annotationdefaults\": {\"arrowcolor\": \"#2a3f5f\", \"arrowhead\": 0, \"arrowwidth\": 1}, \"coloraxis\": {\"colorbar\": {\"outlinewidth\": 0, \"ticks\": \"\"}}, \"colorscale\": {\"diverging\": [[0, \"#8e0152\"], [0.1, \"#c51b7d\"], [0.2, \"#de77ae\"], [0.3, \"#f1b6da\"], [0.4, \"#fde0ef\"], [0.5, \"#f7f7f7\"], [0.6, \"#e6f5d0\"], [0.7, \"#b8e186\"], [0.8, \"#7fbc41\"], [0.9, \"#4d9221\"], [1, \"#276419\"]], \"sequential\": [[0.0, \"#0d0887\"], [0.1111111111111111, \"#46039f\"], [0.2222222222222222, \"#7201a8\"], [0.3333333333333333, \"#9c179e\"], [0.4444444444444444, \"#bd3786\"], [0.5555555555555556, \"#d8576b\"], [0.6666666666666666, \"#ed7953\"], [0.7777777777777778, \"#fb9f3a\"], [0.8888888888888888, \"#fdca26\"], [1.0, \"#f0f921\"]], \"sequentialminus\": [[0.0, \"#0d0887\"], [0.1111111111111111, \"#46039f\"], [0.2222222222222222, \"#7201a8\"], [0.3333333333333333, \"#9c179e\"], [0.4444444444444444, \"#bd3786\"], [0.5555555555555556, \"#d8576b\"], [0.6666666666666666, \"#ed7953\"], [0.7777777777777778, \"#fb9f3a\"], [0.8888888888888888, \"#fdca26\"], [1.0, \"#f0f921\"]]}, \"colorway\": [\"#636efa\", \"#EF553B\", \"#00cc96\", \"#ab63fa\", \"#FFA15A\", \"#19d3f3\", \"#FF6692\", \"#B6E880\", \"#FF97FF\", \"#FECB52\"], \"font\": {\"color\": \"#2a3f5f\"}, \"geo\": {\"bgcolor\": \"white\", \"lakecolor\": \"white\", \"landcolor\": \"#E5ECF6\", \"showlakes\": true, \"showland\": true, \"subunitcolor\": \"white\"}, \"hoverlabel\": {\"align\": \"left\"}, \"hovermode\": \"closest\", \"mapbox\": {\"style\": \"light\"}, \"paper_bgcolor\": \"white\", \"plot_bgcolor\": \"#E5ECF6\", \"polar\": {\"angularaxis\": {\"gridcolor\": \"white\", \"linecolor\": \"white\", \"ticks\": \"\"}, \"bgcolor\": \"#E5ECF6\", \"radialaxis\": {\"gridcolor\": \"white\", \"linecolor\": \"white\", \"ticks\": \"\"}}, \"scene\": {\"xaxis\": {\"backgroundcolor\": \"#E5ECF6\", \"gridcolor\": \"white\", \"gridwidth\": 2, \"linecolor\": \"white\", \"showbackground\": true, \"ticks\": \"\", \"zerolinecolor\": \"white\"}, \"yaxis\": {\"backgroundcolor\": \"#E5ECF6\", \"gridcolor\": \"white\", \"gridwidth\": 2, \"linecolor\": \"white\", \"showbackground\": true, \"ticks\": \"\", \"zerolinecolor\": \"white\"}, \"zaxis\": {\"backgroundcolor\": \"#E5ECF6\", \"gridcolor\": \"white\", \"gridwidth\": 2, \"linecolor\": \"white\", \"showbackground\": true, \"ticks\": \"\", \"zerolinecolor\": \"white\"}}, \"shapedefaults\": {\"line\": {\"color\": \"#2a3f5f\"}}, \"ternary\": {\"aaxis\": {\"gridcolor\": \"white\", \"linecolor\": \"white\", \"ticks\": \"\"}, \"baxis\": {\"gridcolor\": \"white\", \"linecolor\": \"white\", \"ticks\": \"\"}, \"bgcolor\": \"#E5ECF6\", \"caxis\": {\"gridcolor\": \"white\", \"linecolor\": \"white\", \"ticks\": \"\"}}, \"title\": {\"x\": 0.05}, \"xaxis\": {\"automargin\": true, \"gridcolor\": \"white\", \"linecolor\": \"white\", \"ticks\": \"\", \"title\": {\"standoff\": 15}, \"zerolinecolor\": \"white\", \"zerolinewidth\": 2}, \"yaxis\": {\"automargin\": true, \"gridcolor\": \"white\", \"linecolor\": \"white\", \"ticks\": \"\", \"title\": {\"standoff\": 15}, \"zerolinecolor\": \"white\", \"zerolinewidth\": 2}}}, \"title\": {\"text\": \"Seniority Distribution\"}},\n",
              "                        {\"responsive\": true}\n",
              "                    ).then(function(){\n",
              "                            \n",
              "var gd = document.getElementById('8992c8bf-0650-462a-8ae0-bd8f36354f66');\n",
              "var x = new MutationObserver(function (mutations, observer) {{\n",
              "        var display = window.getComputedStyle(gd).display;\n",
              "        if (!display || display === 'none') {{\n",
              "            console.log([gd, 'removed!']);\n",
              "            Plotly.purge(gd);\n",
              "            observer.disconnect();\n",
              "        }}\n",
              "}});\n",
              "\n",
              "// Listen for the removal of the full notebook cells\n",
              "var notebookContainer = gd.closest('#notebook-container');\n",
              "if (notebookContainer) {{\n",
              "    x.observe(notebookContainer, {childList: true});\n",
              "}}\n",
              "\n",
              "// Listen for the clearing of the current output cell\n",
              "var outputEl = gd.closest('.output');\n",
              "if (outputEl) {{\n",
              "    x.observe(outputEl, {childList: true});\n",
              "}}\n",
              "\n",
              "                        })\n",
              "                };\n",
              "                \n",
              "            </script>\n",
              "        </div>\n",
              "</body>\n",
              "</html>"
            ]
          },
          "metadata": {
            "tags": []
          }
        }
      ]
    },
    {
      "cell_type": "markdown",
      "metadata": {
        "id": "U9VdzI0EGrSq"
      },
      "source": [
        "### **Gender Pay Gap On Basis of Age**"
      ]
    },
    {
      "cell_type": "code",
      "metadata": {
        "colab": {
          "base_uri": "https://localhost:8080/"
        },
        "id": "i_y8w8sgGcX1",
        "outputId": "a4cc5d85-0412-4fe3-9912-65b28504a1a1"
      },
      "source": [
        "df.Age.min()"
      ],
      "execution_count": 243,
      "outputs": [
        {
          "output_type": "execute_result",
          "data": {
            "text/plain": [
              "18"
            ]
          },
          "metadata": {
            "tags": []
          },
          "execution_count": 243
        }
      ]
    },
    {
      "cell_type": "code",
      "metadata": {
        "colab": {
          "base_uri": "https://localhost:8080/"
        },
        "id": "OaV5ud0aG9l7",
        "outputId": "1a36c62d-6a7e-4882-f8d4-45e8aca8ebef"
      },
      "source": [
        "df.Age.max()"
      ],
      "execution_count": 244,
      "outputs": [
        {
          "output_type": "execute_result",
          "data": {
            "text/plain": [
              "65"
            ]
          },
          "metadata": {
            "tags": []
          },
          "execution_count": 244
        }
      ]
    },
    {
      "cell_type": "markdown",
      "metadata": {
        "id": "2I6OQSFYHAzo"
      },
      "source": [
        "Age"
      ]
    },
    {
      "cell_type": "code",
      "metadata": {
        "colab": {
          "base_uri": "https://localhost:8080/",
          "height": 542
        },
        "id": "kyEPajI2R_92",
        "outputId": "e13ad96e-8e64-4040-eda7-9181646e0002"
      },
      "source": [
        "age_female = []\r\n",
        "age_male = []\r\n",
        "for i in range(len(df)):\r\n",
        "    if df.iloc[i,]['Gender'] == 'Male':\r\n",
        "        age_male.append(df.iloc[i,]['Age'])\r\n",
        "    else:\r\n",
        "        age_female.append(df.iloc[i,]['Age'])\r\n",
        "\r\n",
        "hist_data = [age_female, age_male]\r\n",
        "\r\n",
        "group_labels = ['Female', 'Male']\r\n",
        "colors = ['#835AF1', '#333F44']\r\n",
        "\r\n",
        "fig = ff.create_distplot(hist_data, group_labels, colors=colors,\r\n",
        "                         show_curve=True, show_hist=False)\r\n",
        "\r\n",
        "fig.update(layout_title_text='Distribution of Age')\r\n",
        "fig.show()"
      ],
      "execution_count": 245,
      "outputs": [
        {
          "output_type": "display_data",
          "data": {
            "text/html": [
              "<html>\n",
              "<head><meta charset=\"utf-8\" /></head>\n",
              "<body>\n",
              "    <div>\n",
              "            <script src=\"https://cdnjs.cloudflare.com/ajax/libs/mathjax/2.7.5/MathJax.js?config=TeX-AMS-MML_SVG\"></script><script type=\"text/javascript\">if (window.MathJax) {MathJax.Hub.Config({SVG: {font: \"STIX-Web\"}});}</script>\n",
              "                <script type=\"text/javascript\">window.PlotlyConfig = {MathJaxConfig: 'local'};</script>\n",
              "        <script src=\"https://cdn.plot.ly/plotly-latest.min.js\"></script>    \n",
              "            <div id=\"4d995426-4d64-477c-a521-7a168d547c5b\" class=\"plotly-graph-div\" style=\"height:525px; width:100%;\"></div>\n",
              "            <script type=\"text/javascript\">\n",
              "                \n",
              "                    window.PLOTLYENV=window.PLOTLYENV || {};\n",
              "                    \n",
              "                if (document.getElementById(\"4d995426-4d64-477c-a521-7a168d547c5b\")) {\n",
              "                    Plotly.newPlot(\n",
              "                        '4d995426-4d64-477c-a521-7a168d547c5b',\n",
              "                        [{\"legendgroup\": \"Female\", \"marker\": {\"color\": \"#835AF1\"}, \"mode\": \"lines\", \"name\": \"Female\", \"showlegend\": true, \"type\": \"scatter\", \"x\": [18.0, 18.094, 18.188, 18.282, 18.376, 18.47, 18.564, 18.658, 18.752, 18.846, 18.94, 19.034, 19.128, 19.222, 19.316, 19.41, 19.504, 19.598, 19.692, 19.786, 19.88, 19.974, 20.068, 20.162, 20.256, 20.35, 20.444, 20.538, 20.632, 20.726, 20.82, 20.914, 21.008, 21.102, 21.196, 21.29, 21.384, 21.478, 21.572, 21.666, 21.759999999999998, 21.854, 21.948, 22.042, 22.136, 22.23, 22.323999999999998, 22.418, 22.512, 22.606, 22.7, 22.794, 22.887999999999998, 22.982, 23.076, 23.17, 23.264, 23.358, 23.451999999999998, 23.546, 23.64, 23.734, 23.828, 23.922, 24.016, 24.11, 24.204, 24.298000000000002, 24.392, 24.486, 24.58, 24.674, 24.768, 24.862000000000002, 24.956, 25.05, 25.144, 25.238, 25.332, 25.426000000000002, 25.52, 25.614, 25.708, 25.802, 25.896, 25.990000000000002, 26.084, 26.178, 26.272, 26.366, 26.46, 26.554000000000002, 26.648, 26.742, 26.836, 26.93, 27.024, 27.118000000000002, 27.212, 27.305999999999997, 27.4, 27.494, 27.588, 27.682000000000002, 27.776, 27.869999999999997, 27.964, 28.058, 28.152, 28.246000000000002, 28.34, 28.433999999999997, 28.528, 28.622, 28.716, 28.810000000000002, 28.904, 28.997999999999998, 29.092, 29.186, 29.28, 29.374000000000002, 29.468, 29.561999999999998, 29.656, 29.75, 29.844, 29.938000000000002, 30.032, 30.125999999999998, 30.22, 30.314, 30.408, 30.502000000000002, 30.596, 30.689999999999998, 30.784, 30.878, 30.972, 31.066000000000003, 31.16, 31.253999999999998, 31.348, 31.442, 31.536, 31.630000000000003, 31.724, 31.817999999999998, 31.912, 32.006, 32.1, 32.194, 32.288, 32.382, 32.476, 32.57, 32.664, 32.757999999999996, 32.852000000000004, 32.946, 33.04, 33.134, 33.228, 33.322, 33.416, 33.51, 33.604, 33.698, 33.792, 33.885999999999996, 33.980000000000004, 34.074, 34.168, 34.262, 34.356, 34.45, 34.544, 34.638000000000005, 34.732, 34.826, 34.92, 35.013999999999996, 35.108000000000004, 35.202, 35.296, 35.39, 35.484, 35.578, 35.672, 35.766, 35.86, 35.954, 36.048, 36.141999999999996, 36.236000000000004, 36.33, 36.424, 36.518, 36.611999999999995, 36.706, 36.8, 36.894, 36.988, 37.082, 37.176, 37.269999999999996, 37.364000000000004, 37.458, 37.552, 37.646, 37.739999999999995, 37.834, 37.928, 38.022, 38.116, 38.21, 38.304, 38.397999999999996, 38.492000000000004, 38.586, 38.68, 38.774, 38.867999999999995, 38.962, 39.056, 39.15, 39.244, 39.338, 39.432, 39.525999999999996, 39.620000000000005, 39.714, 39.808, 39.902, 39.995999999999995, 40.09, 40.184, 40.278, 40.372, 40.466, 40.56, 40.653999999999996, 40.748000000000005, 40.842, 40.936, 41.03, 41.123999999999995, 41.218, 41.312, 41.406, 41.5, 41.594, 41.688, 41.782, 41.876000000000005, 41.97, 42.064, 42.158, 42.251999999999995, 42.346000000000004, 42.44, 42.534, 42.628, 42.722, 42.816, 42.91, 43.004000000000005, 43.098, 43.192, 43.286, 43.379999999999995, 43.474000000000004, 43.568, 43.662, 43.756, 43.85, 43.944, 44.038, 44.132000000000005, 44.226, 44.32, 44.414, 44.507999999999996, 44.602000000000004, 44.696, 44.79, 44.884, 44.978, 45.072, 45.166, 45.260000000000005, 45.354, 45.448, 45.542, 45.635999999999996, 45.730000000000004, 45.824, 45.918, 46.012, 46.106, 46.2, 46.294, 46.388000000000005, 46.482, 46.576, 46.67, 46.763999999999996, 46.858000000000004, 46.952, 47.046, 47.14, 47.234, 47.328, 47.422, 47.516, 47.61, 47.704, 47.798, 47.891999999999996, 47.986000000000004, 48.08, 48.174, 48.268, 48.361999999999995, 48.456, 48.55, 48.644, 48.738, 48.832, 48.926, 49.019999999999996, 49.114000000000004, 49.208, 49.302, 49.396, 49.489999999999995, 49.584, 49.678, 49.772, 49.866, 49.96, 50.054, 50.148, 50.242, 50.336, 50.43, 50.524, 50.618, 50.712, 50.806, 50.9, 50.994, 51.088, 51.182, 51.276, 51.37, 51.464, 51.558, 51.652, 51.746, 51.84, 51.934, 52.028, 52.122, 52.216, 52.31, 52.404, 52.498, 52.592, 52.686, 52.78, 52.874, 52.968, 53.062, 53.156, 53.25, 53.344, 53.438, 53.532, 53.626, 53.72, 53.814, 53.908, 54.002, 54.096, 54.19, 54.284, 54.378, 54.472, 54.566, 54.66, 54.754, 54.848, 54.942, 55.036, 55.13, 55.224, 55.318, 55.412, 55.506, 55.6, 55.694, 55.788, 55.882, 55.976, 56.07, 56.164, 56.258, 56.352, 56.446, 56.54, 56.634, 56.728, 56.822, 56.916, 57.01, 57.104, 57.198, 57.292, 57.386, 57.48, 57.574, 57.668, 57.762, 57.856, 57.95, 58.044, 58.138, 58.232, 58.326, 58.42, 58.514, 58.608, 58.702, 58.796, 58.89, 58.984, 59.078, 59.172, 59.266, 59.36, 59.454, 59.548, 59.642, 59.736, 59.83, 59.924, 60.018, 60.112, 60.206, 60.3, 60.394, 60.488, 60.582, 60.676, 60.77, 60.864, 60.958, 61.052, 61.146, 61.24, 61.334, 61.428, 61.522, 61.616, 61.71, 61.804, 61.898, 61.992, 62.086, 62.18, 62.274, 62.368, 62.462, 62.556, 62.65, 62.744, 62.838, 62.932, 63.026, 63.12, 63.214, 63.308, 63.402, 63.496, 63.59, 63.684, 63.778, 63.872, 63.966, 64.06, 64.154, 64.24799999999999, 64.342, 64.436, 64.53, 64.624, 64.718, 64.812, 64.906], \"xaxis\": \"x\", \"y\": [0.01125909750988531, 0.011443012984365305, 0.011626063941727379, 0.011808148561147128, 0.011989166432890752, 0.012169018721690596, 0.012347608326372975, 0.01252484003533219, 0.012700620677458871, 0.012874859268147352, 0.013047467150025064, 0.013218358128065695, 0.013387448598767853, 0.013554657673102913, 0.013719907292956359, 0.01388312234081255, 0.014044230742453234, 0.01420316356246758, 0.014359855092394708, 0.014514242931344404, 0.014666268058970193, 0.01481587490068995, 0.014963011385080348, 0.015107628993392032, 0.015249682801162475, 0.01538913151192496, 0.015525937483039312, 0.01566006674369349, 0.015791489005148755, 0.015920177663324632, 0.01604610979384121, 0.01616926613965867, 0.016289631091473397, 0.016407192661050028, 0.016521942447686483, 0.016633875598025573, 0.01674299075944401, 0.016849290027262195, 0.0169527788860332, 0.017053466145178938, 0.01715136386925385, 0.017246487303124714, 0.01733885479236155, 0.017428487699142754, 0.01751541031398034, 0.017599649763576346, 0.017681235915120493, 0.01776020127734316, 0.017836580898634415, 0.0179104122625385, 0.017981735180930044, 0.018050591685173038, 0.018117025915559744, 0.018181084009316763, 0.018242813987461828, 0.018302265640782536, 0.018359490415201615, 0.01841454129678134, 0.01846747269660996, 0.018518340335800465, 0.01856720113082214, 0.018614113079369967, 0.01865913514696767, 0.018702327154484263, 0.01874374966673443, 0.018783463882316265, 0.018821531524830327, 0.018858014735609628, 0.018892975968077107, 0.018926477883836872, 0.018958583250591812, 0.018989354841969206, 0.019018855339327085, 0.019047147235599332, 0.019074292741234393, 0.019100353692266724, 0.019125391460557594, 0.01914946686623078, 0.019172640092323844, 0.019194970601670556, 0.019216517056022057, 0.01923733723741576, 0.019257487971791235, 0.019277025054856452, 0.01929600318020165, 0.019314475869659897, 0.019332495405914127, 0.019350112767348285, 0.01936737756514671, 0.019384337982644096, 0.01940104071693437, 0.0194175309227491, 0.019433852158620753, 0.019450046335350944, 0.01946615366680886, 0.019482212623090776, 0.01949825988607609, 0.019514330307423968, 0.019530456869056523, 0.01954667064618484, 0.019563000772936677, 0.019579474410652026, 0.019596116718918397, 0.019612950829421622, 0.019629997822694045, 0.01964727670784544, 0.019664804405366495, 0.01968259573309656, 0.019700663395451613, 0.019719017976007863, 0.01973766793353964, 0.019756619601607985, 0.019775877191797412, 0.019795442800694892, 0.01981531642070275, 0.01983549595477463, 0.019855977235156606, 0.019876754046210445, 0.019897818151391536, 0.019919159324440872, 0.019940765384847514, 0.019962622237622536, 0.019984713917419728, 0.020007022637021536, 0.020029528840199786, 0.020052211258945803, 0.02007504697504974, 0.020098011485995097, 0.020121078775117613, 0.020144221385963865, 0.0201674105007635, 0.020190616022919352, 0.020213806663393983, 0.02023695003086207, 0.020260012725473748, 0.02028296043606025, 0.020305758040595305, 0.02032836970970762, 0.020350759013023474, 0.020372889028102956, 0.020394722451715593, 0.020416221713188708, 0.02043734908954355, 0.020458066822126156, 0.020478337234420368, 0.02049812285072677, 0.020517386515373142, 0.020536091512118302, 0.020554201683400854, 0.020571681549078295, 0.020588496424296072, 0.020604612536123234, 0.020619997138589138, 0.02063461862575345, 0.020648446642444387, 0.020661452192301515, 0.020673607742763285, 0.020684887326645085, 0.020695266639962472, 0.02070472313565971, 0.020713236112916585, 0.020720786801718467, 0.020727358442384533, 0.02073293635976909, 0.020737508031861186, 0.02074106315253019, 0.020743593688178314, 0.020745093928087186, 0.02074556052825884, 0.020744992548580265, 0.020743391483157098, 0.02074076128369037, 0.020737108375789577, 0.020732441668144905, 0.020726772554499145, 0.02072011490839436, 0.020712485070683857, 0.020703901829833053, 0.020694386395054113, 0.0206839623623451, 0.020672655673530868, 0.020660494568424472, 0.02064750953025503, 0.020633733224528286, 0.020619200431511654, 0.02060394797255414, 0.02058801463047497, 0.020571441064273645, 0.020554269718432053, 0.020536544727097643, 0.020518311813453354, 0.02049961818459362, 0.020480512422239784, 0.020461044369642304, 0.02044126501502397, 0.020421226371931334, 0.020400981356866958, 0.02038058366458216, 0.020360087641414185, 0.020339548157054636, 0.02031902047513767, 0.020298560123037775, 0.020278222761261473, 0.020258064052819262, 0.020238139532956965, 0.02021850447961883, 0.020199213785010585, 0.020180321828619754, 0.020161882352042033, 0.020143948335950877, 0.020126571879536828, 0.020109804082728822, 0.02009369493149724, 0.020078293186521795, 0.020063646275495454, 0.020049800189314997, 0.020036799382396, 0.02002468667733085, 0.020013503174091344, 0.02000328816396051, 0.019994079048357552, 0.01998591126270526, 0.019978818205468686, 0.019972831172475076, 0.019967979296610112, 0.019964289492963624, 0.019961786409484195, 0.019960492383181195, 0.01996042740190006, 0.01996160907167584, 0.01996405258965738, 0.019967770722579173, 0.01997277379074098, 0.019979069657444247, 0.019986663723818635, 0.01999555892896266, 0.02000575575530659, 0.020017252239099188, 0.020030043985906288, 0.020044124191003234, 0.02005948366453035, 0.020076110861278817, 0.0200939919149614, 0.02011311067682151, 0.020133448758425397, 0.020154985578479608, 0.02017769841351122, 0.020201562452245955, 0.020226550853516517, 0.02025263480753108, 0.02027978360033238, 0.020307964681275437, 0.020337143733352527, 0.02036728474619548, 0.020398350091584055, 0.020430300601291345, 0.02046309564709988, 0.0204966932228212, 0.02053105002815555, 0.020566121554230855, 0.020601862170660463, 0.020638225213963406, 0.020675163077192086, 0.020712627300616574, 0.020750568663314456, 0.020788937275520846, 0.020827682671591383, 0.020866753903438534, 0.020906099634297636, 0.020945668232686804, 0.02098540786642102, 0.021025266596547895, 0.02106519247106794, 0.021105133618309346, 0.021145038339822564, 0.021184855202665127, 0.0212245331309453, 0.021264021496492917, 0.02130327020852894, 0.021342229802200696, 0.021380851525854627, 0.021419087426912835, 0.02145689043622405, 0.021494214450755667, 0.021531014414494457, 0.021567246397423766, 0.02160286767244193, 0.021637836790089352, 0.021672113650949086, 0.021705659575586234, 0.021738437371892322, 0.02177041139969866, 0.02180154763252728, 0.021831813716343358, 0.02186117902517972, 0.021889614713501346, 0.021917093765181885, 0.02194359103896625, 0.0219690833102948, 0.021993549309370926, 0.022016969755354575, 0.02203932738657033, 0.022060606986623845, 0.022080795406326164, 0.02209988158132949, 0.022117856545388562, 0.022134713439166457, 0.022150447514512152, 0.022165056134147335, 0.02217853876670748, 0.022190896977093165, 0.02220213441209841, 0.02221225678129185, 0.022221271833141678, 0.0222291893263833, 0.022236020996644346, 0.022241780518352613, 0.02224648346196704, 0.022250147246584643, 0.02225279108799031, 0.022254435942231105, 0.022255104444809402, 0.022254820845605622, 0.02225361093965358, 0.02225150199390692, 0.022248522670148974, 0.02224470294421201, 0.022240074021686273, 0.022234668250311382, 0.02222851902925707, 0.02222166071551105, 0.02221412852760518, 0.022205958446921917, 0.022197187116832343, 0.022187851739929678, 0.022177989973628316, 0.022167639824407965, 0.022156839540990004, 0.022145627506738284, 0.022134042131583046, 0.02212212174376877, 0.022109904481732095, 0.022097428186415483, 0.022084730294325273, 0.022071847731639067, 0.022058816809668706, 0.022045673121979387, 0.022032451443463285, 0.02201918563165837, 0.022005908530597865, 0.021992651877467285, 0.02197944621233579, 0.021966320791220195, 0.021953303502725747, 0.021940420788497877, 0.021927697567703516, 0.021915157165746504, 0.02190282124740653, 0.021890709754573263, 0.02187884084873266, 0.021867230858340494, 0.021855894231204636, 0.02184484349197349, 0.021834089204813313, 0.021823639941332535, 0.02181350225379528, 0.02180368065364386, 0.021794177595329606, 0.02178499346543262, 0.02177612657702942, 0.02176757316924916, 0.02175932741193875, 0.021751381415337664, 0.021743725244647672, 0.021736346939361426, 0.021729232537199477, 0.021722366102488663, 0.021715729758799228, 0.02170930372564468, 0.021703066359034965, 0.021696994195662192, 0.021691062000487503, 0.021685242817488445, 0.021679508023318073, 0.021673827383621776, 0.021668169111751033, 0.02166249992961162, 0.021656785130379823, 0.02165098864282197, 0.021645073096951347, 0.021638999890759552, 0.021632729257765184, 0.021626220335124447, 0.021619431232058343, 0.02161231909835743, 0.021604840192734655, 0.021596949950808183, 0.021588603052507004, 0.021579753488705583, 0.02157035462690769, 0.021560359275814303, 0.021549719748625816, 0.021538387924946098, 0.021526315311171787, 0.021513453099268665, 0.021499752223854727, 0.021485163417526768, 0.021469637264387043, 0.021453124251744213, 0.02143557481998067, 0.021416939410597195, 0.021397168512462397, 0.021376212706313555, 0.0213540227075692, 0.02133054940753296, 0.02130574391308001, 0.021279557584935063, 0.021251942074659993, 0.021222849360485723, 0.021192231782129353, 0.021160042074750196, 0.021126233402205635, 0.021090759389773225, 0.021053574156512822, 0.02101463234744422, 0.020973889165719156, 0.02093130040496697, 0.020886822481991394, 0.02084041246999375, 0.02079202813249426, 0.020741627958115752, 0.02068917119638767, 0.02063461789471986, 0.02057792893668323, 0.020519066081724793, 0.020457992006429882, 0.020394670347430657, 0.020329065746044112, 0.020261143894705746, 0.020190871585248665, 0.020118216759057516, 0.02004314855910891, 0.01996563738388925, 0.019885654943160955, 0.019803174315526705, 0.019718170007721254, 0.019630618015538184, 0.019540495886279492, 0.01944778278259311, 0.019352459547544682, 0.019254508770749797, 0.01915391485537199, 0.019050664085775434, 0.01894474469560167, 0.01883614693602458, 0.018724863143920467, 0.01861088780967819, 0.01849421764435882, 0.018374851645904897, 0.01825279116408825, 0.018128039963877383, 0.018000604286899438, 0.017870492910665527, 0.017737717205227294, 0.01760229118692957, 0.01746423156892583, 0.017323557808125944, 0.017180292148249444, 0.017034459658665593, 0.016886088268708088, 0.01673520879716474, 0.01658185497665242, 0.016426063472603603, 0.01626787389660497, 0.016107328813846657, 0.0159444737444593, 0.01577935715853694, 0.015612030464664835, 0.015442547991794703, 0.015270966964334599, 0.015097347470344595, 0.014921752422756649, 0.014744247513564042, 0.014564901160951842, 0.014383784449369705, 0.014200971062575478, 0.014016537209706774, 0.01383056154446682, 0.013643125077538572, 0.013454311082369861, 0.013264204994499892, 0.013072894304624771, 0.012880468445626172, 0.012687018673813387, 0.012492637944653133, 0.012297420783285865, 0.012101463150149244, 0.01190486230205141, 0.011707716649055339, 0.011510125607554943], \"yaxis\": \"y\"}, {\"legendgroup\": \"Male\", \"marker\": {\"color\": \"#333F44\"}, \"mode\": \"lines\", \"name\": \"Male\", \"showlegend\": true, \"type\": \"scatter\", \"x\": [18.0, 18.094, 18.188, 18.282, 18.376, 18.47, 18.564, 18.658, 18.752, 18.846, 18.94, 19.034, 19.128, 19.222, 19.316, 19.41, 19.504, 19.598, 19.692, 19.786, 19.88, 19.974, 20.068, 20.162, 20.256, 20.35, 20.444, 20.538, 20.632, 20.726, 20.82, 20.914, 21.008, 21.102, 21.196, 21.29, 21.384, 21.478, 21.572, 21.666, 21.759999999999998, 21.854, 21.948, 22.042, 22.136, 22.23, 22.323999999999998, 22.418, 22.512, 22.606, 22.7, 22.794, 22.887999999999998, 22.982, 23.076, 23.17, 23.264, 23.358, 23.451999999999998, 23.546, 23.64, 23.734, 23.828, 23.922, 24.016, 24.11, 24.204, 24.298000000000002, 24.392, 24.486, 24.58, 24.674, 24.768, 24.862000000000002, 24.956, 25.05, 25.144, 25.238, 25.332, 25.426000000000002, 25.52, 25.614, 25.708, 25.802, 25.896, 25.990000000000002, 26.084, 26.178, 26.272, 26.366, 26.46, 26.554000000000002, 26.648, 26.742, 26.836, 26.93, 27.024, 27.118000000000002, 27.212, 27.305999999999997, 27.4, 27.494, 27.588, 27.682000000000002, 27.776, 27.869999999999997, 27.964, 28.058, 28.152, 28.246000000000002, 28.34, 28.433999999999997, 28.528, 28.622, 28.716, 28.810000000000002, 28.904, 28.997999999999998, 29.092, 29.186, 29.28, 29.374000000000002, 29.468, 29.561999999999998, 29.656, 29.75, 29.844, 29.938000000000002, 30.032, 30.125999999999998, 30.22, 30.314, 30.408, 30.502000000000002, 30.596, 30.689999999999998, 30.784, 30.878, 30.972, 31.066000000000003, 31.16, 31.253999999999998, 31.348, 31.442, 31.536, 31.630000000000003, 31.724, 31.817999999999998, 31.912, 32.006, 32.1, 32.194, 32.288, 32.382, 32.476, 32.57, 32.664, 32.757999999999996, 32.852000000000004, 32.946, 33.04, 33.134, 33.228, 33.322, 33.416, 33.51, 33.604, 33.698, 33.792, 33.885999999999996, 33.980000000000004, 34.074, 34.168, 34.262, 34.356, 34.45, 34.544, 34.638000000000005, 34.732, 34.826, 34.92, 35.013999999999996, 35.108000000000004, 35.202, 35.296, 35.39, 35.484, 35.578, 35.672, 35.766, 35.86, 35.954, 36.048, 36.141999999999996, 36.236000000000004, 36.33, 36.424, 36.518, 36.611999999999995, 36.706, 36.8, 36.894, 36.988, 37.082, 37.176, 37.269999999999996, 37.364000000000004, 37.458, 37.552, 37.646, 37.739999999999995, 37.834, 37.928, 38.022, 38.116, 38.21, 38.304, 38.397999999999996, 38.492000000000004, 38.586, 38.68, 38.774, 38.867999999999995, 38.962, 39.056, 39.15, 39.244, 39.338, 39.432, 39.525999999999996, 39.620000000000005, 39.714, 39.808, 39.902, 39.995999999999995, 40.09, 40.184, 40.278, 40.372, 40.466, 40.56, 40.653999999999996, 40.748000000000005, 40.842, 40.936, 41.03, 41.123999999999995, 41.218, 41.312, 41.406, 41.5, 41.594, 41.688, 41.782, 41.876000000000005, 41.97, 42.064, 42.158, 42.251999999999995, 42.346000000000004, 42.44, 42.534, 42.628, 42.722, 42.816, 42.91, 43.004000000000005, 43.098, 43.192, 43.286, 43.379999999999995, 43.474000000000004, 43.568, 43.662, 43.756, 43.85, 43.944, 44.038, 44.132000000000005, 44.226, 44.32, 44.414, 44.507999999999996, 44.602000000000004, 44.696, 44.79, 44.884, 44.978, 45.072, 45.166, 45.260000000000005, 45.354, 45.448, 45.542, 45.635999999999996, 45.730000000000004, 45.824, 45.918, 46.012, 46.106, 46.2, 46.294, 46.388000000000005, 46.482, 46.576, 46.67, 46.763999999999996, 46.858000000000004, 46.952, 47.046, 47.14, 47.234, 47.328, 47.422, 47.516, 47.61, 47.704, 47.798, 47.891999999999996, 47.986000000000004, 48.08, 48.174, 48.268, 48.361999999999995, 48.456, 48.55, 48.644, 48.738, 48.832, 48.926, 49.019999999999996, 49.114000000000004, 49.208, 49.302, 49.396, 49.489999999999995, 49.584, 49.678, 49.772, 49.866, 49.96, 50.054, 50.148, 50.242, 50.336, 50.43, 50.524, 50.618, 50.712, 50.806, 50.9, 50.994, 51.088, 51.182, 51.276, 51.37, 51.464, 51.558, 51.652, 51.746, 51.84, 51.934, 52.028, 52.122, 52.216, 52.31, 52.404, 52.498, 52.592, 52.686, 52.78, 52.874, 52.968, 53.062, 53.156, 53.25, 53.344, 53.438, 53.532, 53.626, 53.72, 53.814, 53.908, 54.002, 54.096, 54.19, 54.284, 54.378, 54.472, 54.566, 54.66, 54.754, 54.848, 54.942, 55.036, 55.13, 55.224, 55.318, 55.412, 55.506, 55.6, 55.694, 55.788, 55.882, 55.976, 56.07, 56.164, 56.258, 56.352, 56.446, 56.54, 56.634, 56.728, 56.822, 56.916, 57.01, 57.104, 57.198, 57.292, 57.386, 57.48, 57.574, 57.668, 57.762, 57.856, 57.95, 58.044, 58.138, 58.232, 58.326, 58.42, 58.514, 58.608, 58.702, 58.796, 58.89, 58.984, 59.078, 59.172, 59.266, 59.36, 59.454, 59.548, 59.642, 59.736, 59.83, 59.924, 60.018, 60.112, 60.206, 60.3, 60.394, 60.488, 60.582, 60.676, 60.77, 60.864, 60.958, 61.052, 61.146, 61.24, 61.334, 61.428, 61.522, 61.616, 61.71, 61.804, 61.898, 61.992, 62.086, 62.18, 62.274, 62.368, 62.462, 62.556, 62.65, 62.744, 62.838, 62.932, 63.026, 63.12, 63.214, 63.308, 63.402, 63.496, 63.59, 63.684, 63.778, 63.872, 63.966, 64.06, 64.154, 64.24799999999999, 64.342, 64.436, 64.53, 64.624, 64.718, 64.812, 64.906], \"xaxis\": \"x\", \"y\": [0.014229014152077418, 0.014438621958428564, 0.01464666768589795, 0.014853034656191083, 0.015057608290896196, 0.015260276289795583, 0.015460928804259415, 0.01565945860529209, 0.015855761245818008, 0.016049735216810357, 0.01624128209688546, 0.016430306695005233, 0.016616717185950952, 0.016800425238253532, 0.016981346134288786, 0.017159398882269392, 0.017334506319890194, 0.01750659520940841, 0.017675596323966404, 0.017841444524990303, 0.01800407883052517, 0.018163442474393495, 0.018319482956091475, 0.018472152081364258, 0.0186214059934288, 0.018767205194839605, 0.018909514560019915, 0.019048303338506982, 0.019183545148986507, 0.019315217964216782, 0.019443304086968434, 0.01956779011712978, 0.019688666910151965, 0.019805929527030787, 0.01991957717604425, 0.020029613146486224, 0.020136044734656782, 0.02023888316238878, 0.020338143488408834, 0.020433844512847226, 0.020526008675227636, 0.020614661946281802, 0.020699833713947843, 0.020781556663922902, 0.020859866655151656, 0.020934802590641736, 0.021006406284005234, 0.021074722322132335, 0.02113979792440875, 0.021201682798892584, 0.02126042899586935, 0.02131609075920535, 0.021368724375919735, 0.021418388024394764, 0.021465141621641343, 0.021509046670033394, 0.021550166103919903, 0.021588564136517642, 0.021624306107480357, 0.021657458331532205, 0.021688087948543905, 0.021716262775419905, 0.021742051160153625, 0.021765521838395623, 0.021786743792866728, 0.021805786115934093, 0.02182271787565369, 0.02183760798556742, 0.021850525078526976, 0.021861537384800005, 0.021870712614697103, 0.021878117845940466, 0.021883819415976898, 0.021887882819419748, 0.021890372610785313, 0.021891352312670503, 0.02189088432949939, 0.021889029866946925, 0.021885848857128895, 0.0218813998896278, 0.021875740148405067, 0.021868925354630916, 0.021861009715444194, 0.021852045878635772, 0.021842084893230588, 0.021831176175925407, 0.021819367483321625, 0.021806704889875135, 0.02179323277146863, 0.021778993794495317, 0.0217640289103277, 0.021748377355029783, 0.021732076654157, 0.021715162632474545, 0.021697669428411913, 0.02167962951305955, 0.021661073713502267, 0.02164203124027386, 0.021622529718707782, 0.02160259522395045, 0.021582252319395895, 0.02156152409829416, 0.02154043222827996, 0.021518996998563477, 0.021497237369521652, 0.021475171024425366, 0.021452814423036374, 0.021430182856807218, 0.021407290505417335, 0.02138415049438013, 0.02136077495345781, 0.021337175075624007, 0.021313361176318373, 0.021289342752742097, 0.02126512854294951, 0.02124072658449734, 0.021216144272420998, 0.021191388416315373, 0.021166465296306797, 0.021141380717712693, 0.02111614006419556, 0.021090748349229353, 0.02106521026570757, 0.021039530233534748, 0.021013712445055354, 0.020987760908187367, 0.0209616794871407, 0.020935471940614757, 0.020909141957382766, 0.02088269318918483, 0.0208561292808656, 0.02082945389770687, 0.020802670749919146, 0.020775783614270845, 0.020748796352847335, 0.020721712928946076, 0.020694537420127567, 0.0206672740284551, 0.02063992708796917, 0.02061250106945505, 0.020585000582573905, 0.020557430375439535, 0.020529795331733824, 0.020502100465464315, 0.020474350913477282, 0.020446551925848738, 0.020418708854284207, 0.02039082713866601, 0.020362912291893586, 0.020334969883168668, 0.020307005519882532, 0.020279024828267163, 0.020251033432975858, 0.02022303693576183, 0.020195040893425487, 0.02016705079520225, 0.020139072039763284, 0.020111109912001185, 0.020083169559771304, 0.020055255970757656, 0.020027373949629283, 0.01999952809564971, 0.019971722780897604, 0.019943962129251955, 0.019916249996289312, 0.019888589950234396, 0.019860985254098438, 0.019833438849132107, 0.019805953339711947, 0.019778530979770614, 0.01975117366087237, 0.019723882902025838, 0.019696659841316425, 0.01966950522943069, 0.019642419425134765, 0.01961540239275833, 0.019588453701725253, 0.019561572528160907, 0.01953475765859576, 0.019508007495773628, 0.01948132006656263, 0.01945469303195581, 0.01942812369913805, 0.0194016090355856, 0.019375145685154076, 0.019348729986101414, 0.01932235799098214, 0.01929602548834053, 0.01926972802612124, 0.0192434609367076, 0.01921721936348971, 0.019190998288857373, 0.019164792563505454, 0.019138596936933327, 0.019112406089013902, 0.01908621466250278, 0.019060017296353093, 0.019033808659698, 0.01900758348635901, 0.018981336609735888, 0.01895506299793168, 0.018928757788964877, 0.01890241632592023, 0.01887603419188933, 0.018849607244552737, 0.018823131650256685, 0.018796603917439036, 0.01877002092926174, 0.018743379975310063, 0.01871667878222247, 0.018689915543119336, 0.0186630889457032, 0.01863619819890909, 0.018609243057988542, 0.01858222384791793, 0.018555141485027873, 0.0185279974967581, 0.01850079403944939, 0.018473533914092205, 0.018446220579959923, 0.01841885816606296, 0.018391451480368883, 0.01836400601674259, 0.018336527959569714, 0.018309024186035812, 0.018281502266043023, 0.018253970459755586, 0.018226437712774907, 0.018198913648954262, 0.018171408560872702, 0.018143933397996928, 0.018116499752569043, 0.018089119843267106, 0.018061806496694168, 0.018034573126759865, 0.01800743371202715, 0.017980402771104433, 0.01795349533617109, 0.017926726924731583, 0.017900113509700173, 0.017873671487924632, 0.01784741764726336, 0.017821369132335667, 0.017795543409070167, 0.017769958228180373, 0.017744631587700864, 0.017719581694720495, 0.0176948269264521, 0.01767038579078027, 0.017646276886430574, 0.017622518862904526, 0.017599130380325182, 0.01757613006933817, 0.01755353649121213, 0.01753136809828131, 0.017509643194871354, 0.01748837989884659, 0.017467596103914355, 0.01744730944281821, 0.017427537251547914, 0.017408296534689338, 0.017389603932032392, 0.017371475686549558, 0.01735392761385151, 0.017336975073219803, 0.017320632940309905, 0.017304915581610476, 0.017289836830737274, 0.017275409966632238, 0.017261647693730064, 0.017248562124146268, 0.01723616476193207, 0.017224466489432773, 0.017213477555777186, 0.017203207567516973, 0.01719366548142544, 0.017184859599456415, 0.01717679756585471, 0.017169486366400748, 0.017162932329762962, 0.01715714113092284, 0.017152117796629028, 0.01714786671282821, 0.017144391634012712, 0.017141695694416672, 0.01713978142098516, 0.01713865074803339, 0.01713830503350641, 0.01713874507674309, 0.017139971137642426, 0.017141982957124328, 0.017144779778772462, 0.01714836037154157, 0.017152723053408182, 0.01715786571583974, 0.017163785848954418, 0.017170480567241356, 0.017177946635709387, 0.017186180496330864, 0.017195178294646667, 0.01720493590639841, 0.017215448964054185, 0.017226712883095484, 0.01723872288793439, 0.01725147403733252, 0.01726496124919577, 0.017279179324622477, 0.017294122971086116, 0.017309786824638383, 0.017326165471022958, 0.017343253465595766, 0.017361045351953222, 0.01737953567917604, 0.017398719017602704, 0.017418589973053625, 0.017439143199434144, 0.01746037340965194, 0.017482275384792332, 0.017504843981502656, 0.017528074137545143, 0.017551960875486, 0.017576499304496677, 0.01760168462025176, 0.01762751210291642, 0.01765397711322469, 0.01768107508665837, 0.01770880152574449, 0.017737151990497604, 0.017766122087041102, 0.017795707454449507, 0.017825903749861455, 0.01785670663192024, 0.01788811174260578, 0.017920114687528833, 0.01795271101476418, 0.01798589619230589, 0.018019665584233034, 0.018054014425679304, 0.01808893779670504, 0.018124430595173737, 0.01816048750873932, 0.0181971029860535, 0.0182342712073051, 0.018271986054205602, 0.01831024107953672, 0.01834902947637685, 0.018388344047124083, 0.018428177172433193, 0.01846852078018393, 0.018509366314596636, 0.018550704705610054, 0.01859252633863397, 0.018634821024787085, 0.01867757797172757, 0.018720785755180408, 0.01876443229126191, 0.018808504809697663, 0.01885298982802567, 0.018897873126871582, 0.018943139726377848, 0.018988773863863054, 0.0190347589727822, 0.019081077663052667, 0.01912771170280459, 0.019174642001608212, 0.019221848595224297, 0.019269310631917527, 0.019317006360366134, 0.01936491311919474, 0.019413007328150836, 0.019461264480939263, 0.019509659139722392, 0.019558164931288008, 0.01960675454488078, 0.019655399731687492, 0.019704071305960746, 0.019752739147760632, 0.019801372207288857, 0.019849938510785373, 0.019898405167952993, 0.019946738380871853, 0.01999490345436182, 0.020042864807748046, 0.02009058598798188, 0.02013802968406725, 0.02018515774274078, 0.020231931185352443, 0.020278310225892462, 0.020324254290110057, 0.020369722035669148, 0.0204146713732868, 0.02045905948880097, 0.020502842866115242, 0.020545977310970225, 0.020588417975493017, 0.020630119383478925, 0.02067103545636225, 0.02071111953983628, 0.020750324431086015, 0.020788602406600992, 0.020825905250539713, 0.020862184283621143, 0.020897390392523665, 0.020931474059776082, 0.02096438539413017, 0.020996074161409174, 0.021026489815831304, 0.021055581531812324, 0.021083298236255987, 0.021109588641345888, 0.021134401277856856, 0.021157684529008437, 0.021179386664887247, 0.02119945587746885, 0.021217840316273617, 0.021234488124694164, 0.021249347477035063, 0.021262366616307964, 0.02127349389282741, 0.02128267780365413, 0.021289867032933882, 0.021295010493180246, 0.021298057367549906, 0.021298957153158365, 0.02129765970548277, 0.02129411528389669, 0.02128827459837944, 0.021280088857439046, 0.021269509817284763, 0.021256489832280102, 0.02124098190670274, 0.02122293974783186, 0.021202317820377098, 0.021179071402256697, 0.021153156641724687, 0.021124530615839146, 0.021093151390255006, 0.02105897808031579, 0.021021970913409342, 0.020982091292542568, 0.020939301861080235, 0.020893566568582073, 0.02084485073766182, 0.020793121131780765, 0.020738346023877367, 0.020680495265723072, 0.02061954035788355, 0.02055545452015313, 0.02048821276231944, 0.02041779195510414, 0.02034417090111543, 0.020267330405637326, 0.020187253347071263, 0.020103924746836067, 0.020017331838523375, 0.01992746413609768, 0.019834313500922462, 0.019737874207387034, 0.019638143006903083, 0.019535119190034235, 0.01942880464651842, 0.01931920392293902, 0.01920632427779905, 0.019090175733750984, 0.018970771126735394, 0.018848126151782038, 0.018722259405229737, 0.01859319242312441, 0.018460949715559647, 0.018325558796729497, 0.018187050210470734, 0.01804545755107932, 0.01790081747919589, 0.01775316973256509, 0.017602557131485525, 0.017449025578779583, 0.017292624054126796, 0.01713340460261846, 0.016971422317407867, 0.01680673531634658, 0.016639404712515383, 0.01646949457857641, 0.016297071904892563, 0.01612220655137938, 0.0159449711930756, 0.015765441259438805, 0.015583694867393966, 0.015399812748183658, 0.015213878168091213, 0.015025976843128508, 0.014836196847802787, 0.014644628518097724, 0.014451364348825657, 0.014256498885528842, 0.014060128611127844, 0.013862351827535644, 0.013663268532475046, 0.01346298029175621, 0.013261590107288775, 0.013059202281119349], \"yaxis\": \"y\"}, {\"legendgroup\": \"Female\", \"marker\": {\"color\": \"#835AF1\", \"symbol\": \"line-ns-open\"}, \"mode\": \"markers\", \"name\": \"Female\", \"showlegend\": false, \"type\": \"scatter\", \"x\": [18, 19, 20, 20, 33, 35, 18, 19, 30, 35, 27, 23, 24, 30, 35, 26, 38, 26, 22, 45, 33, 21, 26, 22, 35, 33, 22, 24, 31, 49, 20, 41, 33, 53, 31, 31, 42, 23, 36, 39, 39, 25, 32, 48, 38, 36, 34, 21, 47, 22, 34, 48, 43, 30, 25, 21, 29, 51, 40, 52, 29, 37, 23, 18, 18, 26, 26, 49, 27, 44, 24, 32, 36, 41, 43, 28, 19, 61, 57, 52, 48, 57, 53, 35, 51, 51, 33, 27, 20, 29, 30, 42, 42, 50, 43, 33, 24, 37, 52, 53, 51, 44, 32, 63, 37, 64, 39, 39, 37, 39, 64, 51, 28, 48, 34, 27, 31, 27, 41, 62, 48, 20, 61, 30, 46, 37, 51, 28, 29, 19, 31, 58, 41, 34, 30, 47, 22, 65, 49, 39, 40, 21, 27, 65, 34, 34, 35, 49, 24, 52, 38, 29, 29, 18, 22, 50, 27, 57, 62, 29, 22, 59, 36, 55, 54, 31, 58, 41, 22, 28, 22, 62, 45, 60, 28, 41, 35, 38, 57, 19, 31, 49, 24, 38, 53, 57, 45, 34, 33, 23, 24, 47, 42, 50, 49, 49, 22, 20, 45, 34, 20, 38, 36, 19, 46, 49, 34, 45, 26, 47, 56, 45, 46, 63, 36, 41, 55, 21, 55, 46, 18, 34, 24, 46, 53, 63, 30, 61, 36, 49, 22, 21, 52, 36, 18, 63, 43, 50, 22, 50, 33, 37, 43, 57, 41, 55, 20, 34, 32, 49, 49, 37, 24, 35, 37, 42, 41, 33, 52, 23, 19, 62, 40, 26, 57, 46, 55, 62, 32, 18, 41, 29, 44, 54, 64, 62, 36, 50, 18, 55, 45, 45, 30, 48, 27, 20, 25, 65, 28, 23, 18, 47, 44, 39, 50, 58, 42, 44, 58, 33, 42, 45, 26, 26, 35, 50, 59, 55, 55, 48, 63, 20, 53, 46, 26, 62, 43, 32, 57, 28, 34, 62, 44, 27, 53, 33, 56, 62, 36, 21, 28, 27, 43, 47, 60, 40, 60, 48, 51, 61, 34, 58, 62, 45, 19, 47, 63, 57, 51, 58, 24, 58, 33, 34, 55, 47, 45, 48, 62, 54, 63, 38, 63, 65, 57, 20, 26, 47, 23, 18, 36, 59, 55, 31, 61, 56, 41, 23, 61, 56, 25, 55, 42, 61, 26, 59, 54, 24, 32, 53, 61, 56, 45, 60, 34, 49, 48, 44, 56, 45, 40, 57, 63, 48, 56, 41, 49, 58, 44, 61, 56, 53, 38, 57, 28, 48, 42, 52, 60, 63, 59, 55, 57, 33, 44, 22, 41, 61, 57, 56, 47, 55, 58, 57, 64, 65, 50, 47, 59, 32, 38, 54, 62, 49, 51, 46, 65, 64, 65, 45, 47, 58, 53, 44, 54, 58, 59, 52, 59, 53, 59, 65, 61, 65, 63, 65, 64, 61], \"xaxis\": \"x\", \"y\": [\"Female\", \"Female\", \"Female\", \"Female\", \"Female\", \"Female\", \"Female\", \"Female\", \"Female\", \"Female\", \"Female\", \"Female\", \"Female\", \"Female\", \"Female\", \"Female\", \"Female\", \"Female\", \"Female\", \"Female\", \"Female\", \"Female\", \"Female\", \"Female\", \"Female\", \"Female\", \"Female\", \"Female\", \"Female\", \"Female\", \"Female\", \"Female\", \"Female\", \"Female\", \"Female\", \"Female\", \"Female\", \"Female\", \"Female\", \"Female\", \"Female\", \"Female\", \"Female\", \"Female\", \"Female\", \"Female\", \"Female\", \"Female\", \"Female\", \"Female\", \"Female\", \"Female\", \"Female\", \"Female\", \"Female\", \"Female\", \"Female\", \"Female\", \"Female\", \"Female\", \"Female\", \"Female\", \"Female\", \"Female\", \"Female\", \"Female\", \"Female\", \"Female\", \"Female\", \"Female\", \"Female\", \"Female\", \"Female\", \"Female\", \"Female\", \"Female\", \"Female\", \"Female\", \"Female\", \"Female\", \"Female\", \"Female\", \"Female\", \"Female\", \"Female\", \"Female\", \"Female\", \"Female\", \"Female\", \"Female\", \"Female\", \"Female\", \"Female\", \"Female\", \"Female\", \"Female\", \"Female\", \"Female\", \"Female\", \"Female\", \"Female\", \"Female\", \"Female\", \"Female\", \"Female\", \"Female\", \"Female\", \"Female\", \"Female\", \"Female\", \"Female\", \"Female\", \"Female\", \"Female\", \"Female\", \"Female\", \"Female\", \"Female\", \"Female\", \"Female\", \"Female\", \"Female\", \"Female\", \"Female\", \"Female\", \"Female\", \"Female\", \"Female\", \"Female\", \"Female\", \"Female\", \"Female\", \"Female\", \"Female\", \"Female\", \"Female\", \"Female\", \"Female\", \"Female\", \"Female\", \"Female\", \"Female\", \"Female\", \"Female\", \"Female\", \"Female\", \"Female\", \"Female\", \"Female\", \"Female\", \"Female\", \"Female\", \"Female\", \"Female\", \"Female\", \"Female\", \"Female\", \"Female\", \"Female\", \"Female\", \"Female\", \"Female\", \"Female\", \"Female\", \"Female\", \"Female\", \"Female\", \"Female\", \"Female\", \"Female\", \"Female\", \"Female\", \"Female\", \"Female\", \"Female\", \"Female\", \"Female\", \"Female\", \"Female\", \"Female\", \"Female\", \"Female\", \"Female\", \"Female\", \"Female\", \"Female\", \"Female\", \"Female\", \"Female\", \"Female\", \"Female\", \"Female\", \"Female\", \"Female\", \"Female\", \"Female\", \"Female\", \"Female\", \"Female\", \"Female\", \"Female\", \"Female\", \"Female\", \"Female\", \"Female\", \"Female\", \"Female\", \"Female\", \"Female\", \"Female\", \"Female\", \"Female\", \"Female\", \"Female\", \"Female\", \"Female\", \"Female\", \"Female\", \"Female\", \"Female\", \"Female\", \"Female\", \"Female\", \"Female\", \"Female\", \"Female\", \"Female\", \"Female\", \"Female\", \"Female\", \"Female\", \"Female\", \"Female\", \"Female\", \"Female\", \"Female\", \"Female\", \"Female\", \"Female\", \"Female\", \"Female\", \"Female\", \"Female\", \"Female\", \"Female\", \"Female\", \"Female\", \"Female\", \"Female\", \"Female\", \"Female\", \"Female\", \"Female\", \"Female\", \"Female\", \"Female\", \"Female\", \"Female\", \"Female\", \"Female\", \"Female\", \"Female\", \"Female\", \"Female\", \"Female\", \"Female\", \"Female\", \"Female\", \"Female\", \"Female\", \"Female\", \"Female\", \"Female\", \"Female\", \"Female\", \"Female\", \"Female\", \"Female\", \"Female\", \"Female\", \"Female\", \"Female\", \"Female\", \"Female\", \"Female\", \"Female\", \"Female\", \"Female\", \"Female\", \"Female\", \"Female\", \"Female\", \"Female\", \"Female\", \"Female\", \"Female\", \"Female\", \"Female\", \"Female\", \"Female\", \"Female\", \"Female\", \"Female\", \"Female\", \"Female\", \"Female\", \"Female\", \"Female\", \"Female\", \"Female\", \"Female\", \"Female\", \"Female\", \"Female\", \"Female\", \"Female\", \"Female\", \"Female\", \"Female\", \"Female\", \"Female\", \"Female\", \"Female\", \"Female\", \"Female\", \"Female\", \"Female\", \"Female\", \"Female\", \"Female\", \"Female\", \"Female\", \"Female\", \"Female\", \"Female\", \"Female\", \"Female\", \"Female\", \"Female\", \"Female\", \"Female\", \"Female\", \"Female\", \"Female\", \"Female\", \"Female\", \"Female\", \"Female\", \"Female\", \"Female\", \"Female\", \"Female\", \"Female\", \"Female\", \"Female\", \"Female\", \"Female\", \"Female\", \"Female\", \"Female\", \"Female\", \"Female\", \"Female\", \"Female\", \"Female\", \"Female\", \"Female\", \"Female\", \"Female\", \"Female\", \"Female\", \"Female\", \"Female\", \"Female\", \"Female\", \"Female\", \"Female\", \"Female\", \"Female\", \"Female\", \"Female\", \"Female\", \"Female\", \"Female\", \"Female\", \"Female\", \"Female\", \"Female\", \"Female\", \"Female\", \"Female\", \"Female\", \"Female\", \"Female\", \"Female\", \"Female\", \"Female\", \"Female\", \"Female\", \"Female\", \"Female\", \"Female\", \"Female\", \"Female\", \"Female\", \"Female\", \"Female\", \"Female\", \"Female\", \"Female\", \"Female\", \"Female\", \"Female\", \"Female\", \"Female\", \"Female\", \"Female\", \"Female\", \"Female\", \"Female\", \"Female\", \"Female\", \"Female\", \"Female\", \"Female\", \"Female\", \"Female\", \"Female\", \"Female\", \"Female\", \"Female\", \"Female\", \"Female\", \"Female\", \"Female\", \"Female\", \"Female\", \"Female\", \"Female\", \"Female\", \"Female\", \"Female\", \"Female\", \"Female\", \"Female\", \"Female\", \"Female\", \"Female\", \"Female\", \"Female\", \"Female\", \"Female\", \"Female\", \"Female\", \"Female\", \"Female\", \"Female\", \"Female\", \"Female\", \"Female\", \"Female\", \"Female\", \"Female\", \"Female\", \"Female\", \"Female\", \"Female\", \"Female\"], \"yaxis\": \"y2\"}, {\"legendgroup\": \"Male\", \"marker\": {\"color\": \"#333F44\", \"symbol\": \"line-ns-open\"}, \"mode\": \"markers\", \"name\": \"Male\", \"showlegend\": false, \"type\": \"scatter\", \"x\": [21, 20, 26, 18, 24, 21, 36, 24, 24, 21, 19, 35, 34, 20, 35, 27, 21, 31, 19, 29, 32, 31, 22, 25, 22, 21, 18, 18, 40, 18, 34, 19, 31, 24, 18, 18, 25, 22, 23, 29, 21, 28, 29, 31, 19, 26, 49, 18, 29, 55, 28, 18, 46, 32, 26, 40, 51, 54, 49, 58, 38, 53, 49, 26, 33, 22, 41, 26, 29, 44, 48, 40, 21, 28, 30, 47, 18, 38, 24, 49, 22, 36, 39, 19, 59, 54, 64, 23, 39, 58, 53, 33, 56, 40, 43, 19, 44, 23, 20, 47, 49, 26, 18, 18, 22, 20, 29, 58, 38, 53, 46, 52, 18, 29, 62, 23, 29, 38, 34, 40, 27, 35, 19, 36, 23, 43, 27, 25, 21, 24, 52, 26, 29, 49, 45, 48, 53, 18, 28, 36, 56, 37, 28, 44, 24, 47, 33, 57, 20, 19, 33, 46, 39, 58, 33, 56, 39, 45, 32, 65, 52, 19, 20, 64, 55, 59, 30, 27, 48, 64, 40, 58, 63, 18, 48, 63, 23, 63, 65, 51, 57, 59, 24, 61, 35, 55, 62, 37, 32, 28, 65, 46, 25, 64, 26, 49, 19, 36, 21, 48, 20, 47, 60, 27, 20, 59, 59, 53, 28, 43, 45, 18, 59, 34, 32, 29, 48, 58, 21, 20, 60, 57, 31, 57, 63, 63, 23, 63, 20, 45, 65, 26, 60, 63, 33, 31, 41, 27, 41, 33, 45, 47, 58, 64, 40, 42, 30, 39, 31, 32, 49, 30, 46, 62, 18, 58, 55, 65, 38, 22, 51, 61, 62, 28, 32, 57, 64, 58, 44, 39, 23, 40, 23, 60, 25, 48, 35, 53, 40, 56, 45, 33, 49, 23, 60, 20, 56, 38, 29, 33, 30, 61, 25, 42, 55, 35, 40, 36, 30, 58, 61, 59, 53, 22, 44, 57, 30, 22, 23, 20, 56, 23, 27, 53, 37, 40, 42, 43, 28, 39, 53, 25, 27, 40, 63, 42, 28, 19, 42, 65, 54, 39, 30, 53, 63, 31, 60, 24, 23, 30, 50, 56, 20, 62, 36, 24, 24, 19, 44, 49, 36, 22, 59, 58, 41, 22, 35, 62, 50, 51, 22, 32, 33, 35, 47, 53, 23, 49, 33, 50, 31, 38, 42, 38, 54, 48, 40, 44, 62, 50, 40, 64, 24, 59, 62, 63, 31, 32, 55, 36, 33, 36, 46, 25, 40, 51, 56, 36, 37, 64, 20, 65, 45, 18, 43, 26, 59, 41, 21, 54, 31, 55, 22, 47, 62, 60, 37, 26, 27, 44, 21, 45, 65, 52, 30, 50, 25, 53, 55, 24, 56, 64, 63, 55, 43, 51, 49, 29, 53, 64, 36, 58, 47, 45, 55, 42, 60, 53, 25, 41, 64, 52, 43, 31, 20, 35, 49, 49, 51, 21, 41, 27, 37, 18, 58, 50, 59, 45, 59, 64, 36, 31, 59, 57, 39, 61, 29, 62, 41, 58, 29, 33, 60, 37, 64, 55, 47, 45, 65, 36, 31, 51, 50, 58, 43, 36, 60, 37, 56, 59, 53, 62, 65, 61, 51, 36, 30, 60, 62, 62, 39, 54, 55, 34, 57, 62, 52, 57, 60, 65, 64, 56, 64, 56, 62, 55, 54, 62, 57, 48, 65, 60], \"xaxis\": \"x\", \"y\": [\"Male\", \"Male\", \"Male\", \"Male\", \"Male\", \"Male\", \"Male\", \"Male\", \"Male\", \"Male\", \"Male\", \"Male\", \"Male\", \"Male\", \"Male\", \"Male\", \"Male\", \"Male\", \"Male\", \"Male\", \"Male\", \"Male\", \"Male\", \"Male\", \"Male\", \"Male\", \"Male\", \"Male\", \"Male\", \"Male\", \"Male\", \"Male\", \"Male\", \"Male\", \"Male\", \"Male\", \"Male\", \"Male\", \"Male\", \"Male\", \"Male\", \"Male\", \"Male\", \"Male\", \"Male\", \"Male\", \"Male\", \"Male\", \"Male\", \"Male\", \"Male\", \"Male\", \"Male\", \"Male\", \"Male\", \"Male\", \"Male\", \"Male\", \"Male\", \"Male\", \"Male\", \"Male\", \"Male\", \"Male\", \"Male\", \"Male\", \"Male\", \"Male\", \"Male\", \"Male\", \"Male\", \"Male\", \"Male\", \"Male\", \"Male\", \"Male\", \"Male\", \"Male\", \"Male\", \"Male\", \"Male\", \"Male\", \"Male\", \"Male\", \"Male\", \"Male\", \"Male\", \"Male\", \"Male\", \"Male\", \"Male\", \"Male\", \"Male\", \"Male\", \"Male\", \"Male\", \"Male\", \"Male\", \"Male\", \"Male\", \"Male\", \"Male\", \"Male\", \"Male\", \"Male\", \"Male\", \"Male\", \"Male\", \"Male\", \"Male\", \"Male\", \"Male\", \"Male\", \"Male\", \"Male\", \"Male\", \"Male\", \"Male\", \"Male\", \"Male\", \"Male\", \"Male\", \"Male\", \"Male\", \"Male\", \"Male\", \"Male\", \"Male\", \"Male\", \"Male\", \"Male\", \"Male\", \"Male\", \"Male\", \"Male\", \"Male\", \"Male\", \"Male\", \"Male\", \"Male\", \"Male\", \"Male\", \"Male\", \"Male\", \"Male\", \"Male\", \"Male\", \"Male\", \"Male\", \"Male\", \"Male\", \"Male\", \"Male\", \"Male\", \"Male\", \"Male\", \"Male\", \"Male\", \"Male\", \"Male\", \"Male\", \"Male\", \"Male\", \"Male\", \"Male\", \"Male\", \"Male\", \"Male\", \"Male\", \"Male\", \"Male\", \"Male\", \"Male\", \"Male\", \"Male\", \"Male\", \"Male\", \"Male\", \"Male\", \"Male\", \"Male\", \"Male\", \"Male\", \"Male\", \"Male\", \"Male\", \"Male\", \"Male\", \"Male\", \"Male\", \"Male\", \"Male\", \"Male\", \"Male\", \"Male\", \"Male\", \"Male\", \"Male\", \"Male\", \"Male\", \"Male\", \"Male\", \"Male\", \"Male\", \"Male\", \"Male\", \"Male\", \"Male\", \"Male\", \"Male\", \"Male\", \"Male\", \"Male\", \"Male\", \"Male\", \"Male\", \"Male\", \"Male\", \"Male\", \"Male\", \"Male\", \"Male\", \"Male\", \"Male\", \"Male\", \"Male\", \"Male\", \"Male\", \"Male\", \"Male\", \"Male\", \"Male\", \"Male\", \"Male\", \"Male\", \"Male\", \"Male\", \"Male\", \"Male\", \"Male\", \"Male\", \"Male\", \"Male\", \"Male\", \"Male\", \"Male\", \"Male\", \"Male\", \"Male\", \"Male\", \"Male\", \"Male\", \"Male\", \"Male\", \"Male\", \"Male\", \"Male\", \"Male\", \"Male\", \"Male\", \"Male\", \"Male\", \"Male\", \"Male\", \"Male\", \"Male\", \"Male\", \"Male\", \"Male\", \"Male\", \"Male\", \"Male\", \"Male\", \"Male\", \"Male\", \"Male\", \"Male\", \"Male\", \"Male\", \"Male\", \"Male\", \"Male\", \"Male\", \"Male\", \"Male\", \"Male\", \"Male\", \"Male\", \"Male\", \"Male\", \"Male\", \"Male\", \"Male\", \"Male\", \"Male\", \"Male\", \"Male\", \"Male\", \"Male\", \"Male\", \"Male\", \"Male\", \"Male\", \"Male\", \"Male\", \"Male\", \"Male\", \"Male\", \"Male\", \"Male\", \"Male\", \"Male\", \"Male\", \"Male\", \"Male\", \"Male\", \"Male\", \"Male\", \"Male\", \"Male\", \"Male\", \"Male\", \"Male\", \"Male\", \"Male\", \"Male\", \"Male\", \"Male\", \"Male\", \"Male\", \"Male\", \"Male\", \"Male\", \"Male\", \"Male\", \"Male\", \"Male\", \"Male\", \"Male\", \"Male\", \"Male\", \"Male\", \"Male\", \"Male\", \"Male\", \"Male\", \"Male\", \"Male\", \"Male\", \"Male\", \"Male\", \"Male\", \"Male\", \"Male\", \"Male\", \"Male\", \"Male\", \"Male\", \"Male\", \"Male\", \"Male\", \"Male\", \"Male\", \"Male\", \"Male\", \"Male\", \"Male\", \"Male\", \"Male\", \"Male\", \"Male\", \"Male\", \"Male\", \"Male\", \"Male\", \"Male\", \"Male\", \"Male\", \"Male\", \"Male\", \"Male\", \"Male\", \"Male\", \"Male\", \"Male\", \"Male\", \"Male\", \"Male\", \"Male\", \"Male\", \"Male\", \"Male\", \"Male\", \"Male\", \"Male\", \"Male\", \"Male\", \"Male\", \"Male\", \"Male\", \"Male\", \"Male\", \"Male\", \"Male\", \"Male\", \"Male\", \"Male\", \"Male\", \"Male\", \"Male\", \"Male\", \"Male\", \"Male\", \"Male\", \"Male\", \"Male\", \"Male\", \"Male\", \"Male\", \"Male\", \"Male\", \"Male\", \"Male\", \"Male\", \"Male\", \"Male\", \"Male\", \"Male\", \"Male\", \"Male\", \"Male\", \"Male\", \"Male\", \"Male\", \"Male\", \"Male\", \"Male\", \"Male\", \"Male\", \"Male\", \"Male\", \"Male\", \"Male\", \"Male\", \"Male\", \"Male\", \"Male\", \"Male\", \"Male\", \"Male\", \"Male\", \"Male\", \"Male\", \"Male\", \"Male\", \"Male\", \"Male\", \"Male\", \"Male\", \"Male\", \"Male\", \"Male\", \"Male\", \"Male\", \"Male\", \"Male\", \"Male\", \"Male\", \"Male\", \"Male\", \"Male\", \"Male\", \"Male\", \"Male\", \"Male\", \"Male\", \"Male\", \"Male\", \"Male\", \"Male\", \"Male\", \"Male\", \"Male\", \"Male\", \"Male\", \"Male\", \"Male\", \"Male\", \"Male\", \"Male\", \"Male\", \"Male\", \"Male\", \"Male\", \"Male\", \"Male\", \"Male\", \"Male\", \"Male\", \"Male\", \"Male\", \"Male\", \"Male\", \"Male\", \"Male\", \"Male\", \"Male\", \"Male\", \"Male\", \"Male\", \"Male\", \"Male\", \"Male\", \"Male\", \"Male\", \"Male\", \"Male\", \"Male\", \"Male\", \"Male\", \"Male\", \"Male\", \"Male\", \"Male\", \"Male\", \"Male\", \"Male\", \"Male\", \"Male\", \"Male\", \"Male\", \"Male\"], \"yaxis\": \"y2\"}],\n",
              "                        {\"barmode\": \"overlay\", \"hovermode\": \"closest\", \"legend\": {\"traceorder\": \"reversed\"}, \"template\": {\"data\": {\"bar\": [{\"error_x\": {\"color\": \"#2a3f5f\"}, \"error_y\": {\"color\": \"#2a3f5f\"}, \"marker\": {\"line\": {\"color\": \"#E5ECF6\", \"width\": 0.5}}, \"type\": \"bar\"}], \"barpolar\": [{\"marker\": {\"line\": {\"color\": \"#E5ECF6\", \"width\": 0.5}}, \"type\": \"barpolar\"}], \"carpet\": [{\"aaxis\": {\"endlinecolor\": \"#2a3f5f\", \"gridcolor\": \"white\", \"linecolor\": \"white\", \"minorgridcolor\": \"white\", \"startlinecolor\": \"#2a3f5f\"}, \"baxis\": {\"endlinecolor\": \"#2a3f5f\", \"gridcolor\": \"white\", \"linecolor\": \"white\", \"minorgridcolor\": \"white\", \"startlinecolor\": \"#2a3f5f\"}, \"type\": \"carpet\"}], \"choropleth\": [{\"colorbar\": {\"outlinewidth\": 0, \"ticks\": \"\"}, \"type\": \"choropleth\"}], \"contour\": [{\"colorbar\": {\"outlinewidth\": 0, \"ticks\": \"\"}, \"colorscale\": [[0.0, \"#0d0887\"], [0.1111111111111111, \"#46039f\"], [0.2222222222222222, \"#7201a8\"], [0.3333333333333333, \"#9c179e\"], [0.4444444444444444, \"#bd3786\"], [0.5555555555555556, \"#d8576b\"], [0.6666666666666666, \"#ed7953\"], [0.7777777777777778, \"#fb9f3a\"], [0.8888888888888888, \"#fdca26\"], [1.0, \"#f0f921\"]], \"type\": \"contour\"}], \"contourcarpet\": [{\"colorbar\": {\"outlinewidth\": 0, \"ticks\": \"\"}, \"type\": \"contourcarpet\"}], \"heatmap\": [{\"colorbar\": {\"outlinewidth\": 0, \"ticks\": \"\"}, \"colorscale\": [[0.0, \"#0d0887\"], [0.1111111111111111, \"#46039f\"], [0.2222222222222222, \"#7201a8\"], [0.3333333333333333, \"#9c179e\"], [0.4444444444444444, \"#bd3786\"], [0.5555555555555556, \"#d8576b\"], [0.6666666666666666, \"#ed7953\"], [0.7777777777777778, \"#fb9f3a\"], [0.8888888888888888, \"#fdca26\"], [1.0, \"#f0f921\"]], \"type\": \"heatmap\"}], \"heatmapgl\": [{\"colorbar\": {\"outlinewidth\": 0, \"ticks\": \"\"}, \"colorscale\": [[0.0, \"#0d0887\"], [0.1111111111111111, \"#46039f\"], [0.2222222222222222, \"#7201a8\"], [0.3333333333333333, \"#9c179e\"], [0.4444444444444444, \"#bd3786\"], [0.5555555555555556, \"#d8576b\"], [0.6666666666666666, \"#ed7953\"], [0.7777777777777778, \"#fb9f3a\"], [0.8888888888888888, \"#fdca26\"], [1.0, \"#f0f921\"]], \"type\": \"heatmapgl\"}], \"histogram\": [{\"marker\": {\"colorbar\": {\"outlinewidth\": 0, \"ticks\": \"\"}}, \"type\": \"histogram\"}], \"histogram2d\": [{\"colorbar\": {\"outlinewidth\": 0, \"ticks\": \"\"}, \"colorscale\": [[0.0, \"#0d0887\"], [0.1111111111111111, \"#46039f\"], [0.2222222222222222, \"#7201a8\"], [0.3333333333333333, \"#9c179e\"], [0.4444444444444444, \"#bd3786\"], [0.5555555555555556, \"#d8576b\"], [0.6666666666666666, \"#ed7953\"], [0.7777777777777778, \"#fb9f3a\"], [0.8888888888888888, \"#fdca26\"], [1.0, \"#f0f921\"]], \"type\": \"histogram2d\"}], \"histogram2dcontour\": [{\"colorbar\": {\"outlinewidth\": 0, \"ticks\": \"\"}, \"colorscale\": [[0.0, \"#0d0887\"], [0.1111111111111111, \"#46039f\"], [0.2222222222222222, \"#7201a8\"], [0.3333333333333333, \"#9c179e\"], [0.4444444444444444, \"#bd3786\"], [0.5555555555555556, \"#d8576b\"], [0.6666666666666666, \"#ed7953\"], [0.7777777777777778, \"#fb9f3a\"], [0.8888888888888888, \"#fdca26\"], [1.0, \"#f0f921\"]], \"type\": \"histogram2dcontour\"}], \"mesh3d\": [{\"colorbar\": {\"outlinewidth\": 0, \"ticks\": \"\"}, \"type\": \"mesh3d\"}], \"parcoords\": [{\"line\": {\"colorbar\": {\"outlinewidth\": 0, \"ticks\": \"\"}}, \"type\": \"parcoords\"}], \"pie\": [{\"automargin\": true, \"type\": \"pie\"}], \"scatter\": [{\"marker\": {\"colorbar\": {\"outlinewidth\": 0, \"ticks\": \"\"}}, \"type\": \"scatter\"}], \"scatter3d\": [{\"line\": {\"colorbar\": {\"outlinewidth\": 0, \"ticks\": \"\"}}, \"marker\": {\"colorbar\": {\"outlinewidth\": 0, \"ticks\": \"\"}}, \"type\": \"scatter3d\"}], \"scattercarpet\": [{\"marker\": {\"colorbar\": {\"outlinewidth\": 0, \"ticks\": \"\"}}, \"type\": \"scattercarpet\"}], \"scattergeo\": [{\"marker\": {\"colorbar\": {\"outlinewidth\": 0, \"ticks\": \"\"}}, \"type\": \"scattergeo\"}], \"scattergl\": [{\"marker\": {\"colorbar\": {\"outlinewidth\": 0, \"ticks\": \"\"}}, \"type\": \"scattergl\"}], \"scattermapbox\": [{\"marker\": {\"colorbar\": {\"outlinewidth\": 0, \"ticks\": \"\"}}, \"type\": \"scattermapbox\"}], \"scatterpolar\": [{\"marker\": {\"colorbar\": {\"outlinewidth\": 0, \"ticks\": \"\"}}, \"type\": \"scatterpolar\"}], \"scatterpolargl\": [{\"marker\": {\"colorbar\": {\"outlinewidth\": 0, \"ticks\": \"\"}}, \"type\": \"scatterpolargl\"}], \"scatterternary\": [{\"marker\": {\"colorbar\": {\"outlinewidth\": 0, \"ticks\": \"\"}}, \"type\": \"scatterternary\"}], \"surface\": [{\"colorbar\": {\"outlinewidth\": 0, \"ticks\": \"\"}, \"colorscale\": [[0.0, \"#0d0887\"], [0.1111111111111111, \"#46039f\"], [0.2222222222222222, \"#7201a8\"], [0.3333333333333333, \"#9c179e\"], [0.4444444444444444, \"#bd3786\"], [0.5555555555555556, \"#d8576b\"], [0.6666666666666666, \"#ed7953\"], [0.7777777777777778, \"#fb9f3a\"], [0.8888888888888888, \"#fdca26\"], [1.0, \"#f0f921\"]], \"type\": \"surface\"}], \"table\": [{\"cells\": {\"fill\": {\"color\": \"#EBF0F8\"}, \"line\": {\"color\": \"white\"}}, \"header\": {\"fill\": {\"color\": \"#C8D4E3\"}, \"line\": {\"color\": \"white\"}}, \"type\": \"table\"}]}, \"layout\": {\"annotationdefaults\": {\"arrowcolor\": \"#2a3f5f\", \"arrowhead\": 0, \"arrowwidth\": 1}, \"coloraxis\": {\"colorbar\": {\"outlinewidth\": 0, \"ticks\": \"\"}}, \"colorscale\": {\"diverging\": [[0, \"#8e0152\"], [0.1, \"#c51b7d\"], [0.2, \"#de77ae\"], [0.3, \"#f1b6da\"], [0.4, \"#fde0ef\"], [0.5, \"#f7f7f7\"], [0.6, \"#e6f5d0\"], [0.7, \"#b8e186\"], [0.8, \"#7fbc41\"], [0.9, \"#4d9221\"], [1, \"#276419\"]], \"sequential\": [[0.0, \"#0d0887\"], [0.1111111111111111, \"#46039f\"], [0.2222222222222222, \"#7201a8\"], [0.3333333333333333, \"#9c179e\"], [0.4444444444444444, \"#bd3786\"], [0.5555555555555556, \"#d8576b\"], [0.6666666666666666, \"#ed7953\"], [0.7777777777777778, \"#fb9f3a\"], [0.8888888888888888, \"#fdca26\"], [1.0, \"#f0f921\"]], \"sequentialminus\": [[0.0, \"#0d0887\"], [0.1111111111111111, \"#46039f\"], [0.2222222222222222, \"#7201a8\"], [0.3333333333333333, \"#9c179e\"], [0.4444444444444444, \"#bd3786\"], [0.5555555555555556, \"#d8576b\"], [0.6666666666666666, \"#ed7953\"], [0.7777777777777778, \"#fb9f3a\"], [0.8888888888888888, \"#fdca26\"], [1.0, \"#f0f921\"]]}, \"colorway\": [\"#636efa\", \"#EF553B\", \"#00cc96\", \"#ab63fa\", \"#FFA15A\", \"#19d3f3\", \"#FF6692\", \"#B6E880\", \"#FF97FF\", \"#FECB52\"], \"font\": {\"color\": \"#2a3f5f\"}, \"geo\": {\"bgcolor\": \"white\", \"lakecolor\": \"white\", \"landcolor\": \"#E5ECF6\", \"showlakes\": true, \"showland\": true, \"subunitcolor\": \"white\"}, \"hoverlabel\": {\"align\": \"left\"}, \"hovermode\": \"closest\", \"mapbox\": {\"style\": \"light\"}, \"paper_bgcolor\": \"white\", \"plot_bgcolor\": \"#E5ECF6\", \"polar\": {\"angularaxis\": {\"gridcolor\": \"white\", \"linecolor\": \"white\", \"ticks\": \"\"}, \"bgcolor\": \"#E5ECF6\", \"radialaxis\": {\"gridcolor\": \"white\", \"linecolor\": \"white\", \"ticks\": \"\"}}, \"scene\": {\"xaxis\": {\"backgroundcolor\": \"#E5ECF6\", \"gridcolor\": \"white\", \"gridwidth\": 2, \"linecolor\": \"white\", \"showbackground\": true, \"ticks\": \"\", \"zerolinecolor\": \"white\"}, \"yaxis\": {\"backgroundcolor\": \"#E5ECF6\", \"gridcolor\": \"white\", \"gridwidth\": 2, \"linecolor\": \"white\", \"showbackground\": true, \"ticks\": \"\", \"zerolinecolor\": \"white\"}, \"zaxis\": {\"backgroundcolor\": \"#E5ECF6\", \"gridcolor\": \"white\", \"gridwidth\": 2, \"linecolor\": \"white\", \"showbackground\": true, \"ticks\": \"\", \"zerolinecolor\": \"white\"}}, \"shapedefaults\": {\"line\": {\"color\": \"#2a3f5f\"}}, \"ternary\": {\"aaxis\": {\"gridcolor\": \"white\", \"linecolor\": \"white\", \"ticks\": \"\"}, \"baxis\": {\"gridcolor\": \"white\", \"linecolor\": \"white\", \"ticks\": \"\"}, \"bgcolor\": \"#E5ECF6\", \"caxis\": {\"gridcolor\": \"white\", \"linecolor\": \"white\", \"ticks\": \"\"}}, \"title\": {\"x\": 0.05}, \"xaxis\": {\"automargin\": true, \"gridcolor\": \"white\", \"linecolor\": \"white\", \"ticks\": \"\", \"title\": {\"standoff\": 15}, \"zerolinecolor\": \"white\", \"zerolinewidth\": 2}, \"yaxis\": {\"automargin\": true, \"gridcolor\": \"white\", \"linecolor\": \"white\", \"ticks\": \"\", \"title\": {\"standoff\": 15}, \"zerolinecolor\": \"white\", \"zerolinewidth\": 2}}}, \"title\": {\"text\": \"Distribution of Age\"}, \"xaxis\": {\"anchor\": \"y2\", \"domain\": [0.0, 1.0], \"zeroline\": false}, \"yaxis\": {\"anchor\": \"free\", \"domain\": [0.35, 1], \"position\": 0.0}, \"yaxis2\": {\"anchor\": \"x\", \"domain\": [0, 0.25], \"dtick\": 1, \"showticklabels\": false}},\n",
              "                        {\"responsive\": true}\n",
              "                    ).then(function(){\n",
              "                            \n",
              "var gd = document.getElementById('4d995426-4d64-477c-a521-7a168d547c5b');\n",
              "var x = new MutationObserver(function (mutations, observer) {{\n",
              "        var display = window.getComputedStyle(gd).display;\n",
              "        if (!display || display === 'none') {{\n",
              "            console.log([gd, 'removed!']);\n",
              "            Plotly.purge(gd);\n",
              "            observer.disconnect();\n",
              "        }}\n",
              "}});\n",
              "\n",
              "// Listen for the removal of the full notebook cells\n",
              "var notebookContainer = gd.closest('#notebook-container');\n",
              "if (notebookContainer) {{\n",
              "    x.observe(notebookContainer, {childList: true});\n",
              "}}\n",
              "\n",
              "// Listen for the clearing of the current output cell\n",
              "var outputEl = gd.closest('.output');\n",
              "if (outputEl) {{\n",
              "    x.observe(outputEl, {childList: true});\n",
              "}}\n",
              "\n",
              "                        })\n",
              "                };\n",
              "                \n",
              "            </script>\n",
              "        </div>\n",
              "</body>\n",
              "</html>"
            ]
          },
          "metadata": {
            "tags": []
          }
        }
      ]
    },
    {
      "cell_type": "code",
      "metadata": {
        "colab": {
          "base_uri": "https://localhost:8080/",
          "height": 173
        },
        "id": "D3RCjQjRG_v5",
        "outputId": "fea4ebe0-814f-4399-9e64-dbc9f09235bd"
      },
      "source": [
        "labels = ['18 - 30', '31 - 42', '43 - 54', '55 - 65'] \r\n",
        "labels\r\n",
        "\r\n",
        "bins=[17,30,42,54,65] \r\n",
        "age_binned=pd.cut(df['Age'],bins=bins,labels=labels)\r\n",
        "age_binned.tail()\r\n",
        "\r\n",
        "df['AgeBuckets']=age_binned\r\n",
        "df['AgeBuckets']=df['AgeBuckets'].astype(object)\r\n",
        "\r\n",
        "df.describe(include=np.object)"
      ],
      "execution_count": 246,
      "outputs": [
        {
          "output_type": "execute_result",
          "data": {
            "text/html": [
              "<div>\n",
              "<style scoped>\n",
              "    .dataframe tbody tr th:only-of-type {\n",
              "        vertical-align: middle;\n",
              "    }\n",
              "\n",
              "    .dataframe tbody tr th {\n",
              "        vertical-align: top;\n",
              "    }\n",
              "\n",
              "    .dataframe thead th {\n",
              "        text-align: right;\n",
              "    }\n",
              "</style>\n",
              "<table border=\"1\" class=\"dataframe\">\n",
              "  <thead>\n",
              "    <tr style=\"text-align: right;\">\n",
              "      <th></th>\n",
              "      <th>JobTitle</th>\n",
              "      <th>Gender</th>\n",
              "      <th>Education</th>\n",
              "      <th>Dept</th>\n",
              "      <th>AgeBuckets</th>\n",
              "    </tr>\n",
              "  </thead>\n",
              "  <tbody>\n",
              "    <tr>\n",
              "      <th>count</th>\n",
              "      <td>1000</td>\n",
              "      <td>1000</td>\n",
              "      <td>1000</td>\n",
              "      <td>1000</td>\n",
              "      <td>1000</td>\n",
              "    </tr>\n",
              "    <tr>\n",
              "      <th>unique</th>\n",
              "      <td>10</td>\n",
              "      <td>2</td>\n",
              "      <td>4</td>\n",
              "      <td>5</td>\n",
              "      <td>4</td>\n",
              "    </tr>\n",
              "    <tr>\n",
              "      <th>top</th>\n",
              "      <td>Marketing Associate</td>\n",
              "      <td>Male</td>\n",
              "      <td>High School</td>\n",
              "      <td>Operations</td>\n",
              "      <td>18 - 30</td>\n",
              "    </tr>\n",
              "    <tr>\n",
              "      <th>freq</th>\n",
              "      <td>118</td>\n",
              "      <td>532</td>\n",
              "      <td>265</td>\n",
              "      <td>210</td>\n",
              "      <td>284</td>\n",
              "    </tr>\n",
              "  </tbody>\n",
              "</table>\n",
              "</div>"
            ],
            "text/plain": [
              "                   JobTitle Gender    Education        Dept AgeBuckets\n",
              "count                  1000   1000         1000        1000       1000\n",
              "unique                   10      2            4           5          4\n",
              "top     Marketing Associate   Male  High School  Operations    18 - 30\n",
              "freq                    118    532          265         210        284"
            ]
          },
          "metadata": {
            "tags": []
          },
          "execution_count": 246
        }
      ]
    },
    {
      "cell_type": "markdown",
      "metadata": {
        "id": "FjIl-ax7H0Qq"
      },
      "source": [
        "## **Findings**\r\n",
        "\r\n",
        "1. Higher number of males than females\r\n",
        "2. Operations is the most common department\r\n",
        "3. Marketing Associate is the most common job title\r\n",
        "4. Three years is the most common number of years of work experience\r\n",
        "5. 5 is the most common performance rating\r\n",
        "6. High school is the most common educational background\r\n",
        "7. 18- 30 is the most common age group"
      ]
    },
    {
      "cell_type": "code",
      "metadata": {
        "colab": {
          "base_uri": "https://localhost:8080/",
          "height": 204
        },
        "id": "tMwXqmPlHfM8",
        "outputId": "9619d0c3-7be8-4ecd-a2c4-6a738c7f24f3"
      },
      "source": [
        "df.head()"
      ],
      "execution_count": 247,
      "outputs": [
        {
          "output_type": "execute_result",
          "data": {
            "text/html": [
              "<div>\n",
              "<style scoped>\n",
              "    .dataframe tbody tr th:only-of-type {\n",
              "        vertical-align: middle;\n",
              "    }\n",
              "\n",
              "    .dataframe tbody tr th {\n",
              "        vertical-align: top;\n",
              "    }\n",
              "\n",
              "    .dataframe thead th {\n",
              "        text-align: right;\n",
              "    }\n",
              "</style>\n",
              "<table border=\"1\" class=\"dataframe\">\n",
              "  <thead>\n",
              "    <tr style=\"text-align: right;\">\n",
              "      <th></th>\n",
              "      <th>JobTitle</th>\n",
              "      <th>Gender</th>\n",
              "      <th>Age</th>\n",
              "      <th>PerfEval</th>\n",
              "      <th>Education</th>\n",
              "      <th>Dept</th>\n",
              "      <th>Seniority</th>\n",
              "      <th>BasePay</th>\n",
              "      <th>Bonus</th>\n",
              "      <th>totalPay</th>\n",
              "      <th>AgeBuckets</th>\n",
              "    </tr>\n",
              "  </thead>\n",
              "  <tbody>\n",
              "    <tr>\n",
              "      <th>0</th>\n",
              "      <td>Graphic Designer</td>\n",
              "      <td>Female</td>\n",
              "      <td>18</td>\n",
              "      <td>5</td>\n",
              "      <td>College</td>\n",
              "      <td>Operations</td>\n",
              "      <td>2</td>\n",
              "      <td>42363</td>\n",
              "      <td>9938</td>\n",
              "      <td>52301</td>\n",
              "      <td>18 - 30</td>\n",
              "    </tr>\n",
              "    <tr>\n",
              "      <th>1</th>\n",
              "      <td>Software Engineer</td>\n",
              "      <td>Male</td>\n",
              "      <td>21</td>\n",
              "      <td>5</td>\n",
              "      <td>College</td>\n",
              "      <td>Management</td>\n",
              "      <td>5</td>\n",
              "      <td>108476</td>\n",
              "      <td>11128</td>\n",
              "      <td>119604</td>\n",
              "      <td>18 - 30</td>\n",
              "    </tr>\n",
              "    <tr>\n",
              "      <th>2</th>\n",
              "      <td>Warehouse Associate</td>\n",
              "      <td>Female</td>\n",
              "      <td>19</td>\n",
              "      <td>4</td>\n",
              "      <td>PhD</td>\n",
              "      <td>Administration</td>\n",
              "      <td>5</td>\n",
              "      <td>90208</td>\n",
              "      <td>9268</td>\n",
              "      <td>99476</td>\n",
              "      <td>18 - 30</td>\n",
              "    </tr>\n",
              "    <tr>\n",
              "      <th>3</th>\n",
              "      <td>Software Engineer</td>\n",
              "      <td>Male</td>\n",
              "      <td>20</td>\n",
              "      <td>5</td>\n",
              "      <td>Masters</td>\n",
              "      <td>Sales</td>\n",
              "      <td>4</td>\n",
              "      <td>108080</td>\n",
              "      <td>10154</td>\n",
              "      <td>118234</td>\n",
              "      <td>18 - 30</td>\n",
              "    </tr>\n",
              "    <tr>\n",
              "      <th>4</th>\n",
              "      <td>Graphic Designer</td>\n",
              "      <td>Male</td>\n",
              "      <td>26</td>\n",
              "      <td>5</td>\n",
              "      <td>Masters</td>\n",
              "      <td>Engineering</td>\n",
              "      <td>5</td>\n",
              "      <td>99464</td>\n",
              "      <td>9319</td>\n",
              "      <td>108783</td>\n",
              "      <td>18 - 30</td>\n",
              "    </tr>\n",
              "  </tbody>\n",
              "</table>\n",
              "</div>"
            ],
            "text/plain": [
              "              JobTitle  Gender  Age  ...  Bonus totalPay AgeBuckets\n",
              "0     Graphic Designer  Female   18  ...   9938    52301    18 - 30\n",
              "1    Software Engineer    Male   21  ...  11128   119604    18 - 30\n",
              "2  Warehouse Associate  Female   19  ...   9268    99476    18 - 30\n",
              "3    Software Engineer    Male   20  ...  10154   118234    18 - 30\n",
              "4     Graphic Designer    Male   26  ...   9319   108783    18 - 30\n",
              "\n",
              "[5 rows x 11 columns]"
            ]
          },
          "metadata": {
            "tags": []
          },
          "execution_count": 247
        }
      ]
    },
    {
      "cell_type": "code",
      "metadata": {
        "colab": {
          "base_uri": "https://localhost:8080/",
          "height": 419
        },
        "id": "DNE_9_BmKICC",
        "outputId": "c9ef4aee-e38f-4c24-9e86-5e31ffb2347d"
      },
      "source": [
        "male=df.loc[df['Gender'] == 'Male']\r\n",
        "male"
      ],
      "execution_count": 248,
      "outputs": [
        {
          "output_type": "execute_result",
          "data": {
            "text/html": [
              "<div>\n",
              "<style scoped>\n",
              "    .dataframe tbody tr th:only-of-type {\n",
              "        vertical-align: middle;\n",
              "    }\n",
              "\n",
              "    .dataframe tbody tr th {\n",
              "        vertical-align: top;\n",
              "    }\n",
              "\n",
              "    .dataframe thead th {\n",
              "        text-align: right;\n",
              "    }\n",
              "</style>\n",
              "<table border=\"1\" class=\"dataframe\">\n",
              "  <thead>\n",
              "    <tr style=\"text-align: right;\">\n",
              "      <th></th>\n",
              "      <th>JobTitle</th>\n",
              "      <th>Gender</th>\n",
              "      <th>Age</th>\n",
              "      <th>PerfEval</th>\n",
              "      <th>Education</th>\n",
              "      <th>Dept</th>\n",
              "      <th>Seniority</th>\n",
              "      <th>BasePay</th>\n",
              "      <th>Bonus</th>\n",
              "      <th>totalPay</th>\n",
              "      <th>AgeBuckets</th>\n",
              "    </tr>\n",
              "  </thead>\n",
              "  <tbody>\n",
              "    <tr>\n",
              "      <th>1</th>\n",
              "      <td>Software Engineer</td>\n",
              "      <td>Male</td>\n",
              "      <td>21</td>\n",
              "      <td>5</td>\n",
              "      <td>College</td>\n",
              "      <td>Management</td>\n",
              "      <td>5</td>\n",
              "      <td>108476</td>\n",
              "      <td>11128</td>\n",
              "      <td>119604</td>\n",
              "      <td>18 - 30</td>\n",
              "    </tr>\n",
              "    <tr>\n",
              "      <th>3</th>\n",
              "      <td>Software Engineer</td>\n",
              "      <td>Male</td>\n",
              "      <td>20</td>\n",
              "      <td>5</td>\n",
              "      <td>Masters</td>\n",
              "      <td>Sales</td>\n",
              "      <td>4</td>\n",
              "      <td>108080</td>\n",
              "      <td>10154</td>\n",
              "      <td>118234</td>\n",
              "      <td>18 - 30</td>\n",
              "    </tr>\n",
              "    <tr>\n",
              "      <th>4</th>\n",
              "      <td>Graphic Designer</td>\n",
              "      <td>Male</td>\n",
              "      <td>26</td>\n",
              "      <td>5</td>\n",
              "      <td>Masters</td>\n",
              "      <td>Engineering</td>\n",
              "      <td>5</td>\n",
              "      <td>99464</td>\n",
              "      <td>9319</td>\n",
              "      <td>108783</td>\n",
              "      <td>18 - 30</td>\n",
              "    </tr>\n",
              "    <tr>\n",
              "      <th>7</th>\n",
              "      <td>Software Engineer</td>\n",
              "      <td>Male</td>\n",
              "      <td>18</td>\n",
              "      <td>4</td>\n",
              "      <td>PhD</td>\n",
              "      <td>Engineering</td>\n",
              "      <td>5</td>\n",
              "      <td>97523</td>\n",
              "      <td>10240</td>\n",
              "      <td>107763</td>\n",
              "      <td>18 - 30</td>\n",
              "    </tr>\n",
              "    <tr>\n",
              "      <th>10</th>\n",
              "      <td>Graphic Designer</td>\n",
              "      <td>Male</td>\n",
              "      <td>24</td>\n",
              "      <td>5</td>\n",
              "      <td>PhD</td>\n",
              "      <td>Engineering</td>\n",
              "      <td>5</td>\n",
              "      <td>102261</td>\n",
              "      <td>10212</td>\n",
              "      <td>112473</td>\n",
              "      <td>18 - 30</td>\n",
              "    </tr>\n",
              "    <tr>\n",
              "      <th>...</th>\n",
              "      <td>...</td>\n",
              "      <td>...</td>\n",
              "      <td>...</td>\n",
              "      <td>...</td>\n",
              "      <td>...</td>\n",
              "      <td>...</td>\n",
              "      <td>...</td>\n",
              "      <td>...</td>\n",
              "      <td>...</td>\n",
              "      <td>...</td>\n",
              "      <td>...</td>\n",
              "    </tr>\n",
              "    <tr>\n",
              "      <th>988</th>\n",
              "      <td>Sales Associate</td>\n",
              "      <td>Male</td>\n",
              "      <td>62</td>\n",
              "      <td>1</td>\n",
              "      <td>Masters</td>\n",
              "      <td>Administration</td>\n",
              "      <td>2</td>\n",
              "      <td>102593</td>\n",
              "      <td>1823</td>\n",
              "      <td>104416</td>\n",
              "      <td>55 - 65</td>\n",
              "    </tr>\n",
              "    <tr>\n",
              "      <th>996</th>\n",
              "      <td>Data Scientist</td>\n",
              "      <td>Male</td>\n",
              "      <td>57</td>\n",
              "      <td>1</td>\n",
              "      <td>Masters</td>\n",
              "      <td>Sales</td>\n",
              "      <td>2</td>\n",
              "      <td>108977</td>\n",
              "      <td>3567</td>\n",
              "      <td>112544</td>\n",
              "      <td>55 - 65</td>\n",
              "    </tr>\n",
              "    <tr>\n",
              "      <th>997</th>\n",
              "      <td>Financial Analyst</td>\n",
              "      <td>Male</td>\n",
              "      <td>48</td>\n",
              "      <td>1</td>\n",
              "      <td>High School</td>\n",
              "      <td>Operations</td>\n",
              "      <td>1</td>\n",
              "      <td>92347</td>\n",
              "      <td>2724</td>\n",
              "      <td>95071</td>\n",
              "      <td>43 - 54</td>\n",
              "    </tr>\n",
              "    <tr>\n",
              "      <th>998</th>\n",
              "      <td>Financial Analyst</td>\n",
              "      <td>Male</td>\n",
              "      <td>65</td>\n",
              "      <td>2</td>\n",
              "      <td>High School</td>\n",
              "      <td>Administration</td>\n",
              "      <td>1</td>\n",
              "      <td>97376</td>\n",
              "      <td>2225</td>\n",
              "      <td>99601</td>\n",
              "      <td>55 - 65</td>\n",
              "    </tr>\n",
              "    <tr>\n",
              "      <th>999</th>\n",
              "      <td>Financial Analyst</td>\n",
              "      <td>Male</td>\n",
              "      <td>60</td>\n",
              "      <td>1</td>\n",
              "      <td>PhD</td>\n",
              "      <td>Sales</td>\n",
              "      <td>2</td>\n",
              "      <td>123108</td>\n",
              "      <td>2244</td>\n",
              "      <td>125352</td>\n",
              "      <td>55 - 65</td>\n",
              "    </tr>\n",
              "  </tbody>\n",
              "</table>\n",
              "<p>532 rows × 11 columns</p>\n",
              "</div>"
            ],
            "text/plain": [
              "              JobTitle Gender  Age  ...  Bonus totalPay AgeBuckets\n",
              "1    Software Engineer   Male   21  ...  11128   119604    18 - 30\n",
              "3    Software Engineer   Male   20  ...  10154   118234    18 - 30\n",
              "4     Graphic Designer   Male   26  ...   9319   108783    18 - 30\n",
              "7    Software Engineer   Male   18  ...  10240   107763    18 - 30\n",
              "10    Graphic Designer   Male   24  ...  10212   112473    18 - 30\n",
              "..                 ...    ...  ...  ...    ...      ...        ...\n",
              "988    Sales Associate   Male   62  ...   1823   104416    55 - 65\n",
              "996     Data Scientist   Male   57  ...   3567   112544    55 - 65\n",
              "997  Financial Analyst   Male   48  ...   2724    95071    43 - 54\n",
              "998  Financial Analyst   Male   65  ...   2225    99601    55 - 65\n",
              "999  Financial Analyst   Male   60  ...   2244   125352    55 - 65\n",
              "\n",
              "[532 rows x 11 columns]"
            ]
          },
          "metadata": {
            "tags": []
          },
          "execution_count": 248
        }
      ]
    },
    {
      "cell_type": "code",
      "metadata": {
        "colab": {
          "base_uri": "https://localhost:8080/",
          "height": 419
        },
        "id": "Sjmx_CsNKJvT",
        "outputId": "fc25fec5-0f28-437b-c49f-f1e9f901fd8f"
      },
      "source": [
        "female=df.loc[df['Gender'] == 'Female']\r\n",
        "female"
      ],
      "execution_count": 249,
      "outputs": [
        {
          "output_type": "execute_result",
          "data": {
            "text/html": [
              "<div>\n",
              "<style scoped>\n",
              "    .dataframe tbody tr th:only-of-type {\n",
              "        vertical-align: middle;\n",
              "    }\n",
              "\n",
              "    .dataframe tbody tr th {\n",
              "        vertical-align: top;\n",
              "    }\n",
              "\n",
              "    .dataframe thead th {\n",
              "        text-align: right;\n",
              "    }\n",
              "</style>\n",
              "<table border=\"1\" class=\"dataframe\">\n",
              "  <thead>\n",
              "    <tr style=\"text-align: right;\">\n",
              "      <th></th>\n",
              "      <th>JobTitle</th>\n",
              "      <th>Gender</th>\n",
              "      <th>Age</th>\n",
              "      <th>PerfEval</th>\n",
              "      <th>Education</th>\n",
              "      <th>Dept</th>\n",
              "      <th>Seniority</th>\n",
              "      <th>BasePay</th>\n",
              "      <th>Bonus</th>\n",
              "      <th>totalPay</th>\n",
              "      <th>AgeBuckets</th>\n",
              "    </tr>\n",
              "  </thead>\n",
              "  <tbody>\n",
              "    <tr>\n",
              "      <th>0</th>\n",
              "      <td>Graphic Designer</td>\n",
              "      <td>Female</td>\n",
              "      <td>18</td>\n",
              "      <td>5</td>\n",
              "      <td>College</td>\n",
              "      <td>Operations</td>\n",
              "      <td>2</td>\n",
              "      <td>42363</td>\n",
              "      <td>9938</td>\n",
              "      <td>52301</td>\n",
              "      <td>18 - 30</td>\n",
              "    </tr>\n",
              "    <tr>\n",
              "      <th>2</th>\n",
              "      <td>Warehouse Associate</td>\n",
              "      <td>Female</td>\n",
              "      <td>19</td>\n",
              "      <td>4</td>\n",
              "      <td>PhD</td>\n",
              "      <td>Administration</td>\n",
              "      <td>5</td>\n",
              "      <td>90208</td>\n",
              "      <td>9268</td>\n",
              "      <td>99476</td>\n",
              "      <td>18 - 30</td>\n",
              "    </tr>\n",
              "    <tr>\n",
              "      <th>5</th>\n",
              "      <td>IT</td>\n",
              "      <td>Female</td>\n",
              "      <td>20</td>\n",
              "      <td>5</td>\n",
              "      <td>PhD</td>\n",
              "      <td>Operations</td>\n",
              "      <td>4</td>\n",
              "      <td>70890</td>\n",
              "      <td>10126</td>\n",
              "      <td>81016</td>\n",
              "      <td>18 - 30</td>\n",
              "    </tr>\n",
              "    <tr>\n",
              "      <th>6</th>\n",
              "      <td>Graphic Designer</td>\n",
              "      <td>Female</td>\n",
              "      <td>20</td>\n",
              "      <td>5</td>\n",
              "      <td>College</td>\n",
              "      <td>Sales</td>\n",
              "      <td>4</td>\n",
              "      <td>67585</td>\n",
              "      <td>10541</td>\n",
              "      <td>78126</td>\n",
              "      <td>18 - 30</td>\n",
              "    </tr>\n",
              "    <tr>\n",
              "      <th>8</th>\n",
              "      <td>Graphic Designer</td>\n",
              "      <td>Female</td>\n",
              "      <td>33</td>\n",
              "      <td>5</td>\n",
              "      <td>High School</td>\n",
              "      <td>Engineering</td>\n",
              "      <td>5</td>\n",
              "      <td>112976</td>\n",
              "      <td>9836</td>\n",
              "      <td>122812</td>\n",
              "      <td>31 - 42</td>\n",
              "    </tr>\n",
              "    <tr>\n",
              "      <th>...</th>\n",
              "      <td>...</td>\n",
              "      <td>...</td>\n",
              "      <td>...</td>\n",
              "      <td>...</td>\n",
              "      <td>...</td>\n",
              "      <td>...</td>\n",
              "      <td>...</td>\n",
              "      <td>...</td>\n",
              "      <td>...</td>\n",
              "      <td>...</td>\n",
              "      <td>...</td>\n",
              "    </tr>\n",
              "    <tr>\n",
              "      <th>991</th>\n",
              "      <td>IT</td>\n",
              "      <td>Female</td>\n",
              "      <td>65</td>\n",
              "      <td>1</td>\n",
              "      <td>Masters</td>\n",
              "      <td>Administration</td>\n",
              "      <td>1</td>\n",
              "      <td>106945</td>\n",
              "      <td>2041</td>\n",
              "      <td>108986</td>\n",
              "      <td>55 - 65</td>\n",
              "    </tr>\n",
              "    <tr>\n",
              "      <th>992</th>\n",
              "      <td>Graphic Designer</td>\n",
              "      <td>Female</td>\n",
              "      <td>63</td>\n",
              "      <td>1</td>\n",
              "      <td>College</td>\n",
              "      <td>Administration</td>\n",
              "      <td>2</td>\n",
              "      <td>81545</td>\n",
              "      <td>3418</td>\n",
              "      <td>84963</td>\n",
              "      <td>55 - 65</td>\n",
              "    </tr>\n",
              "    <tr>\n",
              "      <th>993</th>\n",
              "      <td>Marketing Associate</td>\n",
              "      <td>Female</td>\n",
              "      <td>65</td>\n",
              "      <td>1</td>\n",
              "      <td>Masters</td>\n",
              "      <td>Administration</td>\n",
              "      <td>1</td>\n",
              "      <td>80789</td>\n",
              "      <td>1884</td>\n",
              "      <td>82673</td>\n",
              "      <td>55 - 65</td>\n",
              "    </tr>\n",
              "    <tr>\n",
              "      <th>994</th>\n",
              "      <td>Marketing Associate</td>\n",
              "      <td>Female</td>\n",
              "      <td>64</td>\n",
              "      <td>1</td>\n",
              "      <td>PhD</td>\n",
              "      <td>Administration</td>\n",
              "      <td>2</td>\n",
              "      <td>85253</td>\n",
              "      <td>2777</td>\n",
              "      <td>88030</td>\n",
              "      <td>55 - 65</td>\n",
              "    </tr>\n",
              "    <tr>\n",
              "      <th>995</th>\n",
              "      <td>Marketing Associate</td>\n",
              "      <td>Female</td>\n",
              "      <td>61</td>\n",
              "      <td>1</td>\n",
              "      <td>High School</td>\n",
              "      <td>Administration</td>\n",
              "      <td>1</td>\n",
              "      <td>62644</td>\n",
              "      <td>3270</td>\n",
              "      <td>65914</td>\n",
              "      <td>55 - 65</td>\n",
              "    </tr>\n",
              "  </tbody>\n",
              "</table>\n",
              "<p>468 rows × 11 columns</p>\n",
              "</div>"
            ],
            "text/plain": [
              "                JobTitle  Gender  Age  ...  Bonus totalPay AgeBuckets\n",
              "0       Graphic Designer  Female   18  ...   9938    52301    18 - 30\n",
              "2    Warehouse Associate  Female   19  ...   9268    99476    18 - 30\n",
              "5                     IT  Female   20  ...  10126    81016    18 - 30\n",
              "6       Graphic Designer  Female   20  ...  10541    78126    18 - 30\n",
              "8       Graphic Designer  Female   33  ...   9836   122812    31 - 42\n",
              "..                   ...     ...  ...  ...    ...      ...        ...\n",
              "991                   IT  Female   65  ...   2041   108986    55 - 65\n",
              "992     Graphic Designer  Female   63  ...   3418    84963    55 - 65\n",
              "993  Marketing Associate  Female   65  ...   1884    82673    55 - 65\n",
              "994  Marketing Associate  Female   64  ...   2777    88030    55 - 65\n",
              "995  Marketing Associate  Female   61  ...   3270    65914    55 - 65\n",
              "\n",
              "[468 rows x 11 columns]"
            ]
          },
          "metadata": {
            "tags": []
          },
          "execution_count": 249
        }
      ]
    },
    {
      "cell_type": "code",
      "metadata": {
        "id": "VoMKrXfnIOiS"
      },
      "source": [
        "one_male=male.loc[male['AgeBuckets']=='18 - 30']\r\n",
        "one_female=female.loc[female['AgeBuckets']=='18 - 30']\r\n",
        "two_male=male.loc[male['AgeBuckets']=='31 - 42']\r\n",
        "two_female=female.loc[female['AgeBuckets']=='31 - 42']\r\n",
        "three_male=male.loc[male['AgeBuckets']=='43 - 54']\r\n",
        "three_female=female.loc[female['AgeBuckets']=='43 - 54']\r\n",
        "four_male=male.loc[male['AgeBuckets']=='55 - 65']\r\n",
        "four_female=female.loc[female['AgeBuckets']=='55 - 65']"
      ],
      "execution_count": 250,
      "outputs": []
    },
    {
      "cell_type": "code",
      "metadata": {
        "id": "d2UzJnURJleo"
      },
      "source": [
        "one_male_bpay=one_male['BasePay'].mean()\r\n",
        "one_female_bpay=one_female['BasePay'].mean()\r\n",
        "two_male_bpay=two_male['BasePay'].mean()\r\n",
        "two_female_bpay=two_female['BasePay'].mean()\r\n",
        "three_male_bpay=one_male['BasePay'].mean()\r\n",
        "three_female_bpay=one_female['BasePay'].mean()\r\n",
        "four_male_bpay=one_male['BasePay'].mean()\r\n",
        "four_female_bpay=one_female['BasePay'].mean()"
      ],
      "execution_count": 251,
      "outputs": []
    },
    {
      "cell_type": "code",
      "metadata": {
        "id": "81V3cuK6KPKl"
      },
      "source": [
        "one_male_tot=one_male['totalPay'].mean()\r\n",
        "one_female_tot=one_female['totalPay'].mean()\r\n",
        "two_male_tot=two_male['totalPay'].mean()\r\n",
        "two_female_tot=two_female['totalPay'].mean()\r\n",
        "three_male_tot=one_male['totalPay'].mean()\r\n",
        "three_female_tot=one_female['totalPay'].mean()\r\n",
        "four_male_tot=one_male['totalPay'].mean()\r\n",
        "four_female_tot=one_female['totalPay'].mean()"
      ],
      "execution_count": 252,
      "outputs": []
    },
    {
      "cell_type": "markdown",
      "metadata": {
        "id": "ln38ATANLtyw"
      },
      "source": [
        "### **Base Pay Gaps acc to Age**"
      ]
    },
    {
      "cell_type": "code",
      "metadata": {
        "id": "q_92fDzFLYU-"
      },
      "source": [
        "bpay_one_gap=((one_male_bpay-one_female_bpay)/one_male_bpay)*100\r\n",
        "bpay_two_gap=((two_male_bpay-two_female_bpay)/two_male_bpay)*100\r\n",
        "bpay_three_gap=((three_male_bpay-three_female_bpay)/three_male_bpay)*100\r\n",
        "bpay_four_gap=((four_male_bpay-four_female_bpay)/four_male_bpay)*100"
      ],
      "execution_count": 253,
      "outputs": []
    },
    {
      "cell_type": "code",
      "metadata": {
        "colab": {
          "base_uri": "https://localhost:8080/"
        },
        "id": "KbvBvW_nMK9N",
        "outputId": "7e8aed17-23db-4e50-861e-2b7667be7386"
      },
      "source": [
        "print(\"Base PAy Gaps According to Age:\")\r\n",
        "print(\"For the Age range of 18-30:\",bpay_one_gap,'%')\r\n",
        "print(\"For the Age range of 31-42:\",bpay_two_gap,'%')\r\n",
        "print(\"For the Age range of 43-54:\",bpay_three_gap,'%')\r\n",
        "print(\"For the Age range of 55-65:\",bpay_four_gap,'%')"
      ],
      "execution_count": 254,
      "outputs": [
        {
          "output_type": "stream",
          "text": [
            "Base PAy Gaps According to Age:\n",
            "For the Age range of 18-30: 10.072991227535768 %\n",
            "For the Age range of 31-42: 10.509950407226428 %\n",
            "For the Age range of 43-54: 10.072991227535768 %\n",
            "For the Age range of 55-65: 10.072991227535768 %\n"
          ],
          "name": "stdout"
        }
      ]
    },
    {
      "cell_type": "markdown",
      "metadata": {
        "id": "N23YORlvNVEy"
      },
      "source": [
        "# **Findings:**\r\n",
        "\r\n",
        "1. There is a gap of approx 10% between base pays of genders accross all age groups\r\n",
        "2. Base Pay gap slightly increases for the range of 31-42 otherwise remains almost constant\r\n",
        "\r\n",
        "By this we can conclude that the pay gap almost remains same with increase in age"
      ]
    },
    {
      "cell_type": "markdown",
      "metadata": {
        "id": "pWkbKNs5Odel"
      },
      "source": [
        "## **Total Pay Gap acc to Age**"
      ]
    },
    {
      "cell_type": "code",
      "metadata": {
        "id": "uhm7eMM1MV1B"
      },
      "source": [
        "tot_one_gap=((one_male_tot-one_female_tot)/one_male_tot)*100\r\n",
        "tot_two_gap=((two_male_tot-two_female_tot)/two_male_tot)*100\r\n",
        "tot_three_gap=((three_male_tot-three_female_tot)/three_male_tot)*100\r\n",
        "tot_four_gap=((four_male_tot-four_female_tot)/four_male_tot)*100"
      ],
      "execution_count": 255,
      "outputs": []
    },
    {
      "cell_type": "code",
      "metadata": {
        "colab": {
          "base_uri": "https://localhost:8080/"
        },
        "id": "XqlwyWrAOjyX",
        "outputId": "8f1260e8-111f-4348-95f2-58673887cd08"
      },
      "source": [
        "print(\"Total PAy Gaps According to Age:\")\r\n",
        "print(\"For the Age range of 18-30:\",tot_one_gap,'%')\r\n",
        "print(\"For the Age range of 31-42:\",tot_two_gap,'%')\r\n",
        "print(\"For the Age range of 43-54:\",tot_three_gap,'%')\r\n",
        "print(\"For the Age range of 55-65:\",tot_four_gap,'%')"
      ],
      "execution_count": 256,
      "outputs": [
        {
          "output_type": "stream",
          "text": [
            "Total PAy Gaps According to Age:\n",
            "For the Age range of 18-30: 9.165579722731557 %\n",
            "For the Age range of 31-42: 9.057292213170816 %\n",
            "For the Age range of 43-54: 9.165579722731557 %\n",
            "For the Age range of 55-65: 9.165579722731557 %\n"
          ],
          "name": "stdout"
        }
      ]
    },
    {
      "cell_type": "markdown",
      "metadata": {
        "id": "J1H9gFk5PEN9"
      },
      "source": [
        "**Findings:**\r\n",
        "\r\n",
        "1. There is a gap of approx 10% between base pays of genders accross all age groups\r\n",
        "2. Total Pay gap slightly increases for the range of 31-42 otherwise remains almost constant\r\n",
        "\r\n",
        "By this we can conclude that the pay gap almost remains same with increase in age"
      ]
    },
    {
      "cell_type": "markdown",
      "metadata": {
        "id": "gomEqMtdPvCQ"
      },
      "source": [
        "### Gender Count  vs Seniority "
      ]
    },
    {
      "cell_type": "code",
      "metadata": {
        "colab": {
          "base_uri": "https://localhost:8080/",
          "height": 542
        },
        "id": "PuMJ5WrDOtWu",
        "outputId": "3adbef9b-8ab5-4e55-d9a5-9e88cb24c87f"
      },
      "source": [
        "fig=px.histogram(df,x='Seniority',color='Gender',barmode='group',title='Gender diverisity across Seniority')\r\n",
        "fig.show()"
      ],
      "execution_count": 257,
      "outputs": [
        {
          "output_type": "display_data",
          "data": {
            "text/html": [
              "<html>\n",
              "<head><meta charset=\"utf-8\" /></head>\n",
              "<body>\n",
              "    <div>\n",
              "            <script src=\"https://cdnjs.cloudflare.com/ajax/libs/mathjax/2.7.5/MathJax.js?config=TeX-AMS-MML_SVG\"></script><script type=\"text/javascript\">if (window.MathJax) {MathJax.Hub.Config({SVG: {font: \"STIX-Web\"}});}</script>\n",
              "                <script type=\"text/javascript\">window.PlotlyConfig = {MathJaxConfig: 'local'};</script>\n",
              "        <script src=\"https://cdn.plot.ly/plotly-latest.min.js\"></script>    \n",
              "            <div id=\"a1341b8f-0baa-4e3e-a26b-eab0f93fabe4\" class=\"plotly-graph-div\" style=\"height:525px; width:100%;\"></div>\n",
              "            <script type=\"text/javascript\">\n",
              "                \n",
              "                    window.PLOTLYENV=window.PLOTLYENV || {};\n",
              "                    \n",
              "                if (document.getElementById(\"a1341b8f-0baa-4e3e-a26b-eab0f93fabe4\")) {\n",
              "                    Plotly.newPlot(\n",
              "                        'a1341b8f-0baa-4e3e-a26b-eab0f93fabe4',\n",
              "                        [{\"alignmentgroup\": \"True\", \"bingroup\": \"x\", \"hoverlabel\": {\"namelength\": 0}, \"hovertemplate\": \"Gender=Female<br>Seniority=%{x}<br>count=%{y}\", \"legendgroup\": \"Gender=Female\", \"marker\": {\"color\": \"#636efa\"}, \"name\": \"Gender=Female\", \"offsetgroup\": \"Gender=Female\", \"orientation\": \"v\", \"showlegend\": true, \"type\": \"histogram\", \"x\": [2, 5, 4, 4, 5, 5, 3, 3, 5, 4, 3, 5, 5, 5, 1, 2, 5, 4, 3, 5, 4, 3, 3, 4, 5, 2, 3, 4, 2, 3, 4, 2, 3, 5, 1, 5, 5, 3, 3, 5, 2, 4, 1, 3, 5, 3, 1, 4, 5, 4, 5, 5, 3, 5, 4, 4, 5, 3, 3, 2, 4, 2, 4, 3, 2, 3, 2, 3, 4, 1, 5, 1, 5, 3, 5, 4, 2, 4, 3, 1, 1, 2, 5, 1, 3, 3, 2, 1, 5, 3, 2, 2, 4, 5, 5, 1, 5, 3, 2, 5, 1, 4, 4, 2, 4, 2, 5, 1, 2, 3, 5, 5, 1, 5, 1, 5, 2, 1, 1, 2, 4, 4, 2, 2, 3, 5, 1, 1, 3, 1, 2, 3, 3, 4, 5, 2, 1, 4, 2, 2, 5, 5, 4, 4, 2, 1, 2, 4, 3, 2, 5, 2, 1, 4, 5, 1, 1, 3, 4, 4, 4, 4, 5, 1, 2, 3, 5, 1, 2, 5, 1, 1, 5, 3, 3, 3, 2, 2, 1, 2, 2, 4, 4, 5, 1, 3, 4, 5, 3, 3, 1, 4, 1, 1, 5, 1, 4, 1, 2, 5, 3, 2, 3, 2, 4, 2, 1, 3, 5, 2, 3, 5, 2, 3, 3, 3, 5, 5, 4, 3, 2, 1, 3, 3, 3, 1, 4, 4, 2, 3, 5, 4, 1, 3, 5, 5, 5, 2, 2, 2, 4, 3, 4, 1, 1, 2, 3, 3, 2, 4, 4, 5, 3, 4, 2, 2, 2, 1, 3, 5, 4, 2, 1, 2, 3, 3, 2, 5, 2, 1, 2, 3, 5, 5, 5, 3, 3, 2, 2, 5, 2, 3, 1, 5, 2, 4, 5, 5, 5, 4, 1, 2, 3, 3, 5, 5, 5, 1, 1, 4, 5, 5, 5, 3, 5, 1, 2, 1, 3, 3, 3, 2, 1, 2, 3, 2, 1, 3, 5, 4, 5, 3, 2, 5, 2, 5, 2, 1, 3, 2, 5, 2, 3, 2, 3, 5, 2, 1, 2, 4, 4, 2, 4, 5, 4, 3, 1, 4, 5, 4, 2, 4, 1, 3, 3, 4, 4, 4, 2, 2, 4, 4, 2, 3, 3, 2, 1, 5, 2, 1, 1, 2, 1, 3, 4, 4, 1, 2, 2, 5, 1, 3, 5, 2, 1, 4, 3, 4, 4, 2, 3, 3, 5, 5, 2, 4, 5, 2, 5, 3, 4, 3, 5, 5, 4, 3, 1, 5, 5, 1, 3, 4, 1, 1, 1, 4, 2, 3, 4, 4, 3, 2, 1, 1, 3, 1, 5, 4, 3, 3, 3, 3, 4, 2, 5, 5, 3, 3, 3, 1, 2, 5, 3, 1, 2, 1, 2, 1, 3, 2, 2, 1, 1, 3, 2, 3, 3, 3, 1, 2, 3, 2, 1, 1, 2, 1, 2, 1], \"xaxis\": \"x\", \"yaxis\": \"y\"}, {\"alignmentgroup\": \"True\", \"bingroup\": \"x\", \"hoverlabel\": {\"namelength\": 0}, \"hovertemplate\": \"Gender=Male<br>Seniority=%{x}<br>count=%{y}\", \"legendgroup\": \"Gender=Male\", \"marker\": {\"color\": \"#EF553B\"}, \"name\": \"Gender=Male\", \"offsetgroup\": \"Gender=Male\", \"orientation\": \"v\", \"showlegend\": true, \"type\": \"histogram\", \"x\": [5, 4, 5, 5, 5, 5, 5, 3, 3, 5, 4, 3, 4, 2, 5, 4, 4, 3, 4, 5, 3, 2, 2, 5, 3, 5, 5, 4, 4, 4, 3, 3, 4, 1, 4, 2, 5, 2, 3, 5, 1, 2, 5, 1, 5, 2, 4, 3, 1, 5, 1, 1, 1, 4, 4, 2, 4, 4, 2, 5, 5, 5, 4, 5, 3, 1, 3, 4, 1, 4, 2, 1, 3, 5, 5, 3, 4, 5, 1, 5, 1, 1, 4, 1, 1, 4, 4, 1, 4, 2, 2, 2, 5, 4, 5, 2, 2, 3, 2, 2, 4, 2, 2, 4, 2, 2, 4, 3, 4, 3, 4, 1, 4, 2, 5, 1, 3, 2, 5, 5, 1, 5, 3, 5, 3, 4, 5, 5, 4, 1, 2, 3, 1, 5, 3, 1, 2, 3, 3, 3, 5, 3, 5, 4, 2, 1, 1, 4, 2, 4, 5, 4, 3, 4, 1, 3, 3, 2, 2, 5, 5, 2, 5, 2, 3, 4, 1, 5, 1, 2, 2, 4, 5, 5, 4, 5, 1, 4, 5, 4, 1, 5, 2, 1, 4, 1, 3, 3, 4, 5, 1, 4, 4, 3, 2, 5, 5, 3, 5, 5, 3, 3, 4, 1, 1, 1, 4, 1, 3, 2, 5, 1, 1, 4, 5, 2, 5, 5, 3, 4, 5, 4, 2, 4, 1, 2, 3, 1, 4, 2, 1, 3, 5, 1, 2, 1, 4, 1, 1, 1, 2, 5, 5, 3, 2, 5, 5, 1, 2, 4, 4, 5, 1, 1, 5, 3, 2, 4, 3, 2, 4, 2, 1, 3, 3, 3, 2, 1, 3, 4, 1, 5, 4, 2, 1, 1, 3, 5, 3, 4, 2, 3, 5, 3, 3, 4, 3, 2, 2, 5, 4, 4, 1, 4, 3, 5, 3, 2, 1, 4, 3, 2, 3, 4, 1, 5, 4, 3, 5, 3, 3, 3, 1, 2, 1, 2, 3, 1, 2, 4, 3, 1, 3, 2, 2, 4, 2, 3, 1, 5, 4, 5, 4, 1, 2, 1, 1, 3, 2, 3, 1, 2, 1, 3, 4, 3, 3, 2, 4, 4, 1, 3, 3, 3, 4, 2, 5, 3, 5, 3, 4, 1, 2, 4, 4, 5, 4, 3, 5, 1, 3, 1, 5, 3, 3, 4, 2, 1, 4, 1, 3, 2, 3, 1, 3, 4, 4, 5, 5, 5, 1, 2, 2, 4, 1, 2, 4, 3, 1, 5, 2, 2, 2, 3, 4, 3, 3, 5, 2, 2, 4, 1, 1, 4, 3, 3, 1, 2, 4, 5, 2, 3, 1, 5, 5, 3, 1, 2, 5, 2, 4, 4, 3, 3, 2, 1, 1, 3, 4, 3, 1, 4, 3, 1, 3, 3, 2, 5, 4, 5, 5, 2, 4, 1, 2, 2, 3, 2, 1, 2, 5, 3, 3, 1, 5, 3, 5, 2, 4, 3, 2, 2, 2, 3, 1, 5, 1, 2, 2, 1, 2, 1, 1, 2, 2, 2, 1, 1, 5, 1, 1, 2, 3, 4, 4, 4, 4, 1, 2, 1, 4, 3, 2, 1, 3, 1, 2, 3, 3, 2, 4, 3, 1, 1, 5, 3, 1, 3, 3, 2, 1, 1, 1, 1, 3, 1, 2, 2, 2, 1, 1, 2], \"xaxis\": \"x\", \"yaxis\": \"y\"}],\n",
              "                        {\"barmode\": \"group\", \"legend\": {\"tracegroupgap\": 0}, \"template\": {\"data\": {\"bar\": [{\"error_x\": {\"color\": \"#2a3f5f\"}, \"error_y\": {\"color\": \"#2a3f5f\"}, \"marker\": {\"line\": {\"color\": \"#E5ECF6\", \"width\": 0.5}}, \"type\": \"bar\"}], \"barpolar\": [{\"marker\": {\"line\": {\"color\": \"#E5ECF6\", \"width\": 0.5}}, \"type\": \"barpolar\"}], \"carpet\": [{\"aaxis\": {\"endlinecolor\": \"#2a3f5f\", \"gridcolor\": \"white\", \"linecolor\": \"white\", \"minorgridcolor\": \"white\", \"startlinecolor\": \"#2a3f5f\"}, \"baxis\": {\"endlinecolor\": \"#2a3f5f\", \"gridcolor\": \"white\", \"linecolor\": \"white\", \"minorgridcolor\": \"white\", \"startlinecolor\": \"#2a3f5f\"}, \"type\": \"carpet\"}], \"choropleth\": [{\"colorbar\": {\"outlinewidth\": 0, \"ticks\": \"\"}, \"type\": \"choropleth\"}], \"contour\": [{\"colorbar\": {\"outlinewidth\": 0, \"ticks\": \"\"}, \"colorscale\": [[0.0, \"#0d0887\"], [0.1111111111111111, \"#46039f\"], [0.2222222222222222, \"#7201a8\"], [0.3333333333333333, \"#9c179e\"], [0.4444444444444444, \"#bd3786\"], [0.5555555555555556, \"#d8576b\"], [0.6666666666666666, \"#ed7953\"], [0.7777777777777778, \"#fb9f3a\"], [0.8888888888888888, \"#fdca26\"], [1.0, \"#f0f921\"]], \"type\": \"contour\"}], \"contourcarpet\": [{\"colorbar\": {\"outlinewidth\": 0, \"ticks\": \"\"}, \"type\": \"contourcarpet\"}], \"heatmap\": [{\"colorbar\": {\"outlinewidth\": 0, \"ticks\": \"\"}, \"colorscale\": [[0.0, \"#0d0887\"], [0.1111111111111111, \"#46039f\"], [0.2222222222222222, \"#7201a8\"], [0.3333333333333333, \"#9c179e\"], [0.4444444444444444, \"#bd3786\"], [0.5555555555555556, \"#d8576b\"], [0.6666666666666666, \"#ed7953\"], [0.7777777777777778, \"#fb9f3a\"], [0.8888888888888888, \"#fdca26\"], [1.0, \"#f0f921\"]], \"type\": \"heatmap\"}], \"heatmapgl\": [{\"colorbar\": {\"outlinewidth\": 0, \"ticks\": \"\"}, \"colorscale\": [[0.0, \"#0d0887\"], [0.1111111111111111, \"#46039f\"], [0.2222222222222222, \"#7201a8\"], [0.3333333333333333, \"#9c179e\"], [0.4444444444444444, \"#bd3786\"], [0.5555555555555556, \"#d8576b\"], [0.6666666666666666, \"#ed7953\"], [0.7777777777777778, \"#fb9f3a\"], [0.8888888888888888, \"#fdca26\"], [1.0, \"#f0f921\"]], \"type\": \"heatmapgl\"}], \"histogram\": [{\"marker\": {\"colorbar\": {\"outlinewidth\": 0, \"ticks\": \"\"}}, \"type\": \"histogram\"}], \"histogram2d\": [{\"colorbar\": {\"outlinewidth\": 0, \"ticks\": \"\"}, \"colorscale\": [[0.0, \"#0d0887\"], [0.1111111111111111, \"#46039f\"], [0.2222222222222222, \"#7201a8\"], [0.3333333333333333, \"#9c179e\"], [0.4444444444444444, \"#bd3786\"], [0.5555555555555556, \"#d8576b\"], [0.6666666666666666, \"#ed7953\"], [0.7777777777777778, \"#fb9f3a\"], [0.8888888888888888, \"#fdca26\"], [1.0, \"#f0f921\"]], \"type\": \"histogram2d\"}], \"histogram2dcontour\": [{\"colorbar\": {\"outlinewidth\": 0, \"ticks\": \"\"}, \"colorscale\": [[0.0, \"#0d0887\"], [0.1111111111111111, \"#46039f\"], [0.2222222222222222, \"#7201a8\"], [0.3333333333333333, \"#9c179e\"], [0.4444444444444444, \"#bd3786\"], [0.5555555555555556, \"#d8576b\"], [0.6666666666666666, \"#ed7953\"], [0.7777777777777778, \"#fb9f3a\"], [0.8888888888888888, \"#fdca26\"], [1.0, \"#f0f921\"]], \"type\": \"histogram2dcontour\"}], \"mesh3d\": [{\"colorbar\": {\"outlinewidth\": 0, \"ticks\": \"\"}, \"type\": \"mesh3d\"}], \"parcoords\": [{\"line\": {\"colorbar\": {\"outlinewidth\": 0, \"ticks\": \"\"}}, \"type\": \"parcoords\"}], \"pie\": [{\"automargin\": true, \"type\": \"pie\"}], \"scatter\": [{\"marker\": {\"colorbar\": {\"outlinewidth\": 0, \"ticks\": \"\"}}, \"type\": \"scatter\"}], \"scatter3d\": [{\"line\": {\"colorbar\": {\"outlinewidth\": 0, \"ticks\": \"\"}}, \"marker\": {\"colorbar\": {\"outlinewidth\": 0, \"ticks\": \"\"}}, \"type\": \"scatter3d\"}], \"scattercarpet\": [{\"marker\": {\"colorbar\": {\"outlinewidth\": 0, \"ticks\": \"\"}}, \"type\": \"scattercarpet\"}], \"scattergeo\": [{\"marker\": {\"colorbar\": {\"outlinewidth\": 0, \"ticks\": \"\"}}, \"type\": \"scattergeo\"}], \"scattergl\": [{\"marker\": {\"colorbar\": {\"outlinewidth\": 0, \"ticks\": \"\"}}, \"type\": \"scattergl\"}], \"scattermapbox\": [{\"marker\": {\"colorbar\": {\"outlinewidth\": 0, \"ticks\": \"\"}}, \"type\": \"scattermapbox\"}], \"scatterpolar\": [{\"marker\": {\"colorbar\": {\"outlinewidth\": 0, \"ticks\": \"\"}}, \"type\": \"scatterpolar\"}], \"scatterpolargl\": [{\"marker\": {\"colorbar\": {\"outlinewidth\": 0, \"ticks\": \"\"}}, \"type\": \"scatterpolargl\"}], \"scatterternary\": [{\"marker\": {\"colorbar\": {\"outlinewidth\": 0, \"ticks\": \"\"}}, \"type\": \"scatterternary\"}], \"surface\": [{\"colorbar\": {\"outlinewidth\": 0, \"ticks\": \"\"}, \"colorscale\": [[0.0, \"#0d0887\"], [0.1111111111111111, \"#46039f\"], [0.2222222222222222, \"#7201a8\"], [0.3333333333333333, \"#9c179e\"], [0.4444444444444444, \"#bd3786\"], [0.5555555555555556, \"#d8576b\"], [0.6666666666666666, \"#ed7953\"], [0.7777777777777778, \"#fb9f3a\"], [0.8888888888888888, \"#fdca26\"], [1.0, \"#f0f921\"]], \"type\": \"surface\"}], \"table\": [{\"cells\": {\"fill\": {\"color\": \"#EBF0F8\"}, \"line\": {\"color\": \"white\"}}, \"header\": {\"fill\": {\"color\": \"#C8D4E3\"}, \"line\": {\"color\": \"white\"}}, \"type\": \"table\"}]}, \"layout\": {\"annotationdefaults\": {\"arrowcolor\": \"#2a3f5f\", \"arrowhead\": 0, \"arrowwidth\": 1}, \"coloraxis\": {\"colorbar\": {\"outlinewidth\": 0, \"ticks\": \"\"}}, \"colorscale\": {\"diverging\": [[0, \"#8e0152\"], [0.1, \"#c51b7d\"], [0.2, \"#de77ae\"], [0.3, \"#f1b6da\"], [0.4, \"#fde0ef\"], [0.5, \"#f7f7f7\"], [0.6, \"#e6f5d0\"], [0.7, \"#b8e186\"], [0.8, \"#7fbc41\"], [0.9, \"#4d9221\"], [1, \"#276419\"]], \"sequential\": [[0.0, \"#0d0887\"], [0.1111111111111111, \"#46039f\"], [0.2222222222222222, \"#7201a8\"], [0.3333333333333333, \"#9c179e\"], [0.4444444444444444, \"#bd3786\"], [0.5555555555555556, \"#d8576b\"], [0.6666666666666666, \"#ed7953\"], [0.7777777777777778, \"#fb9f3a\"], [0.8888888888888888, \"#fdca26\"], [1.0, \"#f0f921\"]], \"sequentialminus\": [[0.0, \"#0d0887\"], [0.1111111111111111, \"#46039f\"], [0.2222222222222222, \"#7201a8\"], [0.3333333333333333, \"#9c179e\"], [0.4444444444444444, \"#bd3786\"], [0.5555555555555556, \"#d8576b\"], [0.6666666666666666, \"#ed7953\"], [0.7777777777777778, \"#fb9f3a\"], [0.8888888888888888, \"#fdca26\"], [1.0, \"#f0f921\"]]}, \"colorway\": [\"#636efa\", \"#EF553B\", \"#00cc96\", \"#ab63fa\", \"#FFA15A\", \"#19d3f3\", \"#FF6692\", \"#B6E880\", \"#FF97FF\", \"#FECB52\"], \"font\": {\"color\": \"#2a3f5f\"}, \"geo\": {\"bgcolor\": \"white\", \"lakecolor\": \"white\", \"landcolor\": \"#E5ECF6\", \"showlakes\": true, \"showland\": true, \"subunitcolor\": \"white\"}, \"hoverlabel\": {\"align\": \"left\"}, \"hovermode\": \"closest\", \"mapbox\": {\"style\": \"light\"}, \"paper_bgcolor\": \"white\", \"plot_bgcolor\": \"#E5ECF6\", \"polar\": {\"angularaxis\": {\"gridcolor\": \"white\", \"linecolor\": \"white\", \"ticks\": \"\"}, \"bgcolor\": \"#E5ECF6\", \"radialaxis\": {\"gridcolor\": \"white\", \"linecolor\": \"white\", \"ticks\": \"\"}}, \"scene\": {\"xaxis\": {\"backgroundcolor\": \"#E5ECF6\", \"gridcolor\": \"white\", \"gridwidth\": 2, \"linecolor\": \"white\", \"showbackground\": true, \"ticks\": \"\", \"zerolinecolor\": \"white\"}, \"yaxis\": {\"backgroundcolor\": \"#E5ECF6\", \"gridcolor\": \"white\", \"gridwidth\": 2, \"linecolor\": \"white\", \"showbackground\": true, \"ticks\": \"\", \"zerolinecolor\": \"white\"}, \"zaxis\": {\"backgroundcolor\": \"#E5ECF6\", \"gridcolor\": \"white\", \"gridwidth\": 2, \"linecolor\": \"white\", \"showbackground\": true, \"ticks\": \"\", \"zerolinecolor\": \"white\"}}, \"shapedefaults\": {\"line\": {\"color\": \"#2a3f5f\"}}, \"ternary\": {\"aaxis\": {\"gridcolor\": \"white\", \"linecolor\": \"white\", \"ticks\": \"\"}, \"baxis\": {\"gridcolor\": \"white\", \"linecolor\": \"white\", \"ticks\": \"\"}, \"bgcolor\": \"#E5ECF6\", \"caxis\": {\"gridcolor\": \"white\", \"linecolor\": \"white\", \"ticks\": \"\"}}, \"title\": {\"x\": 0.05}, \"xaxis\": {\"automargin\": true, \"gridcolor\": \"white\", \"linecolor\": \"white\", \"ticks\": \"\", \"title\": {\"standoff\": 15}, \"zerolinecolor\": \"white\", \"zerolinewidth\": 2}, \"yaxis\": {\"automargin\": true, \"gridcolor\": \"white\", \"linecolor\": \"white\", \"ticks\": \"\", \"title\": {\"standoff\": 15}, \"zerolinecolor\": \"white\", \"zerolinewidth\": 2}}}, \"title\": {\"text\": \"Gender diverisity across Seniority\"}, \"xaxis\": {\"anchor\": \"y\", \"domain\": [0.0, 1.0], \"title\": {\"text\": \"Seniority\"}}, \"yaxis\": {\"anchor\": \"x\", \"domain\": [0.0, 1.0], \"title\": {\"text\": \"count\"}}},\n",
              "                        {\"responsive\": true}\n",
              "                    ).then(function(){\n",
              "                            \n",
              "var gd = document.getElementById('a1341b8f-0baa-4e3e-a26b-eab0f93fabe4');\n",
              "var x = new MutationObserver(function (mutations, observer) {{\n",
              "        var display = window.getComputedStyle(gd).display;\n",
              "        if (!display || display === 'none') {{\n",
              "            console.log([gd, 'removed!']);\n",
              "            Plotly.purge(gd);\n",
              "            observer.disconnect();\n",
              "        }}\n",
              "}});\n",
              "\n",
              "// Listen for the removal of the full notebook cells\n",
              "var notebookContainer = gd.closest('#notebook-container');\n",
              "if (notebookContainer) {{\n",
              "    x.observe(notebookContainer, {childList: true});\n",
              "}}\n",
              "\n",
              "// Listen for the clearing of the current output cell\n",
              "var outputEl = gd.closest('.output');\n",
              "if (outputEl) {{\n",
              "    x.observe(outputEl, {childList: true});\n",
              "}}\n",
              "\n",
              "                        })\n",
              "                };\n",
              "                \n",
              "            </script>\n",
              "        </div>\n",
              "</body>\n",
              "</html>"
            ]
          },
          "metadata": {
            "tags": []
          }
        }
      ]
    },
    {
      "cell_type": "markdown",
      "metadata": {
        "id": "rPCwRGxEQjiK"
      },
      "source": [
        " **Findings:**\r\n",
        "\r\n",
        "Each level of seniority has lesser number of females compared to men, except for users with 5 years of experience"
      ]
    },
    {
      "cell_type": "markdown",
      "metadata": {
        "id": "A8qPTOFnQ05z"
      },
      "source": [
        "### **Gender Count vs Education**"
      ]
    },
    {
      "cell_type": "code",
      "metadata": {
        "colab": {
          "base_uri": "https://localhost:8080/",
          "height": 542
        },
        "id": "g3FEMtEXP3kq",
        "outputId": "c7f5bd9c-cd7f-41be-d83b-612a04852b8f"
      },
      "source": [
        "fig1=px.histogram(df,x='Education',color='Gender',barmode='group',title='Gender diverisity across Education')\r\n",
        "fig1.show()"
      ],
      "execution_count": 258,
      "outputs": [
        {
          "output_type": "display_data",
          "data": {
            "text/html": [
              "<html>\n",
              "<head><meta charset=\"utf-8\" /></head>\n",
              "<body>\n",
              "    <div>\n",
              "            <script src=\"https://cdnjs.cloudflare.com/ajax/libs/mathjax/2.7.5/MathJax.js?config=TeX-AMS-MML_SVG\"></script><script type=\"text/javascript\">if (window.MathJax) {MathJax.Hub.Config({SVG: {font: \"STIX-Web\"}});}</script>\n",
              "                <script type=\"text/javascript\">window.PlotlyConfig = {MathJaxConfig: 'local'};</script>\n",
              "        <script src=\"https://cdn.plot.ly/plotly-latest.min.js\"></script>    \n",
              "            <div id=\"7cc7480b-860b-4a4c-bf1b-7050005833c0\" class=\"plotly-graph-div\" style=\"height:525px; width:100%;\"></div>\n",
              "            <script type=\"text/javascript\">\n",
              "                \n",
              "                    window.PLOTLYENV=window.PLOTLYENV || {};\n",
              "                    \n",
              "                if (document.getElementById(\"7cc7480b-860b-4a4c-bf1b-7050005833c0\")) {\n",
              "                    Plotly.newPlot(\n",
              "                        '7cc7480b-860b-4a4c-bf1b-7050005833c0',\n",
              "                        [{\"alignmentgroup\": \"True\", \"bingroup\": \"x\", \"hoverlabel\": {\"namelength\": 0}, \"hovertemplate\": \"Gender=Female<br>Education=%{x}<br>count=%{y}\", \"legendgroup\": \"Gender=Female\", \"marker\": {\"color\": \"#636efa\"}, \"name\": \"Gender=Female\", \"offsetgroup\": \"Gender=Female\", \"orientation\": \"v\", \"showlegend\": true, \"type\": \"histogram\", \"x\": [\"College\", \"PhD\", \"PhD\", \"College\", \"High School\", \"College\", \"College\", \"College\", \"Masters\", \"PhD\", \"PhD\", \"PhD\", \"College\", \"College\", \"College\", \"College\", \"College\", \"PhD\", \"High School\", \"PhD\", \"College\", \"PhD\", \"PhD\", \"High School\", \"PhD\", \"Masters\", \"Masters\", \"College\", \"High School\", \"College\", \"Masters\", \"College\", \"High School\", \"College\", \"College\", \"PhD\", \"College\", \"PhD\", \"College\", \"College\", \"College\", \"Masters\", \"PhD\", \"PhD\", \"Masters\", \"Masters\", \"Masters\", \"Masters\", \"High School\", \"Masters\", \"High School\", \"College\", \"PhD\", \"High School\", \"Masters\", \"Masters\", \"Masters\", \"High School\", \"Masters\", \"Masters\", \"Masters\", \"Masters\", \"Masters\", \"PhD\", \"Masters\", \"College\", \"College\", \"College\", \"High School\", \"High School\", \"High School\", \"PhD\", \"High School\", \"Masters\", \"High School\", \"PhD\", \"College\", \"PhD\", \"High School\", \"College\", \"Masters\", \"PhD\", \"Masters\", \"PhD\", \"College\", \"High School\", \"High School\", \"High School\", \"PhD\", \"Masters\", \"Masters\", \"College\", \"Masters\", \"Masters\", \"PhD\", \"High School\", \"Masters\", \"PhD\", \"High School\", \"Masters\", \"College\", \"High School\", \"College\", \"High School\", \"College\", \"PhD\", \"PhD\", \"College\", \"Masters\", \"PhD\", \"PhD\", \"High School\", \"High School\", \"Masters\", \"College\", \"High School\", \"College\", \"High School\", \"Masters\", \"College\", \"College\", \"College\", \"Masters\", \"High School\", \"PhD\", \"High School\", \"Masters\", \"Masters\", \"High School\", \"High School\", \"High School\", \"PhD\", \"High School\", \"High School\", \"Masters\", \"College\", \"Masters\", \"Masters\", \"PhD\", \"PhD\", \"Masters\", \"College\", \"High School\", \"High School\", \"Masters\", \"High School\", \"Masters\", \"Masters\", \"PhD\", \"College\", \"College\", \"PhD\", \"College\", \"Masters\", \"High School\", \"PhD\", \"PhD\", \"Masters\", \"Masters\", \"High School\", \"College\", \"PhD\", \"High School\", \"Masters\", \"College\", \"High School\", \"High School\", \"PhD\", \"College\", \"College\", \"PhD\", \"PhD\", \"Masters\", \"PhD\", \"PhD\", \"College\", \"Masters\", \"Masters\", \"High School\", \"College\", \"Masters\", \"College\", \"PhD\", \"High School\", \"College\", \"College\", \"College\", \"PhD\", \"High School\", \"PhD\", \"High School\", \"College\", \"Masters\", \"High School\", \"PhD\", \"College\", \"Masters\", \"High School\", \"College\", \"High School\", \"High School\", \"High School\", \"PhD\", \"Masters\", \"College\", \"High School\", \"College\", \"PhD\", \"Masters\", \"College\", \"PhD\", \"High School\", \"PhD\", \"PhD\", \"Masters\", \"College\", \"College\", \"College\", \"Masters\", \"College\", \"High School\", \"PhD\", \"High School\", \"High School\", \"High School\", \"Masters\", \"High School\", \"PhD\", \"College\", \"Masters\", \"PhD\", \"PhD\", \"High School\", \"PhD\", \"Masters\", \"College\", \"College\", \"High School\", \"Masters\", \"PhD\", \"College\", \"Masters\", \"Masters\", \"PhD\", \"PhD\", \"High School\", \"College\", \"High School\", \"PhD\", \"PhD\", \"College\", \"College\", \"Masters\", \"College\", \"High School\", \"High School\", \"PhD\", \"College\", \"High School\", \"College\", \"College\", \"College\", \"College\", \"College\", \"Masters\", \"College\", \"PhD\", \"PhD\", \"PhD\", \"Masters\", \"High School\", \"High School\", \"PhD\", \"PhD\", \"College\", \"College\", \"High School\", \"College\", \"High School\", \"Masters\", \"High School\", \"Masters\", \"Masters\", \"High School\", \"College\", \"Masters\", \"Masters\", \"Masters\", \"PhD\", \"High School\", \"College\", \"Masters\", \"High School\", \"Masters\", \"Masters\", \"Masters\", \"College\", \"High School\", \"PhD\", \"High School\", \"PhD\", \"High School\", \"PhD\", \"High School\", \"High School\", \"Masters\", \"College\", \"PhD\", \"PhD\", \"College\", \"PhD\", \"College\", \"High School\", \"Masters\", \"College\", \"PhD\", \"PhD\", \"College\", \"Masters\", \"High School\", \"High School\", \"Masters\", \"PhD\", \"High School\", \"PhD\", \"High School\", \"Masters\", \"College\", \"Masters\", \"PhD\", \"Masters\", \"Masters\", \"PhD\", \"College\", \"PhD\", \"Masters\", \"Masters\", \"High School\", \"High School\", \"College\", \"College\", \"PhD\", \"College\", \"Masters\", \"High School\", \"PhD\", \"High School\", \"High School\", \"PhD\", \"Masters\", \"High School\", \"High School\", \"PhD\", \"PhD\", \"College\", \"PhD\", \"PhD\", \"High School\", \"Masters\", \"College\", \"College\", \"High School\", \"College\", \"High School\", \"College\", \"College\", \"College\", \"High School\", \"High School\", \"Masters\", \"PhD\", \"High School\", \"High School\", \"High School\", \"College\", \"Masters\", \"College\", \"College\", \"PhD\", \"High School\", \"High School\", \"High School\", \"Masters\", \"High School\", \"High School\", \"College\", \"Masters\", \"High School\", \"High School\", \"Masters\", \"Masters\", \"High School\", \"High School\", \"PhD\", \"College\", \"High School\", \"College\", \"Masters\", \"College\", \"High School\", \"Masters\", \"Masters\", \"High School\", \"College\", \"College\", \"PhD\", \"College\", \"High School\", \"High School\", \"College\", \"High School\", \"Masters\", \"PhD\", \"High School\", \"High School\", \"College\", \"High School\", \"High School\", \"College\", \"Masters\", \"Masters\", \"College\", \"High School\", \"High School\", \"College\", \"High School\", \"PhD\", \"Masters\", \"Masters\", \"High School\", \"PhD\", \"High School\", \"PhD\", \"PhD\", \"College\", \"PhD\", \"Masters\", \"High School\", \"PhD\", \"High School\", \"PhD\", \"High School\", \"High School\", \"PhD\", \"PhD\", \"College\", \"PhD\", \"High School\", \"PhD\", \"College\", \"College\", \"High School\", \"Masters\", \"High School\", \"Masters\", \"College\", \"College\", \"PhD\", \"College\", \"High School\", \"High School\", \"High School\", \"Masters\", \"Masters\", \"College\", \"Masters\", \"PhD\", \"High School\"], \"xaxis\": \"x\", \"yaxis\": \"y\"}, {\"alignmentgroup\": \"True\", \"bingroup\": \"x\", \"hoverlabel\": {\"namelength\": 0}, \"hovertemplate\": \"Gender=Male<br>Education=%{x}<br>count=%{y}\", \"legendgroup\": \"Gender=Male\", \"marker\": {\"color\": \"#EF553B\"}, \"name\": \"Gender=Male\", \"offsetgroup\": \"Gender=Male\", \"orientation\": \"v\", \"showlegend\": true, \"type\": \"histogram\", \"x\": [\"College\", \"Masters\", \"Masters\", \"PhD\", \"PhD\", \"High School\", \"PhD\", \"PhD\", \"PhD\", \"PhD\", \"Masters\", \"PhD\", \"PhD\", \"Masters\", \"Masters\", \"PhD\", \"High School\", \"High School\", \"College\", \"PhD\", \"PhD\", \"PhD\", \"Masters\", \"Masters\", \"Masters\", \"College\", \"Masters\", \"Masters\", \"PhD\", \"PhD\", \"Masters\", \"PhD\", \"College\", \"High School\", \"PhD\", \"High School\", \"College\", \"High School\", \"Masters\", \"Masters\", \"PhD\", \"High School\", \"PhD\", \"PhD\", \"PhD\", \"PhD\", \"High School\", \"College\", \"High School\", \"College\", \"PhD\", \"High School\", \"PhD\", \"PhD\", \"College\", \"College\", \"PhD\", \"PhD\", \"Masters\", \"High School\", \"College\", \"PhD\", \"High School\", \"High School\", \"Masters\", \"PhD\", \"Masters\", \"College\", \"High School\", \"Masters\", \"PhD\", \"College\", \"High School\", \"Masters\", \"Masters\", \"Masters\", \"Masters\", \"College\", \"Masters\", \"Masters\", \"High School\", \"Masters\", \"High School\", \"Masters\", \"Masters\", \"PhD\", \"College\", \"PhD\", \"High School\", \"PhD\", \"High School\", \"PhD\", \"PhD\", \"Masters\", \"PhD\", \"High School\", \"Masters\", \"Masters\", \"PhD\", \"College\", \"College\", \"College\", \"Masters\", \"High School\", \"Masters\", \"College\", \"High School\", \"High School\", \"PhD\", \"Masters\", \"High School\", \"Masters\", \"High School\", \"Masters\", \"College\", \"High School\", \"High School\", \"High School\", \"College\", \"College\", \"Masters\", \"PhD\", \"College\", \"Masters\", \"High School\", \"College\", \"College\", \"PhD\", \"Masters\", \"Masters\", \"High School\", \"High School\", \"High School\", \"College\", \"High School\", \"College\", \"High School\", \"PhD\", \"High School\", \"PhD\", \"Masters\", \"High School\", \"High School\", \"High School\", \"Masters\", \"PhD\", \"Masters\", \"Masters\", \"High School\", \"PhD\", \"Masters\", \"High School\", \"PhD\", \"College\", \"Masters\", \"College\", \"PhD\", \"High School\", \"Masters\", \"Masters\", \"Masters\", \"Masters\", \"Masters\", \"High School\", \"College\", \"Masters\", \"Masters\", \"College\", \"College\", \"PhD\", \"College\", \"College\", \"High School\", \"College\", \"PhD\", \"Masters\", \"Masters\", \"PhD\", \"High School\", \"PhD\", \"College\", \"PhD\", \"College\", \"PhD\", \"College\", \"Masters\", \"PhD\", \"College\", \"High School\", \"Masters\", \"Masters\", \"High School\", \"College\", \"High School\", \"High School\", \"Masters\", \"PhD\", \"PhD\", \"College\", \"Masters\", \"PhD\", \"College\", \"High School\", \"College\", \"College\", \"PhD\", \"High School\", \"College\", \"Masters\", \"PhD\", \"PhD\", \"PhD\", \"PhD\", \"College\", \"Masters\", \"Masters\", \"College\", \"College\", \"PhD\", \"PhD\", \"Masters\", \"College\", \"High School\", \"Masters\", \"PhD\", \"College\", \"High School\", \"High School\", \"PhD\", \"High School\", \"High School\", \"High School\", \"PhD\", \"Masters\", \"PhD\", \"College\", \"Masters\", \"High School\", \"PhD\", \"College\", \"Masters\", \"College\", \"Masters\", \"High School\", \"High School\", \"Masters\", \"Masters\", \"PhD\", \"PhD\", \"PhD\", \"PhD\", \"College\", \"Masters\", \"Masters\", \"Masters\", \"PhD\", \"College\", \"College\", \"College\", \"PhD\", \"PhD\", \"Masters\", \"PhD\", \"College\", \"Masters\", \"Masters\", \"High School\", \"High School\", \"Masters\", \"Masters\", \"PhD\", \"PhD\", \"College\", \"College\", \"College\", \"PhD\", \"Masters\", \"PhD\", \"PhD\", \"Masters\", \"Masters\", \"College\", \"Masters\", \"College\", \"College\", \"PhD\", \"High School\", \"High School\", \"PhD\", \"College\", \"College\", \"PhD\", \"College\", \"PhD\", \"College\", \"College\", \"College\", \"Masters\", \"Masters\", \"College\", \"High School\", \"College\", \"High School\", \"Masters\", \"PhD\", \"PhD\", \"Masters\", \"High School\", \"PhD\", \"Masters\", \"Masters\", \"Masters\", \"College\", \"College\", \"Masters\", \"Masters\", \"College\", \"College\", \"High School\", \"High School\", \"PhD\", \"Masters\", \"PhD\", \"College\", \"PhD\", \"College\", \"College\", \"PhD\", \"College\", \"Masters\", \"Masters\", \"Masters\", \"PhD\", \"High School\", \"High School\", \"PhD\", \"Masters\", \"College\", \"PhD\", \"College\", \"Masters\", \"Masters\", \"PhD\", \"College\", \"High School\", \"College\", \"PhD\", \"High School\", \"High School\", \"High School\", \"PhD\", \"High School\", \"College\", \"Masters\", \"Masters\", \"College\", \"High School\", \"College\", \"Masters\", \"Masters\", \"High School\", \"College\", \"High School\", \"College\", \"Masters\", \"Masters\", \"High School\", \"College\", \"Masters\", \"Masters\", \"PhD\", \"Masters\", \"Masters\", \"Masters\", \"High School\", \"PhD\", \"High School\", \"High School\", \"Masters\", \"PhD\", \"High School\", \"PhD\", \"College\", \"Masters\", \"PhD\", \"PhD\", \"High School\", \"College\", \"College\", \"High School\", \"Masters\", \"Masters\", \"College\", \"High School\", \"Masters\", \"High School\", \"PhD\", \"Masters\", \"PhD\", \"PhD\", \"High School\", \"High School\", \"Masters\", \"Masters\", \"PhD\", \"Masters\", \"College\", \"College\", \"High School\", \"PhD\", \"College\", \"College\", \"College\", \"Masters\", \"PhD\", \"High School\", \"Masters\", \"High School\", \"PhD\", \"Masters\", \"College\", \"Masters\", \"Masters\", \"College\", \"High School\", \"Masters\", \"College\", \"PhD\", \"High School\", \"PhD\", \"Masters\", \"PhD\", \"Masters\", \"PhD\", \"PhD\", \"High School\", \"Masters\", \"Masters\", \"High School\", \"High School\", \"High School\", \"College\", \"PhD\", \"High School\", \"Masters\", \"PhD\", \"High School\", \"Masters\", \"High School\", \"High School\", \"PhD\", \"High School\", \"PhD\", \"College\", \"High School\", \"High School\", \"High School\", \"Masters\", \"PhD\", \"High School\", \"College\", \"High School\", \"PhD\", \"High School\", \"PhD\", \"Masters\", \"College\", \"High School\", \"PhD\", \"High School\", \"High School\", \"Masters\", \"Masters\", \"High School\", \"College\", \"Masters\", \"High School\", \"High School\", \"Masters\", \"Masters\", \"Masters\", \"High School\", \"College\", \"PhD\", \"Masters\", \"College\", \"High School\", \"High School\", \"High School\", \"Masters\", \"College\", \"College\", \"College\", \"PhD\", \"PhD\", \"High School\", \"PhD\", \"High School\", \"Masters\", \"PhD\", \"College\", \"High School\", \"Masters\", \"College\", \"High School\", \"Masters\", \"College\", \"College\", \"PhD\", \"PhD\", \"College\", \"College\", \"Masters\", \"Masters\", \"PhD\", \"High School\", \"High School\", \"Masters\", \"High School\", \"High School\", \"Masters\", \"High School\", \"Masters\", \"High School\", \"High School\", \"High School\", \"College\", \"Masters\", \"Masters\", \"High School\", \"High School\", \"PhD\"], \"xaxis\": \"x\", \"yaxis\": \"y\"}],\n",
              "                        {\"barmode\": \"group\", \"legend\": {\"tracegroupgap\": 0}, \"template\": {\"data\": {\"bar\": [{\"error_x\": {\"color\": \"#2a3f5f\"}, \"error_y\": {\"color\": \"#2a3f5f\"}, \"marker\": {\"line\": {\"color\": \"#E5ECF6\", \"width\": 0.5}}, \"type\": \"bar\"}], \"barpolar\": [{\"marker\": {\"line\": {\"color\": \"#E5ECF6\", \"width\": 0.5}}, \"type\": \"barpolar\"}], \"carpet\": [{\"aaxis\": {\"endlinecolor\": \"#2a3f5f\", \"gridcolor\": \"white\", \"linecolor\": \"white\", \"minorgridcolor\": \"white\", \"startlinecolor\": \"#2a3f5f\"}, \"baxis\": {\"endlinecolor\": \"#2a3f5f\", \"gridcolor\": \"white\", \"linecolor\": \"white\", \"minorgridcolor\": \"white\", \"startlinecolor\": \"#2a3f5f\"}, \"type\": \"carpet\"}], \"choropleth\": [{\"colorbar\": {\"outlinewidth\": 0, \"ticks\": \"\"}, \"type\": \"choropleth\"}], \"contour\": [{\"colorbar\": {\"outlinewidth\": 0, \"ticks\": \"\"}, \"colorscale\": [[0.0, \"#0d0887\"], [0.1111111111111111, \"#46039f\"], [0.2222222222222222, \"#7201a8\"], [0.3333333333333333, \"#9c179e\"], [0.4444444444444444, \"#bd3786\"], [0.5555555555555556, \"#d8576b\"], [0.6666666666666666, \"#ed7953\"], [0.7777777777777778, \"#fb9f3a\"], [0.8888888888888888, \"#fdca26\"], [1.0, \"#f0f921\"]], \"type\": \"contour\"}], \"contourcarpet\": [{\"colorbar\": {\"outlinewidth\": 0, \"ticks\": \"\"}, \"type\": \"contourcarpet\"}], \"heatmap\": [{\"colorbar\": {\"outlinewidth\": 0, \"ticks\": \"\"}, \"colorscale\": [[0.0, \"#0d0887\"], [0.1111111111111111, \"#46039f\"], [0.2222222222222222, \"#7201a8\"], [0.3333333333333333, \"#9c179e\"], [0.4444444444444444, \"#bd3786\"], [0.5555555555555556, \"#d8576b\"], [0.6666666666666666, \"#ed7953\"], [0.7777777777777778, \"#fb9f3a\"], [0.8888888888888888, \"#fdca26\"], [1.0, \"#f0f921\"]], \"type\": \"heatmap\"}], \"heatmapgl\": [{\"colorbar\": {\"outlinewidth\": 0, \"ticks\": \"\"}, \"colorscale\": [[0.0, \"#0d0887\"], [0.1111111111111111, \"#46039f\"], [0.2222222222222222, \"#7201a8\"], [0.3333333333333333, \"#9c179e\"], [0.4444444444444444, \"#bd3786\"], [0.5555555555555556, \"#d8576b\"], [0.6666666666666666, \"#ed7953\"], [0.7777777777777778, \"#fb9f3a\"], [0.8888888888888888, \"#fdca26\"], [1.0, \"#f0f921\"]], \"type\": \"heatmapgl\"}], \"histogram\": [{\"marker\": {\"colorbar\": {\"outlinewidth\": 0, \"ticks\": \"\"}}, \"type\": \"histogram\"}], \"histogram2d\": [{\"colorbar\": {\"outlinewidth\": 0, \"ticks\": \"\"}, \"colorscale\": [[0.0, \"#0d0887\"], [0.1111111111111111, \"#46039f\"], [0.2222222222222222, \"#7201a8\"], [0.3333333333333333, \"#9c179e\"], [0.4444444444444444, \"#bd3786\"], [0.5555555555555556, \"#d8576b\"], [0.6666666666666666, \"#ed7953\"], [0.7777777777777778, \"#fb9f3a\"], [0.8888888888888888, \"#fdca26\"], [1.0, \"#f0f921\"]], \"type\": \"histogram2d\"}], \"histogram2dcontour\": [{\"colorbar\": {\"outlinewidth\": 0, \"ticks\": \"\"}, \"colorscale\": [[0.0, \"#0d0887\"], [0.1111111111111111, \"#46039f\"], [0.2222222222222222, \"#7201a8\"], [0.3333333333333333, \"#9c179e\"], [0.4444444444444444, \"#bd3786\"], [0.5555555555555556, \"#d8576b\"], [0.6666666666666666, \"#ed7953\"], [0.7777777777777778, \"#fb9f3a\"], [0.8888888888888888, \"#fdca26\"], [1.0, \"#f0f921\"]], \"type\": \"histogram2dcontour\"}], \"mesh3d\": [{\"colorbar\": {\"outlinewidth\": 0, \"ticks\": \"\"}, \"type\": \"mesh3d\"}], \"parcoords\": [{\"line\": {\"colorbar\": {\"outlinewidth\": 0, \"ticks\": \"\"}}, \"type\": \"parcoords\"}], \"pie\": [{\"automargin\": true, \"type\": \"pie\"}], \"scatter\": [{\"marker\": {\"colorbar\": {\"outlinewidth\": 0, \"ticks\": \"\"}}, \"type\": \"scatter\"}], \"scatter3d\": [{\"line\": {\"colorbar\": {\"outlinewidth\": 0, \"ticks\": \"\"}}, \"marker\": {\"colorbar\": {\"outlinewidth\": 0, \"ticks\": \"\"}}, \"type\": \"scatter3d\"}], \"scattercarpet\": [{\"marker\": {\"colorbar\": {\"outlinewidth\": 0, \"ticks\": \"\"}}, \"type\": \"scattercarpet\"}], \"scattergeo\": [{\"marker\": {\"colorbar\": {\"outlinewidth\": 0, \"ticks\": \"\"}}, \"type\": \"scattergeo\"}], \"scattergl\": [{\"marker\": {\"colorbar\": {\"outlinewidth\": 0, \"ticks\": \"\"}}, \"type\": \"scattergl\"}], \"scattermapbox\": [{\"marker\": {\"colorbar\": {\"outlinewidth\": 0, \"ticks\": \"\"}}, \"type\": \"scattermapbox\"}], \"scatterpolar\": [{\"marker\": {\"colorbar\": {\"outlinewidth\": 0, \"ticks\": \"\"}}, \"type\": \"scatterpolar\"}], \"scatterpolargl\": [{\"marker\": {\"colorbar\": {\"outlinewidth\": 0, \"ticks\": \"\"}}, \"type\": \"scatterpolargl\"}], \"scatterternary\": [{\"marker\": {\"colorbar\": {\"outlinewidth\": 0, \"ticks\": \"\"}}, \"type\": \"scatterternary\"}], \"surface\": [{\"colorbar\": {\"outlinewidth\": 0, \"ticks\": \"\"}, \"colorscale\": [[0.0, \"#0d0887\"], [0.1111111111111111, \"#46039f\"], [0.2222222222222222, \"#7201a8\"], [0.3333333333333333, \"#9c179e\"], [0.4444444444444444, \"#bd3786\"], [0.5555555555555556, \"#d8576b\"], [0.6666666666666666, \"#ed7953\"], [0.7777777777777778, \"#fb9f3a\"], [0.8888888888888888, \"#fdca26\"], [1.0, \"#f0f921\"]], \"type\": \"surface\"}], \"table\": [{\"cells\": {\"fill\": {\"color\": \"#EBF0F8\"}, \"line\": {\"color\": \"white\"}}, \"header\": {\"fill\": {\"color\": \"#C8D4E3\"}, \"line\": {\"color\": \"white\"}}, \"type\": \"table\"}]}, \"layout\": {\"annotationdefaults\": {\"arrowcolor\": \"#2a3f5f\", \"arrowhead\": 0, \"arrowwidth\": 1}, \"coloraxis\": {\"colorbar\": {\"outlinewidth\": 0, \"ticks\": \"\"}}, \"colorscale\": {\"diverging\": [[0, \"#8e0152\"], [0.1, \"#c51b7d\"], [0.2, \"#de77ae\"], [0.3, \"#f1b6da\"], [0.4, \"#fde0ef\"], [0.5, \"#f7f7f7\"], [0.6, \"#e6f5d0\"], [0.7, \"#b8e186\"], [0.8, \"#7fbc41\"], [0.9, \"#4d9221\"], [1, \"#276419\"]], \"sequential\": [[0.0, \"#0d0887\"], [0.1111111111111111, \"#46039f\"], [0.2222222222222222, \"#7201a8\"], [0.3333333333333333, \"#9c179e\"], [0.4444444444444444, \"#bd3786\"], [0.5555555555555556, \"#d8576b\"], [0.6666666666666666, \"#ed7953\"], [0.7777777777777778, \"#fb9f3a\"], [0.8888888888888888, \"#fdca26\"], [1.0, \"#f0f921\"]], \"sequentialminus\": [[0.0, \"#0d0887\"], [0.1111111111111111, \"#46039f\"], [0.2222222222222222, \"#7201a8\"], [0.3333333333333333, \"#9c179e\"], [0.4444444444444444, \"#bd3786\"], [0.5555555555555556, \"#d8576b\"], [0.6666666666666666, \"#ed7953\"], [0.7777777777777778, \"#fb9f3a\"], [0.8888888888888888, \"#fdca26\"], [1.0, \"#f0f921\"]]}, \"colorway\": [\"#636efa\", \"#EF553B\", \"#00cc96\", \"#ab63fa\", \"#FFA15A\", \"#19d3f3\", \"#FF6692\", \"#B6E880\", \"#FF97FF\", \"#FECB52\"], \"font\": {\"color\": \"#2a3f5f\"}, \"geo\": {\"bgcolor\": \"white\", \"lakecolor\": \"white\", \"landcolor\": \"#E5ECF6\", \"showlakes\": true, \"showland\": true, \"subunitcolor\": \"white\"}, \"hoverlabel\": {\"align\": \"left\"}, \"hovermode\": \"closest\", \"mapbox\": {\"style\": \"light\"}, \"paper_bgcolor\": \"white\", \"plot_bgcolor\": \"#E5ECF6\", \"polar\": {\"angularaxis\": {\"gridcolor\": \"white\", \"linecolor\": \"white\", \"ticks\": \"\"}, \"bgcolor\": \"#E5ECF6\", \"radialaxis\": {\"gridcolor\": \"white\", \"linecolor\": \"white\", \"ticks\": \"\"}}, \"scene\": {\"xaxis\": {\"backgroundcolor\": \"#E5ECF6\", \"gridcolor\": \"white\", \"gridwidth\": 2, \"linecolor\": \"white\", \"showbackground\": true, \"ticks\": \"\", \"zerolinecolor\": \"white\"}, \"yaxis\": {\"backgroundcolor\": \"#E5ECF6\", \"gridcolor\": \"white\", \"gridwidth\": 2, \"linecolor\": \"white\", \"showbackground\": true, \"ticks\": \"\", \"zerolinecolor\": \"white\"}, \"zaxis\": {\"backgroundcolor\": \"#E5ECF6\", \"gridcolor\": \"white\", \"gridwidth\": 2, \"linecolor\": \"white\", \"showbackground\": true, \"ticks\": \"\", \"zerolinecolor\": \"white\"}}, \"shapedefaults\": {\"line\": {\"color\": \"#2a3f5f\"}}, \"ternary\": {\"aaxis\": {\"gridcolor\": \"white\", \"linecolor\": \"white\", \"ticks\": \"\"}, \"baxis\": {\"gridcolor\": \"white\", \"linecolor\": \"white\", \"ticks\": \"\"}, \"bgcolor\": \"#E5ECF6\", \"caxis\": {\"gridcolor\": \"white\", \"linecolor\": \"white\", \"ticks\": \"\"}}, \"title\": {\"x\": 0.05}, \"xaxis\": {\"automargin\": true, \"gridcolor\": \"white\", \"linecolor\": \"white\", \"ticks\": \"\", \"title\": {\"standoff\": 15}, \"zerolinecolor\": \"white\", \"zerolinewidth\": 2}, \"yaxis\": {\"automargin\": true, \"gridcolor\": \"white\", \"linecolor\": \"white\", \"ticks\": \"\", \"title\": {\"standoff\": 15}, \"zerolinecolor\": \"white\", \"zerolinewidth\": 2}}}, \"title\": {\"text\": \"Gender diverisity across Education\"}, \"xaxis\": {\"anchor\": \"y\", \"domain\": [0.0, 1.0], \"title\": {\"text\": \"Education\"}}, \"yaxis\": {\"anchor\": \"x\", \"domain\": [0.0, 1.0], \"title\": {\"text\": \"count\"}}},\n",
              "                        {\"responsive\": true}\n",
              "                    ).then(function(){\n",
              "                            \n",
              "var gd = document.getElementById('7cc7480b-860b-4a4c-bf1b-7050005833c0');\n",
              "var x = new MutationObserver(function (mutations, observer) {{\n",
              "        var display = window.getComputedStyle(gd).display;\n",
              "        if (!display || display === 'none') {{\n",
              "            console.log([gd, 'removed!']);\n",
              "            Plotly.purge(gd);\n",
              "            observer.disconnect();\n",
              "        }}\n",
              "}});\n",
              "\n",
              "// Listen for the removal of the full notebook cells\n",
              "var notebookContainer = gd.closest('#notebook-container');\n",
              "if (notebookContainer) {{\n",
              "    x.observe(notebookContainer, {childList: true});\n",
              "}}\n",
              "\n",
              "// Listen for the clearing of the current output cell\n",
              "var outputEl = gd.closest('.output');\n",
              "if (outputEl) {{\n",
              "    x.observe(outputEl, {childList: true});\n",
              "}}\n",
              "\n",
              "                        })\n",
              "                };\n",
              "                \n",
              "            </script>\n",
              "        </div>\n",
              "</body>\n",
              "</html>"
            ]
          },
          "metadata": {
            "tags": []
          }
        }
      ]
    },
    {
      "cell_type": "markdown",
      "metadata": {
        "id": "Adl0MkcdReJV"
      },
      "source": [
        "**Findings**\r\n",
        "\r\n",
        "1. Most number of women are high school graduates\r\n",
        "2. Women are lesser than men at every level of education except college"
      ]
    },
    {
      "cell_type": "code",
      "metadata": {
        "colab": {
          "base_uri": "https://localhost:8080/",
          "height": 542
        },
        "id": "4gla5cZiRaJj",
        "outputId": "8f353f1a-af0b-467a-8901-3580ac7640bd"
      },
      "source": [
        "px.histogram(df,x=\"JobTitle\",color=\"Education\",barmode=\"stack\")"
      ],
      "execution_count": 259,
      "outputs": [
        {
          "output_type": "display_data",
          "data": {
            "text/html": [
              "<html>\n",
              "<head><meta charset=\"utf-8\" /></head>\n",
              "<body>\n",
              "    <div>\n",
              "            <script src=\"https://cdnjs.cloudflare.com/ajax/libs/mathjax/2.7.5/MathJax.js?config=TeX-AMS-MML_SVG\"></script><script type=\"text/javascript\">if (window.MathJax) {MathJax.Hub.Config({SVG: {font: \"STIX-Web\"}});}</script>\n",
              "                <script type=\"text/javascript\">window.PlotlyConfig = {MathJaxConfig: 'local'};</script>\n",
              "        <script src=\"https://cdn.plot.ly/plotly-latest.min.js\"></script>    \n",
              "            <div id=\"5b8705a0-d1f4-4e9f-8772-15fe942c1782\" class=\"plotly-graph-div\" style=\"height:525px; width:100%;\"></div>\n",
              "            <script type=\"text/javascript\">\n",
              "                \n",
              "                    window.PLOTLYENV=window.PLOTLYENV || {};\n",
              "                    \n",
              "                if (document.getElementById(\"5b8705a0-d1f4-4e9f-8772-15fe942c1782\")) {\n",
              "                    Plotly.newPlot(\n",
              "                        '5b8705a0-d1f4-4e9f-8772-15fe942c1782',\n",
              "                        [{\"alignmentgroup\": \"True\", \"bingroup\": \"x\", \"hoverlabel\": {\"namelength\": 0}, \"hovertemplate\": \"Education=College<br>JobTitle=%{x}<br>count=%{y}\", \"legendgroup\": \"Education=College\", \"marker\": {\"color\": \"#636efa\"}, \"name\": \"Education=College\", \"offsetgroup\": \"Education=College\", \"orientation\": \"v\", \"showlegend\": true, \"type\": \"histogram\", \"x\": [\"Graphic Designer\", \"Software Engineer\", \"Graphic Designer\", \"Sales Associate\", \"Driver\", \"Financial Analyst\", \"Warehouse Associate\", \"Data Scientist\", \"Driver\", \"Graphic Designer\", \"IT\", \"IT\", \"IT\", \"Marketing Associate\", \"Data Scientist\", \"Data Scientist\", \"Warehouse Associate\", \"Driver\", \"Warehouse Associate\", \"Manager\", \"Sales Associate\", \"Financial Analyst\", \"Warehouse Associate\", \"Marketing Associate\", \"Warehouse Associate\", \"Software Engineer\", \"IT\", \"Warehouse Associate\", \"Financial Analyst\", \"Driver\", \"Marketing Associate\", \"IT\", \"IT\", \"Data Scientist\", \"Financial Analyst\", \"Software Engineer\", \"Warehouse Associate\", \"Graphic Designer\", \"Graphic Designer\", \"Financial Analyst\", \"IT\", \"Software Engineer\", \"Driver\", \"Financial Analyst\", \"Graphic Designer\", \"Software Engineer\", \"Data Scientist\", \"Graphic Designer\", \"Manager\", \"Financial Analyst\", \"IT\", \"Graphic Designer\", \"Manager\", \"Driver\", \"Sales Associate\", \"IT\", \"IT\", \"IT\", \"Graphic Designer\", \"Marketing Associate\", \"Graphic Designer\", \"Driver\", \"Warehouse Associate\", \"Warehouse Associate\", \"Driver\", \"Warehouse Associate\", \"Software Engineer\", \"Driver\", \"Warehouse Associate\", \"Data Scientist\", \"IT\", \"Driver\", \"Manager\", \"Driver\", \"Financial Analyst\", \"Warehouse Associate\", \"Driver\", \"Warehouse Associate\", \"Graphic Designer\", \"Software Engineer\", \"Driver\", \"Graphic Designer\", \"Marketing Associate\", \"Financial Analyst\", \"Driver\", \"Marketing Associate\", \"Driver\", \"Marketing Associate\", \"Marketing Associate\", \"Marketing Associate\", \"Marketing Associate\", \"Sales Associate\", \"Manager\", \"IT\", \"Financial Analyst\", \"Marketing Associate\", \"Sales Associate\", \"IT\", \"Manager\", \"IT\", \"Financial Analyst\", \"Manager\", \"Marketing Associate\", \"IT\", \"Driver\", \"Sales Associate\", \"Software Engineer\", \"Warehouse Associate\", \"Graphic Designer\", \"Sales Associate\", \"Data Scientist\", \"Warehouse Associate\", \"Data Scientist\", \"Graphic Designer\", \"Software Engineer\", \"Graphic Designer\", \"Financial Analyst\", \"Graphic Designer\", \"Warehouse Associate\", \"Sales Associate\", \"Graphic Designer\", \"Financial Analyst\", \"Warehouse Associate\", \"Manager\", \"Sales Associate\", \"Warehouse Associate\", \"IT\", \"Manager\", \"Manager\", \"Driver\", \"Data Scientist\", \"Warehouse Associate\", \"Software Engineer\", \"Driver\", \"Data Scientist\", \"Sales Associate\", \"Data Scientist\", \"Sales Associate\", \"IT\", \"Financial Analyst\", \"Manager\", \"Data Scientist\", \"Financial Analyst\", \"Sales Associate\", \"IT\", \"Graphic Designer\", \"Financial Analyst\", \"Data Scientist\", \"Manager\", \"Marketing Associate\", \"Software Engineer\", \"IT\", \"Manager\", \"Marketing Associate\", \"Manager\", \"IT\", \"Driver\", \"Manager\", \"Software Engineer\", \"Sales Associate\", \"Driver\", \"Data Scientist\", \"Graphic Designer\", \"Sales Associate\", \"Driver\", \"Driver\", \"Marketing Associate\", \"Manager\", \"Data Scientist\", \"Software Engineer\", \"IT\", \"Data Scientist\", \"Warehouse Associate\", \"Data Scientist\", \"Financial Analyst\", \"IT\", \"Marketing Associate\", \"Warehouse Associate\", \"Software Engineer\", \"Manager\", \"Marketing Associate\", \"Sales Associate\", \"Warehouse Associate\", \"Driver\", \"Graphic Designer\", \"IT\", \"Manager\", \"Data Scientist\", \"Software Engineer\", \"Graphic Designer\", \"Financial Analyst\", \"Software Engineer\", \"Financial Analyst\", \"Graphic Designer\", \"Financial Analyst\", \"Software Engineer\", \"Marketing Associate\", \"Marketing Associate\", \"Manager\", \"IT\", \"Warehouse Associate\", \"Driver\", \"Sales Associate\", \"Marketing Associate\", \"Graphic Designer\", \"Driver\", \"Marketing Associate\", \"Manager\", \"Marketing Associate\", \"Manager\", \"Data Scientist\", \"Software Engineer\", \"Financial Analyst\", \"Warehouse Associate\", \"Financial Analyst\", \"Sales Associate\", \"Financial Analyst\", \"Financial Analyst\", \"Manager\", \"Marketing Associate\", \"Marketing Associate\", \"Driver\", \"Graphic Designer\", \"IT\", \"Software Engineer\", \"IT\", \"Marketing Associate\", \"Warehouse Associate\", \"Manager\", \"Graphic Designer\", \"Sales Associate\", \"Marketing Associate\", \"Driver\", \"Financial Analyst\", \"Sales Associate\", \"Financial Analyst\", \"Sales Associate\", \"IT\", \"Marketing Associate\", \"Data Scientist\", \"Graphic Designer\"], \"xaxis\": \"x\", \"yaxis\": \"y\"}, {\"alignmentgroup\": \"True\", \"bingroup\": \"x\", \"hoverlabel\": {\"namelength\": 0}, \"hovertemplate\": \"Education=PhD<br>JobTitle=%{x}<br>count=%{y}\", \"legendgroup\": \"Education=PhD\", \"marker\": {\"color\": \"#EF553B\"}, \"name\": \"Education=PhD\", \"offsetgroup\": \"Education=PhD\", \"orientation\": \"v\", \"showlegend\": true, \"type\": \"histogram\", \"x\": [\"Warehouse Associate\", \"IT\", \"Software Engineer\", \"Graphic Designer\", \"Warehouse Associate\", \"Marketing Associate\", \"Financial Analyst\", \"Warehouse Associate\", \"Financial Analyst\", \"Warehouse Associate\", \"Software Engineer\", \"Graphic Designer\", \"Warehouse Associate\", \"Marketing Associate\", \"Data Scientist\", \"Software Engineer\", \"Data Scientist\", \"Data Scientist\", \"Software Engineer\", \"Data Scientist\", \"Graphic Designer\", \"Marketing Associate\", \"Software Engineer\", \"Financial Analyst\", \"Software Engineer\", \"Data Scientist\", \"Warehouse Associate\", \"Marketing Associate\", \"Warehouse Associate\", \"Manager\", \"Data Scientist\", \"IT\", \"Graphic Designer\", \"Manager\", \"Software Engineer\", \"Financial Analyst\", \"Sales Associate\", \"Warehouse Associate\", \"Driver\", \"Graphic Designer\", \"Data Scientist\", \"Software Engineer\", \"IT\", \"Graphic Designer\", \"Manager\", \"Warehouse Associate\", \"Software Engineer\", \"Driver\", \"Warehouse Associate\", \"Sales Associate\", \"Marketing Associate\", \"Driver\", \"IT\", \"Manager\", \"Sales Associate\", \"Marketing Associate\", \"Software Engineer\", \"Software Engineer\", \"Software Engineer\", \"IT\", \"Marketing Associate\", \"Graphic Designer\", \"Data Scientist\", \"Driver\", \"Marketing Associate\", \"Financial Analyst\", \"Driver\", \"IT\", \"Driver\", \"Graphic Designer\", \"Driver\", \"IT\", \"Graphic Designer\", \"Sales Associate\", \"Driver\", \"Financial Analyst\", \"Manager\", \"Warehouse Associate\", \"Sales Associate\", \"Marketing Associate\", \"Graphic Designer\", \"IT\", \"Graphic Designer\", \"Manager\", \"Software Engineer\", \"Sales Associate\", \"Marketing Associate\", \"Driver\", \"Financial Analyst\", \"Manager\", \"Sales Associate\", \"Manager\", \"Sales Associate\", \"Manager\", \"Marketing Associate\", \"Warehouse Associate\", \"Marketing Associate\", \"Data Scientist\", \"Software Engineer\", \"Marketing Associate\", \"Financial Analyst\", \"IT\", \"Manager\", \"Marketing Associate\", \"Data Scientist\", \"IT\", \"Financial Analyst\", \"Driver\", \"Manager\", \"Manager\", \"Driver\", \"Graphic Designer\", \"Marketing Associate\", \"Software Engineer\", \"Sales Associate\", \"Software Engineer\", \"Marketing Associate\", \"Data Scientist\", \"Software Engineer\", \"Manager\", \"Data Scientist\", \"Data Scientist\", \"Warehouse Associate\", \"Sales Associate\", \"Sales Associate\", \"Warehouse Associate\", \"Financial Analyst\", \"Sales Associate\", \"Manager\", \"Driver\", \"IT\", \"IT\", \"Marketing Associate\", \"Financial Analyst\", \"Manager\", \"Warehouse Associate\", \"Financial Analyst\", \"Data Scientist\", \"Manager\", \"Financial Analyst\", \"Manager\", \"Graphic Designer\", \"Graphic Designer\", \"Warehouse Associate\", \"Driver\", \"Data Scientist\", \"Graphic Designer\", \"Manager\", \"Graphic Designer\", \"Driver\", \"Marketing Associate\", \"Sales Associate\", \"IT\", \"Driver\", \"IT\", \"Marketing Associate\", \"Software Engineer\", \"Sales Associate\", \"Manager\", \"Financial Analyst\", \"Software Engineer\", \"IT\", \"IT\", \"Financial Analyst\", \"Financial Analyst\", \"Financial Analyst\", \"Warehouse Associate\", \"IT\", \"Financial Analyst\", \"Data Scientist\", \"Warehouse Associate\", \"Manager\", \"Financial Analyst\", \"Warehouse Associate\", \"Graphic Designer\", \"Software Engineer\", \"Sales Associate\", \"Data Scientist\", \"Driver\", \"Marketing Associate\", \"Data Scientist\", \"Data Scientist\", \"Data Scientist\", \"Driver\", \"Manager\", \"Manager\", \"Software Engineer\", \"Data Scientist\", \"Manager\", \"IT\", \"Data Scientist\", \"Financial Analyst\", \"Graphic Designer\", \"Driver\", \"Sales Associate\", \"IT\", \"Software Engineer\", \"Financial Analyst\", \"Software Engineer\", \"Driver\", \"Sales Associate\", \"Software Engineer\", \"Software Engineer\", \"Graphic Designer\", \"Driver\", \"Marketing Associate\", \"Warehouse Associate\", \"Sales Associate\", \"Financial Analyst\", \"Data Scientist\", \"Marketing Associate\", \"Manager\", \"Data Scientist\", \"Financial Analyst\", \"Graphic Designer\", \"Marketing Associate\", \"Data Scientist\", \"Marketing Associate\", \"IT\", \"Data Scientist\", \"Data Scientist\", \"Manager\", \"Sales Associate\", \"Financial Analyst\", \"Software Engineer\", \"Manager\", \"IT\", \"Marketing Associate\", \"Financial Analyst\", \"Driver\", \"Data Scientist\", \"IT\", \"Data Scientist\", \"Driver\", \"Sales Associate\", \"Marketing Associate\", \"Marketing Associate\", \"Financial Analyst\"], \"xaxis\": \"x\", \"yaxis\": \"y\"}, {\"alignmentgroup\": \"True\", \"bingroup\": \"x\", \"hoverlabel\": {\"namelength\": 0}, \"hovertemplate\": \"Education=Masters<br>JobTitle=%{x}<br>count=%{y}\", \"legendgroup\": \"Education=Masters\", \"marker\": {\"color\": \"#00cc96\"}, \"name\": \"Education=Masters\", \"offsetgroup\": \"Education=Masters\", \"orientation\": \"v\", \"showlegend\": true, \"type\": \"histogram\", \"x\": [\"Software Engineer\", \"Graphic Designer\", \"Warehouse Associate\", \"Software Engineer\", \"Software Engineer\", \"Sales Associate\", \"Warehouse Associate\", \"Software Engineer\", \"Software Engineer\", \"Sales Associate\", \"Software Engineer\", \"Data Scientist\", \"Software Engineer\", \"Marketing Associate\", \"Graphic Designer\", \"Graphic Designer\", \"Financial Analyst\", \"Warehouse Associate\", \"Data Scientist\", \"Financial Analyst\", \"Marketing Associate\", \"Driver\", \"Graphic Designer\", \"Warehouse Associate\", \"Financial Analyst\", \"Marketing Associate\", \"Marketing Associate\", \"Sales Associate\", \"Financial Analyst\", \"Driver\", \"Marketing Associate\", \"Driver\", \"Driver\", \"Graphic Designer\", \"Financial Analyst\", \"Warehouse Associate\", \"Financial Analyst\", \"Data Scientist\", \"Data Scientist\", \"Sales Associate\", \"Data Scientist\", \"Marketing Associate\", \"IT\", \"Software Engineer\", \"Software Engineer\", \"Financial Analyst\", \"Graphic Designer\", \"Software Engineer\", \"IT\", \"IT\", \"Driver\", \"Warehouse Associate\", \"Marketing Associate\", \"Warehouse Associate\", \"Sales Associate\", \"Sales Associate\", \"Manager\", \"Software Engineer\", \"Graphic Designer\", \"Data Scientist\", \"Financial Analyst\", \"IT\", \"Financial Analyst\", \"Sales Associate\", \"Driver\", \"Software Engineer\", \"Software Engineer\", \"Graphic Designer\", \"Financial Analyst\", \"Data Scientist\", \"Sales Associate\", \"Warehouse Associate\", \"Driver\", \"Financial Analyst\", \"Data Scientist\", \"Financial Analyst\", \"IT\", \"Graphic Designer\", \"IT\", \"Sales Associate\", \"Sales Associate\", \"Manager\", \"Manager\", \"Marketing Associate\", \"Financial Analyst\", \"Driver\", \"Graphic Designer\", \"Software Engineer\", \"Financial Analyst\", \"Graphic Designer\", \"Driver\", \"Software Engineer\", \"Financial Analyst\", \"Sales Associate\", \"Manager\", \"Marketing Associate\", \"IT\", \"Data Scientist\", \"Data Scientist\", \"Financial Analyst\", \"Driver\", \"Graphic Designer\", \"Driver\", \"Sales Associate\", \"Software Engineer\", \"Driver\", \"Warehouse Associate\", \"Sales Associate\", \"Graphic Designer\", \"Data Scientist\", \"Warehouse Associate\", \"Manager\", \"Software Engineer\", \"Graphic Designer\", \"Software Engineer\", \"Manager\", \"Marketing Associate\", \"Manager\", \"Data Scientist\", \"Data Scientist\", \"Software Engineer\", \"Software Engineer\", \"Software Engineer\", \"Software Engineer\", \"Manager\", \"Graphic Designer\", \"Financial Analyst\", \"Manager\", \"Marketing Associate\", \"Graphic Designer\", \"Financial Analyst\", \"Manager\", \"Data Scientist\", \"Financial Analyst\", \"Marketing Associate\", \"Warehouse Associate\", \"Software Engineer\", \"Graphic Designer\", \"IT\", \"Manager\", \"Financial Analyst\", \"Graphic Designer\", \"Sales Associate\", \"IT\", \"Driver\", \"Manager\", \"Graphic Designer\", \"Manager\", \"Data Scientist\", \"Data Scientist\", \"Software Engineer\", \"Manager\", \"Data Scientist\", \"IT\", \"Warehouse Associate\", \"Data Scientist\", \"IT\", \"Warehouse Associate\", \"Graphic Designer\", \"Marketing Associate\", \"Marketing Associate\", \"Graphic Designer\", \"Graphic Designer\", \"Manager\", \"Marketing Associate\", \"Graphic Designer\", \"Driver\", \"Warehouse Associate\", \"Data Scientist\", \"Marketing Associate\", \"Marketing Associate\", \"Financial Analyst\", \"Driver\", \"Sales Associate\", \"Software Engineer\", \"Software Engineer\", \"Sales Associate\", \"IT\", \"Warehouse Associate\", \"Graphic Designer\", \"Financial Analyst\", \"Marketing Associate\", \"Manager\", \"Sales Associate\", \"IT\", \"Graphic Designer\", \"Data Scientist\", \"Manager\", \"IT\", \"Driver\", \"IT\", \"Marketing Associate\", \"IT\", \"Software Engineer\", \"Software Engineer\", \"Data Scientist\", \"IT\", \"Manager\", \"Graphic Designer\", \"Sales Associate\", \"Financial Analyst\", \"Data Scientist\", \"Warehouse Associate\", \"Marketing Associate\", \"Manager\", \"Warehouse Associate\", \"Graphic Designer\", \"Data Scientist\", \"Financial Analyst\", \"Financial Analyst\", \"Sales Associate\", \"Graphic Designer\", \"Sales Associate\", \"Marketing Associate\", \"Software Engineer\", \"Graphic Designer\", \"Driver\", \"IT\", \"Data Scientist\", \"Warehouse Associate\", \"Driver\", \"Driver\", \"Graphic Designer\", \"Sales Associate\", \"IT\", \"Marketing Associate\", \"Manager\", \"IT\", \"IT\", \"Data Scientist\", \"Marketing Associate\", \"Manager\", \"Graphic Designer\", \"Financial Analyst\", \"Driver\", \"Driver\", \"Marketing Associate\", \"Financial Analyst\", \"Sales Associate\", \"Software Engineer\", \"Sales Associate\", \"Data Scientist\", \"Data Scientist\", \"Software Engineer\", \"IT\", \"Warehouse Associate\", \"Marketing Associate\", \"Data Scientist\", \"Software Engineer\", \"Financial Analyst\", \"IT\", \"Sales Associate\", \"Graphic Designer\", \"IT\", \"Marketing Associate\", \"Data Scientist\"], \"xaxis\": \"x\", \"yaxis\": \"y\"}, {\"alignmentgroup\": \"True\", \"bingroup\": \"x\", \"hoverlabel\": {\"namelength\": 0}, \"hovertemplate\": \"Education=High School<br>JobTitle=%{x}<br>count=%{y}\", \"legendgroup\": \"Education=High School\", \"marker\": {\"color\": \"#ab63fa\"}, \"name\": \"Education=High School\", \"offsetgroup\": \"Education=High School\", \"orientation\": \"v\", \"showlegend\": true, \"type\": \"histogram\", \"x\": [\"Graphic Designer\", \"Sales Associate\", \"Data Scientist\", \"Software Engineer\", \"Software Engineer\", \"IT\", \"Driver\", \"Sales Associate\", \"Sales Associate\", \"Data Scientist\", \"Data Scientist\", \"Warehouse Associate\", \"Warehouse Associate\", \"Financial Analyst\", \"Software Engineer\", \"Marketing Associate\", \"Financial Analyst\", \"IT\", \"Warehouse Associate\", \"Sales Associate\", \"Financial Analyst\", \"Financial Analyst\", \"Marketing Associate\", \"Marketing Associate\", \"Data Scientist\", \"Driver\", \"Marketing Associate\", \"Financial Analyst\", \"Manager\", \"Warehouse Associate\", \"Warehouse Associate\", \"Sales Associate\", \"Marketing Associate\", \"Marketing Associate\", \"Driver\", \"Marketing Associate\", \"Software Engineer\", \"Graphic Designer\", \"Financial Analyst\", \"Data Scientist\", \"Graphic Designer\", \"Sales Associate\", \"Warehouse Associate\", \"Financial Analyst\", \"Software Engineer\", \"Warehouse Associate\", \"Graphic Designer\", \"Driver\", \"Marketing Associate\", \"Graphic Designer\", \"Software Engineer\", \"Graphic Designer\", \"Data Scientist\", \"Data Scientist\", \"Sales Associate\", \"Manager\", \"Data Scientist\", \"Financial Analyst\", \"Software Engineer\", \"Warehouse Associate\", \"Manager\", \"Data Scientist\", \"Data Scientist\", \"Warehouse Associate\", \"IT\", \"Data Scientist\", \"IT\", \"Sales Associate\", \"Warehouse Associate\", \"IT\", \"Graphic Designer\", \"Financial Analyst\", \"Graphic Designer\", \"Marketing Associate\", \"Graphic Designer\", \"Warehouse Associate\", \"Warehouse Associate\", \"Software Engineer\", \"Warehouse Associate\", \"Data Scientist\", \"Financial Analyst\", \"Software Engineer\", \"Sales Associate\", \"Driver\", \"Software Engineer\", \"Data Scientist\", \"Manager\", \"Marketing Associate\", \"Warehouse Associate\", \"Data Scientist\", \"Financial Analyst\", \"Software Engineer\", \"Warehouse Associate\", \"Marketing Associate\", \"Financial Analyst\", \"Data Scientist\", \"Marketing Associate\", \"Software Engineer\", \"Financial Analyst\", \"IT\", \"Marketing Associate\", \"Warehouse Associate\", \"Data Scientist\", \"Manager\", \"Sales Associate\", \"Financial Analyst\", \"Software Engineer\", \"Warehouse Associate\", \"Manager\", \"Warehouse Associate\", \"Software Engineer\", \"Marketing Associate\", \"Marketing Associate\", \"IT\", \"Manager\", \"Sales Associate\", \"Driver\", \"Software Engineer\", \"Data Scientist\", \"Driver\", \"Financial Analyst\", \"Warehouse Associate\", \"Marketing Associate\", \"Driver\", \"Warehouse Associate\", \"IT\", \"IT\", \"Software Engineer\", \"Graphic Designer\", \"Marketing Associate\", \"Data Scientist\", \"IT\", \"Marketing Associate\", \"Sales Associate\", \"Data Scientist\", \"Financial Analyst\", \"Marketing Associate\", \"Software Engineer\", \"Driver\", \"Graphic Designer\", \"Financial Analyst\", \"Software Engineer\", \"Sales Associate\", \"Warehouse Associate\", \"Driver\", \"Marketing Associate\", \"Graphic Designer\", \"Warehouse Associate\", \"Data Scientist\", \"Driver\", \"Sales Associate\", \"Data Scientist\", \"Warehouse Associate\", \"Warehouse Associate\", \"Marketing Associate\", \"Graphic Designer\", \"Graphic Designer\", \"Financial Analyst\", \"Driver\", \"Data Scientist\", \"Sales Associate\", \"Manager\", \"Sales Associate\", \"Driver\", \"Data Scientist\", \"Software Engineer\", \"Marketing Associate\", \"Software Engineer\", \"Sales Associate\", \"IT\", \"Marketing Associate\", \"Driver\", \"Software Engineer\", \"Driver\", \"Driver\", \"Sales Associate\", \"Sales Associate\", \"Driver\", \"IT\", \"Marketing Associate\", \"Graphic Designer\", \"Sales Associate\", \"Marketing Associate\", \"Sales Associate\", \"Graphic Designer\", \"Marketing Associate\", \"Manager\", \"Manager\", \"Manager\", \"Marketing Associate\", \"Sales Associate\", \"Marketing Associate\", \"Graphic Designer\", \"Marketing Associate\", \"Marketing Associate\", \"Sales Associate\", \"Driver\", \"Sales Associate\", \"Marketing Associate\", \"Sales Associate\", \"Financial Analyst\", \"Financial Analyst\", \"Marketing Associate\", \"Manager\", \"Software Engineer\", \"Manager\", \"Software Engineer\", \"Data Scientist\", \"Graphic Designer\", \"Manager\", \"Data Scientist\", \"Warehouse Associate\", \"Sales Associate\", \"Software Engineer\", \"IT\", \"Software Engineer\", \"Graphic Designer\", \"Data Scientist\", \"Financial Analyst\", \"Financial Analyst\", \"Data Scientist\", \"Manager\", \"IT\", \"IT\", \"Marketing Associate\", \"Software Engineer\", \"Data Scientist\", \"IT\", \"IT\", \"Driver\", \"Manager\", \"Sales Associate\", \"Software Engineer\", \"Financial Analyst\", \"Graphic Designer\", \"Sales Associate\", \"Driver\", \"Driver\", \"Marketing Associate\", \"Manager\", \"IT\", \"Software Engineer\", \"Manager\", \"Software Engineer\", \"IT\", \"IT\", \"IT\", \"Financial Analyst\", \"Data Scientist\", \"Marketing Associate\", \"Software Engineer\", \"Manager\", \"Software Engineer\", \"Warehouse Associate\", \"Marketing Associate\", \"Sales Associate\", \"Sales Associate\", \"Software Engineer\", \"IT\", \"Manager\", \"Marketing Associate\", \"Financial Analyst\", \"Marketing Associate\", \"Financial Analyst\", \"Financial Analyst\"], \"xaxis\": \"x\", \"yaxis\": \"y\"}],\n",
              "                        {\"barmode\": \"stack\", \"legend\": {\"tracegroupgap\": 0}, \"margin\": {\"t\": 60}, \"template\": {\"data\": {\"bar\": [{\"error_x\": {\"color\": \"#2a3f5f\"}, \"error_y\": {\"color\": \"#2a3f5f\"}, \"marker\": {\"line\": {\"color\": \"#E5ECF6\", \"width\": 0.5}}, \"type\": \"bar\"}], \"barpolar\": [{\"marker\": {\"line\": {\"color\": \"#E5ECF6\", \"width\": 0.5}}, \"type\": \"barpolar\"}], \"carpet\": [{\"aaxis\": {\"endlinecolor\": \"#2a3f5f\", \"gridcolor\": \"white\", \"linecolor\": \"white\", \"minorgridcolor\": \"white\", \"startlinecolor\": \"#2a3f5f\"}, \"baxis\": {\"endlinecolor\": \"#2a3f5f\", \"gridcolor\": \"white\", \"linecolor\": \"white\", \"minorgridcolor\": \"white\", \"startlinecolor\": \"#2a3f5f\"}, \"type\": \"carpet\"}], \"choropleth\": [{\"colorbar\": {\"outlinewidth\": 0, \"ticks\": \"\"}, \"type\": \"choropleth\"}], \"contour\": [{\"colorbar\": {\"outlinewidth\": 0, \"ticks\": \"\"}, \"colorscale\": [[0.0, \"#0d0887\"], [0.1111111111111111, \"#46039f\"], [0.2222222222222222, \"#7201a8\"], [0.3333333333333333, \"#9c179e\"], [0.4444444444444444, \"#bd3786\"], [0.5555555555555556, \"#d8576b\"], [0.6666666666666666, \"#ed7953\"], [0.7777777777777778, \"#fb9f3a\"], [0.8888888888888888, \"#fdca26\"], [1.0, \"#f0f921\"]], \"type\": \"contour\"}], \"contourcarpet\": [{\"colorbar\": {\"outlinewidth\": 0, \"ticks\": \"\"}, \"type\": \"contourcarpet\"}], \"heatmap\": [{\"colorbar\": {\"outlinewidth\": 0, \"ticks\": \"\"}, \"colorscale\": [[0.0, \"#0d0887\"], [0.1111111111111111, \"#46039f\"], [0.2222222222222222, \"#7201a8\"], [0.3333333333333333, \"#9c179e\"], [0.4444444444444444, \"#bd3786\"], [0.5555555555555556, \"#d8576b\"], [0.6666666666666666, \"#ed7953\"], [0.7777777777777778, \"#fb9f3a\"], [0.8888888888888888, \"#fdca26\"], [1.0, \"#f0f921\"]], \"type\": \"heatmap\"}], \"heatmapgl\": [{\"colorbar\": {\"outlinewidth\": 0, \"ticks\": \"\"}, \"colorscale\": [[0.0, \"#0d0887\"], [0.1111111111111111, \"#46039f\"], [0.2222222222222222, \"#7201a8\"], [0.3333333333333333, \"#9c179e\"], [0.4444444444444444, \"#bd3786\"], [0.5555555555555556, \"#d8576b\"], [0.6666666666666666, \"#ed7953\"], [0.7777777777777778, \"#fb9f3a\"], [0.8888888888888888, \"#fdca26\"], [1.0, \"#f0f921\"]], \"type\": \"heatmapgl\"}], \"histogram\": [{\"marker\": {\"colorbar\": {\"outlinewidth\": 0, \"ticks\": \"\"}}, \"type\": \"histogram\"}], \"histogram2d\": [{\"colorbar\": {\"outlinewidth\": 0, \"ticks\": \"\"}, \"colorscale\": [[0.0, \"#0d0887\"], [0.1111111111111111, \"#46039f\"], [0.2222222222222222, \"#7201a8\"], [0.3333333333333333, \"#9c179e\"], [0.4444444444444444, \"#bd3786\"], [0.5555555555555556, \"#d8576b\"], [0.6666666666666666, \"#ed7953\"], [0.7777777777777778, \"#fb9f3a\"], [0.8888888888888888, \"#fdca26\"], [1.0, \"#f0f921\"]], \"type\": \"histogram2d\"}], \"histogram2dcontour\": [{\"colorbar\": {\"outlinewidth\": 0, \"ticks\": \"\"}, \"colorscale\": [[0.0, \"#0d0887\"], [0.1111111111111111, \"#46039f\"], [0.2222222222222222, \"#7201a8\"], [0.3333333333333333, \"#9c179e\"], [0.4444444444444444, \"#bd3786\"], [0.5555555555555556, \"#d8576b\"], [0.6666666666666666, \"#ed7953\"], [0.7777777777777778, \"#fb9f3a\"], [0.8888888888888888, \"#fdca26\"], [1.0, \"#f0f921\"]], \"type\": \"histogram2dcontour\"}], \"mesh3d\": [{\"colorbar\": {\"outlinewidth\": 0, \"ticks\": \"\"}, \"type\": \"mesh3d\"}], \"parcoords\": [{\"line\": {\"colorbar\": {\"outlinewidth\": 0, \"ticks\": \"\"}}, \"type\": \"parcoords\"}], \"pie\": [{\"automargin\": true, \"type\": \"pie\"}], \"scatter\": [{\"marker\": {\"colorbar\": {\"outlinewidth\": 0, \"ticks\": \"\"}}, \"type\": \"scatter\"}], \"scatter3d\": [{\"line\": {\"colorbar\": {\"outlinewidth\": 0, \"ticks\": \"\"}}, \"marker\": {\"colorbar\": {\"outlinewidth\": 0, \"ticks\": \"\"}}, \"type\": \"scatter3d\"}], \"scattercarpet\": [{\"marker\": {\"colorbar\": {\"outlinewidth\": 0, \"ticks\": \"\"}}, \"type\": \"scattercarpet\"}], \"scattergeo\": [{\"marker\": {\"colorbar\": {\"outlinewidth\": 0, \"ticks\": \"\"}}, \"type\": \"scattergeo\"}], \"scattergl\": [{\"marker\": {\"colorbar\": {\"outlinewidth\": 0, \"ticks\": \"\"}}, \"type\": \"scattergl\"}], \"scattermapbox\": [{\"marker\": {\"colorbar\": {\"outlinewidth\": 0, \"ticks\": \"\"}}, \"type\": \"scattermapbox\"}], \"scatterpolar\": [{\"marker\": {\"colorbar\": {\"outlinewidth\": 0, \"ticks\": \"\"}}, \"type\": \"scatterpolar\"}], \"scatterpolargl\": [{\"marker\": {\"colorbar\": {\"outlinewidth\": 0, \"ticks\": \"\"}}, \"type\": \"scatterpolargl\"}], \"scatterternary\": [{\"marker\": {\"colorbar\": {\"outlinewidth\": 0, \"ticks\": \"\"}}, \"type\": \"scatterternary\"}], \"surface\": [{\"colorbar\": {\"outlinewidth\": 0, \"ticks\": \"\"}, \"colorscale\": [[0.0, \"#0d0887\"], [0.1111111111111111, \"#46039f\"], [0.2222222222222222, \"#7201a8\"], [0.3333333333333333, \"#9c179e\"], [0.4444444444444444, \"#bd3786\"], [0.5555555555555556, \"#d8576b\"], [0.6666666666666666, \"#ed7953\"], [0.7777777777777778, \"#fb9f3a\"], [0.8888888888888888, \"#fdca26\"], [1.0, \"#f0f921\"]], \"type\": \"surface\"}], \"table\": [{\"cells\": {\"fill\": {\"color\": \"#EBF0F8\"}, \"line\": {\"color\": \"white\"}}, \"header\": {\"fill\": {\"color\": \"#C8D4E3\"}, \"line\": {\"color\": \"white\"}}, \"type\": \"table\"}]}, \"layout\": {\"annotationdefaults\": {\"arrowcolor\": \"#2a3f5f\", \"arrowhead\": 0, \"arrowwidth\": 1}, \"coloraxis\": {\"colorbar\": {\"outlinewidth\": 0, \"ticks\": \"\"}}, \"colorscale\": {\"diverging\": [[0, \"#8e0152\"], [0.1, \"#c51b7d\"], [0.2, \"#de77ae\"], [0.3, \"#f1b6da\"], [0.4, \"#fde0ef\"], [0.5, \"#f7f7f7\"], [0.6, \"#e6f5d0\"], [0.7, \"#b8e186\"], [0.8, \"#7fbc41\"], [0.9, \"#4d9221\"], [1, \"#276419\"]], \"sequential\": [[0.0, \"#0d0887\"], [0.1111111111111111, \"#46039f\"], [0.2222222222222222, \"#7201a8\"], [0.3333333333333333, \"#9c179e\"], [0.4444444444444444, \"#bd3786\"], [0.5555555555555556, \"#d8576b\"], [0.6666666666666666, \"#ed7953\"], [0.7777777777777778, \"#fb9f3a\"], [0.8888888888888888, \"#fdca26\"], [1.0, \"#f0f921\"]], \"sequentialminus\": [[0.0, \"#0d0887\"], [0.1111111111111111, \"#46039f\"], [0.2222222222222222, \"#7201a8\"], [0.3333333333333333, \"#9c179e\"], [0.4444444444444444, \"#bd3786\"], [0.5555555555555556, \"#d8576b\"], [0.6666666666666666, \"#ed7953\"], [0.7777777777777778, \"#fb9f3a\"], [0.8888888888888888, \"#fdca26\"], [1.0, \"#f0f921\"]]}, \"colorway\": [\"#636efa\", \"#EF553B\", \"#00cc96\", \"#ab63fa\", \"#FFA15A\", \"#19d3f3\", \"#FF6692\", \"#B6E880\", \"#FF97FF\", \"#FECB52\"], \"font\": {\"color\": \"#2a3f5f\"}, \"geo\": {\"bgcolor\": \"white\", \"lakecolor\": \"white\", \"landcolor\": \"#E5ECF6\", \"showlakes\": true, \"showland\": true, \"subunitcolor\": \"white\"}, \"hoverlabel\": {\"align\": \"left\"}, \"hovermode\": \"closest\", \"mapbox\": {\"style\": \"light\"}, \"paper_bgcolor\": \"white\", \"plot_bgcolor\": \"#E5ECF6\", \"polar\": {\"angularaxis\": {\"gridcolor\": \"white\", \"linecolor\": \"white\", \"ticks\": \"\"}, \"bgcolor\": \"#E5ECF6\", \"radialaxis\": {\"gridcolor\": \"white\", \"linecolor\": \"white\", \"ticks\": \"\"}}, \"scene\": {\"xaxis\": {\"backgroundcolor\": \"#E5ECF6\", \"gridcolor\": \"white\", \"gridwidth\": 2, \"linecolor\": \"white\", \"showbackground\": true, \"ticks\": \"\", \"zerolinecolor\": \"white\"}, \"yaxis\": {\"backgroundcolor\": \"#E5ECF6\", \"gridcolor\": \"white\", \"gridwidth\": 2, \"linecolor\": \"white\", \"showbackground\": true, \"ticks\": \"\", \"zerolinecolor\": \"white\"}, \"zaxis\": {\"backgroundcolor\": \"#E5ECF6\", \"gridcolor\": \"white\", \"gridwidth\": 2, \"linecolor\": \"white\", \"showbackground\": true, \"ticks\": \"\", \"zerolinecolor\": \"white\"}}, \"shapedefaults\": {\"line\": {\"color\": \"#2a3f5f\"}}, \"ternary\": {\"aaxis\": {\"gridcolor\": \"white\", \"linecolor\": \"white\", \"ticks\": \"\"}, \"baxis\": {\"gridcolor\": \"white\", \"linecolor\": \"white\", \"ticks\": \"\"}, \"bgcolor\": \"#E5ECF6\", \"caxis\": {\"gridcolor\": \"white\", \"linecolor\": \"white\", \"ticks\": \"\"}}, \"title\": {\"x\": 0.05}, \"xaxis\": {\"automargin\": true, \"gridcolor\": \"white\", \"linecolor\": \"white\", \"ticks\": \"\", \"title\": {\"standoff\": 15}, \"zerolinecolor\": \"white\", \"zerolinewidth\": 2}, \"yaxis\": {\"automargin\": true, \"gridcolor\": \"white\", \"linecolor\": \"white\", \"ticks\": \"\", \"title\": {\"standoff\": 15}, \"zerolinecolor\": \"white\", \"zerolinewidth\": 2}}}, \"xaxis\": {\"anchor\": \"y\", \"domain\": [0.0, 1.0], \"title\": {\"text\": \"JobTitle\"}}, \"yaxis\": {\"anchor\": \"x\", \"domain\": [0.0, 1.0], \"title\": {\"text\": \"count\"}}},\n",
              "                        {\"responsive\": true}\n",
              "                    ).then(function(){\n",
              "                            \n",
              "var gd = document.getElementById('5b8705a0-d1f4-4e9f-8772-15fe942c1782');\n",
              "var x = new MutationObserver(function (mutations, observer) {{\n",
              "        var display = window.getComputedStyle(gd).display;\n",
              "        if (!display || display === 'none') {{\n",
              "            console.log([gd, 'removed!']);\n",
              "            Plotly.purge(gd);\n",
              "            observer.disconnect();\n",
              "        }}\n",
              "}});\n",
              "\n",
              "// Listen for the removal of the full notebook cells\n",
              "var notebookContainer = gd.closest('#notebook-container');\n",
              "if (notebookContainer) {{\n",
              "    x.observe(notebookContainer, {childList: true});\n",
              "}}\n",
              "\n",
              "// Listen for the clearing of the current output cell\n",
              "var outputEl = gd.closest('.output');\n",
              "if (outputEl) {{\n",
              "    x.observe(outputEl, {childList: true});\n",
              "}}\n",
              "\n",
              "                        })\n",
              "                };\n",
              "                \n",
              "            </script>\n",
              "        </div>\n",
              "</body>\n",
              "</html>"
            ]
          },
          "metadata": {
            "tags": []
          }
        }
      ]
    },
    {
      "cell_type": "code",
      "metadata": {
        "colab": {
          "base_uri": "https://localhost:8080/",
          "height": 542
        },
        "id": "hz9qSH4jSV1M",
        "outputId": "eba810a1-d8fc-46dd-d1da-a1c872866eac"
      },
      "source": [
        "fig2=px.histogram(df,x='JobTitle',color='Gender',barmode='group',title='Gender diverisity across JobTitle')\r\n",
        "fig2.show()"
      ],
      "execution_count": 260,
      "outputs": [
        {
          "output_type": "display_data",
          "data": {
            "text/html": [
              "<html>\n",
              "<head><meta charset=\"utf-8\" /></head>\n",
              "<body>\n",
              "    <div>\n",
              "            <script src=\"https://cdnjs.cloudflare.com/ajax/libs/mathjax/2.7.5/MathJax.js?config=TeX-AMS-MML_SVG\"></script><script type=\"text/javascript\">if (window.MathJax) {MathJax.Hub.Config({SVG: {font: \"STIX-Web\"}});}</script>\n",
              "                <script type=\"text/javascript\">window.PlotlyConfig = {MathJaxConfig: 'local'};</script>\n",
              "        <script src=\"https://cdn.plot.ly/plotly-latest.min.js\"></script>    \n",
              "            <div id=\"383e6cbc-e519-4b80-9b90-bed5ef6a7425\" class=\"plotly-graph-div\" style=\"height:525px; width:100%;\"></div>\n",
              "            <script type=\"text/javascript\">\n",
              "                \n",
              "                    window.PLOTLYENV=window.PLOTLYENV || {};\n",
              "                    \n",
              "                if (document.getElementById(\"383e6cbc-e519-4b80-9b90-bed5ef6a7425\")) {\n",
              "                    Plotly.newPlot(\n",
              "                        '383e6cbc-e519-4b80-9b90-bed5ef6a7425',\n",
              "                        [{\"alignmentgroup\": \"True\", \"bingroup\": \"x\", \"hoverlabel\": {\"namelength\": 0}, \"hovertemplate\": \"Gender=Female<br>JobTitle=%{x}<br>count=%{y}\", \"legendgroup\": \"Gender=Female\", \"marker\": {\"color\": \"#636efa\"}, \"name\": \"Gender=Female\", \"offsetgroup\": \"Gender=Female\", \"orientation\": \"v\", \"showlegend\": true, \"type\": \"histogram\", \"x\": [\"Graphic Designer\", \"Warehouse Associate\", \"IT\", \"Graphic Designer\", \"Graphic Designer\", \"Sales Associate\", \"Driver\", \"Financial Analyst\", \"Warehouse Associate\", \"Warehouse Associate\", \"Marketing Associate\", \"Financial Analyst\", \"Warehouse Associate\", \"Data Scientist\", \"Driver\", \"Graphic Designer\", \"IT\", \"Marketing Associate\", \"Data Scientist\", \"Data Scientist\", \"IT\", \"Data Scientist\", \"Graphic Designer\", \"IT\", \"Marketing Associate\", \"Data Scientist\", \"Software Engineer\", \"Data Scientist\", \"Driver\", \"Data Scientist\", \"Marketing Associate\", \"Warehouse Associate\", \"Sales Associate\", \"Warehouse Associate\", \"Sales Associate\", \"Warehouse Associate\", \"Financial Analyst\", \"Marketing Associate\", \"Warehouse Associate\", \"Marketing Associate\", \"Warehouse Associate\", \"Warehouse Associate\", \"Data Scientist\", \"IT\", \"Data Scientist\", \"Financial Analyst\", \"Marketing Associate\", \"Driver\", \"Financial Analyst\", \"Graphic Designer\", \"Marketing Associate\", \"Warehouse Associate\", \"Financial Analyst\", \"Financial Analyst\", \"Warehouse Associate\", \"Financial Analyst\", \"Marketing Associate\", \"Warehouse Associate\", \"Marketing Associate\", \"Sales Associate\", \"Financial Analyst\", \"Driver\", \"Marketing Associate\", \"Graphic Designer\", \"Driver\", \"Marketing Associate\", \"IT\", \"IT\", \"Financial Analyst\", \"Marketing Associate\", \"Driver\", \"Manager\", \"Marketing Associate\", \"Warehouse Associate\", \"Financial Analyst\", \"Software Engineer\", \"Warehouse Associate\", \"Driver\", \"Warehouse Associate\", \"Graphic Designer\", \"Data Scientist\", \"Warehouse Associate\", \"Data Scientist\", \"Sales Associate\", \"Graphic Designer\", \"Warehouse Associate\", \"Marketing Associate\", \"Marketing Associate\", \"Marketing Associate\", \"IT\", \"IT\", \"IT\", \"Driver\", \"Warehouse Associate\", \"IT\", \"Marketing Associate\", \"Marketing Associate\", \"Marketing Associate\", \"Financial Analyst\", \"Sales Associate\", \"Driver\", \"Graphic Designer\", \"Data Scientist\", \"Warehouse Associate\", \"Graphic Designer\", \"Marketing Associate\", \"Graphic Designer\", \"Financial Analyst\", \"Data Scientist\", \"Data Scientist\", \"Marketing Associate\", \"Warehouse Associate\", \"Driver\", \"Financial Analyst\", \"IT\", \"Marketing Associate\", \"Graphic Designer\", \"Software Engineer\", \"Driver\", \"Sales Associate\", \"Graphic Designer\", \"Marketing Associate\", \"Data Scientist\", \"Financial Analyst\", \"IT\", \"Warehouse Associate\", \"Sales Associate\", \"Warehouse Associate\", \"Data Scientist\", \"Warehouse Associate\", \"Data Scientist\", \"Graphic Designer\", \"IT\", \"Sales Associate\", \"Financial Analyst\", \"Warehouse Associate\", \"IT\", \"IT\", \"Graphic Designer\", \"Driver\", \"Sales Associate\", \"Driver\", \"Marketing Associate\", \"Graphic Designer\", \"Manager\", \"Warehouse Associate\", \"Marketing Associate\", \"Financial Analyst\", \"Manager\", \"Driver\", \"Warehouse Associate\", \"Sales Associate\", \"Data Scientist\", \"Driver\", \"Warehouse Associate\", \"Marketing Associate\", \"Graphic Designer\", \"Sales Associate\", \"Manager\", \"Data Scientist\", \"Warehouse Associate\", \"Graphic Designer\", \"Financial Analyst\", \"Marketing Associate\", \"Driver\", \"Sales Associate\", \"Driver\", \"Software Engineer\", \"Graphic Designer\", \"Software Engineer\", \"Marketing Associate\", \"Driver\", \"Data Scientist\", \"Manager\", \"Sales Associate\", \"Marketing Associate\", \"Financial Analyst\", \"Driver\", \"Data Scientist\", \"Driver\", \"Driver\", \"Marketing Associate\", \"Marketing Associate\", \"Marketing Associate\", \"Marketing Associate\", \"Marketing Associate\", \"Marketing Associate\", \"Warehouse Associate\", \"Data Scientist\", \"Marketing Associate\", \"Warehouse Associate\", \"Sales Associate\", \"Warehouse Associate\", \"Marketing Associate\", \"Marketing Associate\", \"IT\", \"Graphic Designer\", \"Data Scientist\", \"IT\", \"Marketing Associate\", \"Financial Analyst\", \"IT\", \"Marketing Associate\", \"Warehouse Associate\", \"Financial Analyst\", \"Marketing Associate\", \"Marketing Associate\", \"Driver\", \"Graphic Designer\", \"Sales Associate\", \"Driver\", \"Manager\", \"Marketing Associate\", \"Sales Associate\", \"Marketing Associate\", \"Warehouse Associate\", \"Graphic Designer\", \"Sales Associate\", \"Data Scientist\", \"Data Scientist\", \"Marketing Associate\", \"Data Scientist\", \"Marketing Associate\", \"IT\", \"Manager\", \"Financial Analyst\", \"Sales Associate\", \"Sales Associate\", \"Financial Analyst\", \"Marketing Associate\", \"Warehouse Associate\", \"Driver\", \"Driver\", \"IT\", \"Marketing Associate\", \"Graphic Designer\", \"Financial Analyst\", \"Driver\", \"Warehouse Associate\", \"Financial Analyst\", \"Sales Associate\", \"Graphic Designer\", \"IT\", \"Data Scientist\", \"Manager\", \"Marketing Associate\", \"Driver\", \"Driver\", \"Manager\", \"Graphic Designer\", \"Data Scientist\", \"Data Scientist\", \"Sales Associate\", \"Sales Associate\", \"IT\", \"IT\", \"Data Scientist\", \"Data Scientist\", \"Marketing Associate\", \"Financial Analyst\", \"Sales Associate\", \"IT\", \"Graphic Designer\", \"Financial Analyst\", \"Data Scientist\", \"Marketing Associate\", \"Driver\", \"Marketing Associate\", \"Sales Associate\", \"IT\", \"Marketing Associate\", \"Sales Associate\", \"IT\", \"Marketing Associate\", \"Marketing Associate\", \"IT\", \"Data Scientist\", \"Driver\", \"Financial Analyst\", \"Data Scientist\", \"Marketing Associate\", \"Marketing Associate\", \"Marketing Associate\", \"Graphic Designer\", \"Sales Associate\", \"Graphic Designer\", \"Manager\", \"Marketing Associate\", \"IT\", \"Financial Analyst\", \"Graphic Designer\", \"Driver\", \"Sales Associate\", \"Data Scientist\", \"Marketing Associate\", \"Marketing Associate\", \"Marketing Associate\", \"Warehouse Associate\", \"Financial Analyst\", \"Data Scientist\", \"Warehouse Associate\", \"Warehouse Associate\", \"IT\", \"Marketing Associate\", \"Graphic Designer\", \"Graphic Designer\", \"Warehouse Associate\", \"Data Scientist\", \"Warehouse Associate\", \"Data Scientist\", \"Financial Analyst\", \"Financial Analyst\", \"Financial Analyst\", \"Sales Associate\", \"IT\", \"Warehouse Associate\", \"Graphic Designer\", \"Marketing Associate\", \"Graphic Designer\", \"Manager\", \"Sales Associate\", \"Manager\", \"Marketing Associate\", \"Data Scientist\", \"Data Scientist\", \"Marketing Associate\", \"IT\", \"Marketing Associate\", \"Driver\", \"Data Scientist\", \"Marketing Associate\", \"IT\", \"Data Scientist\", \"Warehouse Associate\", \"Driver\", \"Data Scientist\", \"IT\", \"IT\", \"Marketing Associate\", \"Driver\", \"Graphic Designer\", \"Data Scientist\", \"IT\", \"Financial Analyst\", \"Driver\", \"IT\", \"Driver\", \"Sales Associate\", \"Data Scientist\", \"Warehouse Associate\", \"Sales Associate\", \"IT\", \"Financial Analyst\", \"Graphic Designer\", \"Graphic Designer\", \"Sales Associate\", \"IT\", \"Marketing Associate\", \"Marketing Associate\", \"Financial Analyst\", \"Graphic Designer\", \"Graphic Designer\", \"Financial Analyst\", \"Marketing Associate\", \"Software Engineer\", \"Marketing Associate\", \"Marketing Associate\", \"Graphic Designer\", \"Marketing Associate\", \"Sales Associate\", \"Software Engineer\", \"Manager\", \"Marketing Associate\", \"Marketing Associate\", \"Driver\", \"Marketing Associate\", \"Sales Associate\", \"Marketing Associate\", \"Driver\", \"Marketing Associate\", \"Marketing Associate\", \"Driver\", \"Driver\", \"Sales Associate\", \"Marketing Associate\", \"Graphic Designer\", \"IT\", \"Financial Analyst\", \"Financial Analyst\", \"Data Scientist\", \"Warehouse Associate\", \"Marketing Associate\", \"Manager\", \"Sales Associate\", \"Marketing Associate\", \"Graphic Designer\", \"Marketing Associate\", \"Graphic Designer\", \"Data Scientist\", \"Graphic Designer\", \"Marketing Associate\", \"Manager\", \"Data Scientist\", \"Financial Analyst\", \"Warehouse Associate\", \"Financial Analyst\", \"Financial Analyst\", \"Data Scientist\", \"IT\", \"Sales Associate\", \"Marketing Associate\", \"Marketing Associate\", \"Marketing Associate\", \"IT\", \"IT\", \"Financial Analyst\", \"Manager\", \"Sales Associate\", \"Marketing Associate\", \"Driver\", \"Marketing Associate\", \"Marketing Associate\", \"Software Engineer\", \"Graphic Designer\", \"Graphic Designer\", \"Driver\", \"Marketing Associate\", \"Financial Analyst\", \"Sales Associate\", \"Marketing Associate\", \"IT\", \"Manager\", \"Data Scientist\", \"Data Scientist\", \"Marketing Associate\", \"Sales Associate\", \"Sales Associate\", \"Manager\", \"IT\", \"IT\", \"Marketing Associate\", \"IT\", \"Financial Analyst\", \"Financial Analyst\", \"Driver\", \"Marketing Associate\", \"Data Scientist\", \"Data Scientist\", \"Driver\", \"Driver\", \"Financial Analyst\", \"Marketing Associate\", \"Marketing Associate\", \"Marketing Associate\", \"Financial Analyst\", \"Sales Associate\", \"IT\", \"Marketing Associate\", \"Marketing Associate\", \"IT\", \"Marketing Associate\", \"Financial Analyst\", \"Graphic Designer\", \"IT\", \"Graphic Designer\", \"Marketing Associate\", \"Marketing Associate\", \"Marketing Associate\"], \"xaxis\": \"x\", \"yaxis\": \"y\"}, {\"alignmentgroup\": \"True\", \"bingroup\": \"x\", \"hoverlabel\": {\"namelength\": 0}, \"hovertemplate\": \"Gender=Male<br>JobTitle=%{x}<br>count=%{y}\", \"legendgroup\": \"Gender=Male\", \"marker\": {\"color\": \"#EF553B\"}, \"name\": \"Gender=Male\", \"offsetgroup\": \"Gender=Male\", \"orientation\": \"v\", \"showlegend\": true, \"type\": \"histogram\", \"x\": [\"Software Engineer\", \"Software Engineer\", \"Graphic Designer\", \"Software Engineer\", \"Graphic Designer\", \"Sales Associate\", \"Warehouse Associate\", \"Financial Analyst\", \"Warehouse Associate\", \"Software Engineer\", \"Software Engineer\", \"Graphic Designer\", \"Warehouse Associate\", \"Software Engineer\", \"Sales Associate\", \"Software Engineer\", \"Software Engineer\", \"Software Engineer\", \"IT\", \"Data Scientist\", \"Data Scientist\", \"Software Engineer\", \"Warehouse Associate\", \"Software Engineer\", \"Software Engineer\", \"Marketing Associate\", \"Sales Associate\", \"Software Engineer\", \"Software Engineer\", \"Financial Analyst\", \"Graphic Designer\", \"Software Engineer\", \"Driver\", \"Sales Associate\", \"Data Scientist\", \"Data Scientist\", \"Manager\", \"Data Scientist\", \"Graphic Designer\", \"Financial Analyst\", \"Warehouse Associate\", \"Warehouse Associate\", \"Manager\", \"Graphic Designer\", \"Manager\", \"Software Engineer\", \"Warehouse Associate\", \"Software Engineer\", \"Software Engineer\", \"IT\", \"Sales Associate\", \"IT\", \"Warehouse Associate\", \"Driver\", \"Financial Analyst\", \"Driver\", \"Data Scientist\", \"Software Engineer\", \"Driver\", \"Sales Associate\", \"Data Scientist\", \"IT\", \"Financial Analyst\", \"Marketing Associate\", \"Graphic Designer\", \"Graphic Designer\", \"Financial Analyst\", \"Financial Analyst\", \"Data Scientist\", \"Financial Analyst\", \"Warehouse Associate\", \"Software Engineer\", \"Manager\", \"Data Scientist\", \"Sales Associate\", \"Marketing Associate\", \"IT\", \"Financial Analyst\", \"Software Engineer\", \"Software Engineer\", \"Sales Associate\", \"Financial Analyst\", \"Driver\", \"Graphic Designer\", \"Software Engineer\", \"Driver\", \"Software Engineer\", \"Manager\", \"Software Engineer\", \"Sales Associate\", \"Graphic Designer\", \"Software Engineer\", \"Software Engineer\", \"Warehouse Associate\", \"Software Engineer\", \"Data Scientist\", \"Sales Associate\", \"Manager\", \"IT\", \"Financial Analyst\", \"Graphic Designer\", \"Software Engineer\", \"Software Engineer\", \"Sales Associate\", \"Graphic Designer\", \"Manager\", \"Financial Analyst\", \"Software Engineer\", \"Driver\", \"Financial Analyst\", \"Graphic Designer\", \"IT\", \"Graphic Designer\", \"Sales Associate\", \"Manager\", \"Graphic Designer\", \"Data Scientist\", \"Data Scientist\", \"Driver\", \"IT\", \"Software Engineer\", \"Financial Analyst\", \"IT\", \"Software Engineer\", \"Sales Associate\", \"IT\", \"Graphic Designer\", \"Driver\", \"Graphic Designer\", \"Financial Analyst\", \"Manager\", \"Data Scientist\", \"Software Engineer\", \"Driver\", \"Manager\", \"Warehouse Associate\", \"Data Scientist\", \"Driver\", \"IT\", \"Driver\", \"Driver\", \"Warehouse Associate\", \"IT\", \"Graphic Designer\", \"Data Scientist\", \"IT\", \"Financial Analyst\", \"Graphic Designer\", \"Financial Analyst\", \"Sales Associate\", \"Sales Associate\", \"Graphic Designer\", \"Financial Analyst\", \"Warehouse Associate\", \"Manager\", \"Software Engineer\", \"Warehouse Associate\", \"Warehouse Associate\", \"Driver\", \"Graphic Designer\", \"Software Engineer\", \"Financial Analyst\", \"Graphic Designer\", \"Software Engineer\", \"IT\", \"Software Engineer\", \"Financial Analyst\", \"Driver\", \"Manager\", \"IT\", \"Driver\", \"Financial Analyst\", \"Software Engineer\", \"Warehouse Associate\", \"Manager\", \"IT\", \"Data Scientist\", \"Sales Associate\", \"Software Engineer\", \"Financial Analyst\", \"Driver\", \"Manager\", \"Graphic Designer\", \"Sales Associate\", \"Financial Analyst\", \"Graphic Designer\", \"Manager\", \"Driver\", \"Manager\", \"Sales Associate\", \"Software Engineer\", \"Warehouse Associate\", \"Marketing Associate\", \"Financial Analyst\", \"Software Engineer\", \"Driver\", \"Data Scientist\", \"Software Engineer\", \"Manager\", \"Sales Associate\", \"Financial Analyst\", \"Financial Analyst\", \"Financial Analyst\", \"Marketing Associate\", \"Sales Associate\", \"IT\", \"Software Engineer\", \"Manager\", \"Data Scientist\", \"Manager\", \"Data Scientist\", \"IT\", \"Financial Analyst\", \"IT\", \"Manager\", \"Software Engineer\", \"Manager\", \"IT\", \"Manager\", \"Manager\", \"Software Engineer\", \"Driver\", \"Warehouse Associate\", \"Manager\", \"Graphic Designer\", \"Software Engineer\", \"Data Scientist\", \"Sales Associate\", \"Software Engineer\", \"Financial Analyst\", \"Software Engineer\", \"Warehouse Associate\", \"Software Engineer\", \"Manager\", \"Marketing Associate\", \"Data Scientist\", \"Data Scientist\", \"Manager\", \"Data Scientist\", \"Warehouse Associate\", \"Software Engineer\", \"Graphic Designer\", \"Software Engineer\", \"Warehouse Associate\", \"Software Engineer\", \"Software Engineer\", \"Software Engineer\", \"Software Engineer\", \"Manager\", \"Data Scientist\", \"Warehouse Associate\", \"Software Engineer\", \"Manager\", \"Graphic Designer\", \"Manager\", \"Sales Associate\", \"Graphic Designer\", \"Graphic Designer\", \"Warehouse Associate\", \"Financial Analyst\", \"Sales Associate\", \"Graphic Designer\", \"Manager\", \"Sales Associate\", \"Financial Analyst\", \"Manager\", \"Software Engineer\", \"Data Scientist\", \"Data Scientist\", \"Financial Analyst\", \"IT\", \"Marketing Associate\", \"Warehouse Associate\", \"Manager\", \"Warehouse Associate\", \"Manager\", \"Software Engineer\", \"Warehouse Associate\", \"Financial Analyst\", \"Manager\", \"Financial Analyst\", \"IT\", \"Graphic Designer\", \"Manager\", \"Manager\", \"Financial Analyst\", \"Financial Analyst\", \"Warehouse Associate\", \"Graphic Designer\", \"Warehouse Associate\", \"Software Engineer\", \"Warehouse Associate\", \"Driver\", \"Driver\", \"Sales Associate\", \"Data Scientist\", \"IT\", \"IT\", \"Driver\", \"Financial Analyst\", \"Warehouse Associate\", \"Manager\", \"Software Engineer\", \"Manager\", \"Graphic Designer\", \"Manager\", \"Graphic Designer\", \"Graphic Designer\", \"Graphic Designer\", \"Manager\", \"Data Scientist\", \"Software Engineer\", \"Data Scientist\", \"Manager\", \"Manager\", \"Data Scientist\", \"Software Engineer\", \"IT\", \"Data Scientist\", \"IT\", \"Driver\", \"Warehouse Associate\", \"IT\", \"Manager\", \"Software Engineer\", \"Manager\", \"Manager\", \"Sales Associate\", \"Software Engineer\", \"IT\", \"Warehouse Associate\", \"Graphic Designer\", \"Manager\", \"Software Engineer\", \"Driver\", \"Financial Analyst\", \"Graphic Designer\", \"Driver\", \"Software Engineer\", \"Data Scientist\", \"Graphic Designer\", \"Warehouse Associate\", \"IT\", \"Sales Associate\", \"Software Engineer\", \"Driver\", \"Financial Analyst\", \"Warehouse Associate\", \"Driver\", \"Marketing Associate\", \"Financial Analyst\", \"Graphic Designer\", \"Driver\", \"Financial Analyst\", \"Driver\", \"Manager\", \"Driver\", \"Data Scientist\", \"Sales Associate\", \"Software Engineer\", \"Sales Associate\", \"Software Engineer\", \"Data Scientist\", \"IT\", \"Software Engineer\", \"Sales Associate\", \"Warehouse Associate\", \"Data Scientist\", \"IT\", \"Warehouse Associate\", \"Financial Analyst\", \"Financial Analyst\", \"Marketing Associate\", \"Manager\", \"Graphic Designer\", \"Manager\", \"Driver\", \"Data Scientist\", \"IT\", \"Software Engineer\", \"Sales Associate\", \"Sales Associate\", \"Warehouse Associate\", \"Data Scientist\", \"Data Scientist\", \"Driver\", \"Driver\", \"Software Engineer\", \"Manager\", \"Software Engineer\", \"IT\", \"Software Engineer\", \"Sales Associate\", \"Software Engineer\", \"Software Engineer\", \"Sales Associate\", \"Manager\", \"Manager\", \"Manager\", \"Software Engineer\", \"Driver\", \"Software Engineer\", \"Graphic Designer\", \"Sales Associate\", \"Manager\", \"Data Scientist\", \"Manager\", \"Data Scientist\", \"Driver\", \"Driver\", \"Software Engineer\", \"Financial Analyst\", \"Software Engineer\", \"Manager\", \"Software Engineer\", \"Sales Associate\", \"Warehouse Associate\", \"Sales Associate\", \"Financial Analyst\", \"Graphic Designer\", \"Manager\", \"Data Scientist\", \"Financial Analyst\", \"IT\", \"Manager\", \"Financial Analyst\", \"Warehouse Associate\", \"Driver\", \"Manager\", \"Sales Associate\", \"Graphic Designer\", \"Software Engineer\", \"Sales Associate\", \"Software Engineer\", \"Graphic Designer\", \"Sales Associate\", \"Software Engineer\", \"Graphic Designer\", \"Graphic Designer\", \"Sales Associate\", \"Sales Associate\", \"Driver\", \"Marketing Associate\", \"Software Engineer\", \"Driver\", \"Warehouse Associate\", \"Manager\", \"Driver\", \"Software Engineer\", \"Data Scientist\", \"Financial Analyst\", \"Manager\", \"Data Scientist\", \"Manager\", \"Data Scientist\", \"Warehouse Associate\", \"Sales Associate\", \"Sales Associate\", \"Marketing Associate\", \"Software Engineer\", \"Manager\", \"IT\", \"Manager\", \"Software Engineer\", \"Data Scientist\", \"IT\", \"Software Engineer\", \"Financial Analyst\", \"Graphic Designer\", \"Financial Analyst\", \"Manager\", \"IT\", \"IT\", \"IT\", \"Financial Analyst\", \"Data Scientist\", \"Software Engineer\", \"Data Scientist\", \"Manager\", \"Graphic Designer\", \"Financial Analyst\", \"Driver\", \"Manager\", \"Data Scientist\", \"Driver\", \"Driver\", \"Financial Analyst\", \"Sales Associate\", \"Driver\", \"Software Engineer\", \"IT\", \"Software Engineer\", \"IT\", \"Manager\", \"Financial Analyst\", \"IT\", \"Software Engineer\", \"Software Engineer\", \"Data Scientist\", \"Manager\", \"Warehouse Associate\", \"Software Engineer\", \"Data Scientist\", \"Manager\", \"IT\", \"Software Engineer\", \"Graphic Designer\", \"Sales Associate\", \"Data Scientist\", \"IT\", \"Financial Analyst\", \"Sales Associate\", \"IT\", \"Warehouse Associate\", \"Sales Associate\", \"Software Engineer\", \"Manager\", \"Data Scientist\", \"Software Engineer\", \"Warehouse Associate\", \"Software Engineer\", \"Sales Associate\", \"IT\", \"Sales Associate\", \"Software Engineer\", \"Manager\", \"Data Scientist\", \"Sales Associate\", \"Data Scientist\", \"Financial Analyst\", \"Financial Analyst\", \"Financial Analyst\"], \"xaxis\": \"x\", \"yaxis\": \"y\"}],\n",
              "                        {\"barmode\": \"group\", \"legend\": {\"tracegroupgap\": 0}, \"template\": {\"data\": {\"bar\": [{\"error_x\": {\"color\": \"#2a3f5f\"}, \"error_y\": {\"color\": \"#2a3f5f\"}, \"marker\": {\"line\": {\"color\": \"#E5ECF6\", \"width\": 0.5}}, \"type\": \"bar\"}], \"barpolar\": [{\"marker\": {\"line\": {\"color\": \"#E5ECF6\", \"width\": 0.5}}, \"type\": \"barpolar\"}], \"carpet\": [{\"aaxis\": {\"endlinecolor\": \"#2a3f5f\", \"gridcolor\": \"white\", \"linecolor\": \"white\", \"minorgridcolor\": \"white\", \"startlinecolor\": \"#2a3f5f\"}, \"baxis\": {\"endlinecolor\": \"#2a3f5f\", \"gridcolor\": \"white\", \"linecolor\": \"white\", \"minorgridcolor\": \"white\", \"startlinecolor\": \"#2a3f5f\"}, \"type\": \"carpet\"}], \"choropleth\": [{\"colorbar\": {\"outlinewidth\": 0, \"ticks\": \"\"}, \"type\": \"choropleth\"}], \"contour\": [{\"colorbar\": {\"outlinewidth\": 0, \"ticks\": \"\"}, \"colorscale\": [[0.0, \"#0d0887\"], [0.1111111111111111, \"#46039f\"], [0.2222222222222222, \"#7201a8\"], [0.3333333333333333, \"#9c179e\"], [0.4444444444444444, \"#bd3786\"], [0.5555555555555556, \"#d8576b\"], [0.6666666666666666, \"#ed7953\"], [0.7777777777777778, \"#fb9f3a\"], [0.8888888888888888, \"#fdca26\"], [1.0, \"#f0f921\"]], \"type\": \"contour\"}], \"contourcarpet\": [{\"colorbar\": {\"outlinewidth\": 0, \"ticks\": \"\"}, \"type\": \"contourcarpet\"}], \"heatmap\": [{\"colorbar\": {\"outlinewidth\": 0, \"ticks\": \"\"}, \"colorscale\": [[0.0, \"#0d0887\"], [0.1111111111111111, \"#46039f\"], [0.2222222222222222, \"#7201a8\"], [0.3333333333333333, \"#9c179e\"], [0.4444444444444444, \"#bd3786\"], [0.5555555555555556, \"#d8576b\"], [0.6666666666666666, \"#ed7953\"], [0.7777777777777778, \"#fb9f3a\"], [0.8888888888888888, \"#fdca26\"], [1.0, \"#f0f921\"]], \"type\": \"heatmap\"}], \"heatmapgl\": [{\"colorbar\": {\"outlinewidth\": 0, \"ticks\": \"\"}, \"colorscale\": [[0.0, \"#0d0887\"], [0.1111111111111111, \"#46039f\"], [0.2222222222222222, \"#7201a8\"], [0.3333333333333333, \"#9c179e\"], [0.4444444444444444, \"#bd3786\"], [0.5555555555555556, \"#d8576b\"], [0.6666666666666666, \"#ed7953\"], [0.7777777777777778, \"#fb9f3a\"], [0.8888888888888888, \"#fdca26\"], [1.0, \"#f0f921\"]], \"type\": \"heatmapgl\"}], \"histogram\": [{\"marker\": {\"colorbar\": {\"outlinewidth\": 0, \"ticks\": \"\"}}, \"type\": \"histogram\"}], \"histogram2d\": [{\"colorbar\": {\"outlinewidth\": 0, \"ticks\": \"\"}, \"colorscale\": [[0.0, \"#0d0887\"], [0.1111111111111111, \"#46039f\"], [0.2222222222222222, \"#7201a8\"], [0.3333333333333333, \"#9c179e\"], [0.4444444444444444, \"#bd3786\"], [0.5555555555555556, \"#d8576b\"], [0.6666666666666666, \"#ed7953\"], [0.7777777777777778, \"#fb9f3a\"], [0.8888888888888888, \"#fdca26\"], [1.0, \"#f0f921\"]], \"type\": \"histogram2d\"}], \"histogram2dcontour\": [{\"colorbar\": {\"outlinewidth\": 0, \"ticks\": \"\"}, \"colorscale\": [[0.0, \"#0d0887\"], [0.1111111111111111, \"#46039f\"], [0.2222222222222222, \"#7201a8\"], [0.3333333333333333, \"#9c179e\"], [0.4444444444444444, \"#bd3786\"], [0.5555555555555556, \"#d8576b\"], [0.6666666666666666, \"#ed7953\"], [0.7777777777777778, \"#fb9f3a\"], [0.8888888888888888, \"#fdca26\"], [1.0, \"#f0f921\"]], \"type\": \"histogram2dcontour\"}], \"mesh3d\": [{\"colorbar\": {\"outlinewidth\": 0, \"ticks\": \"\"}, \"type\": \"mesh3d\"}], \"parcoords\": [{\"line\": {\"colorbar\": {\"outlinewidth\": 0, \"ticks\": \"\"}}, \"type\": \"parcoords\"}], \"pie\": [{\"automargin\": true, \"type\": \"pie\"}], \"scatter\": [{\"marker\": {\"colorbar\": {\"outlinewidth\": 0, \"ticks\": \"\"}}, \"type\": \"scatter\"}], \"scatter3d\": [{\"line\": {\"colorbar\": {\"outlinewidth\": 0, \"ticks\": \"\"}}, \"marker\": {\"colorbar\": {\"outlinewidth\": 0, \"ticks\": \"\"}}, \"type\": \"scatter3d\"}], \"scattercarpet\": [{\"marker\": {\"colorbar\": {\"outlinewidth\": 0, \"ticks\": \"\"}}, \"type\": \"scattercarpet\"}], \"scattergeo\": [{\"marker\": {\"colorbar\": {\"outlinewidth\": 0, \"ticks\": \"\"}}, \"type\": \"scattergeo\"}], \"scattergl\": [{\"marker\": {\"colorbar\": {\"outlinewidth\": 0, \"ticks\": \"\"}}, \"type\": \"scattergl\"}], \"scattermapbox\": [{\"marker\": {\"colorbar\": {\"outlinewidth\": 0, \"ticks\": \"\"}}, \"type\": \"scattermapbox\"}], \"scatterpolar\": [{\"marker\": {\"colorbar\": {\"outlinewidth\": 0, \"ticks\": \"\"}}, \"type\": \"scatterpolar\"}], \"scatterpolargl\": [{\"marker\": {\"colorbar\": {\"outlinewidth\": 0, \"ticks\": \"\"}}, \"type\": \"scatterpolargl\"}], \"scatterternary\": [{\"marker\": {\"colorbar\": {\"outlinewidth\": 0, \"ticks\": \"\"}}, \"type\": \"scatterternary\"}], \"surface\": [{\"colorbar\": {\"outlinewidth\": 0, \"ticks\": \"\"}, \"colorscale\": [[0.0, \"#0d0887\"], [0.1111111111111111, \"#46039f\"], [0.2222222222222222, \"#7201a8\"], [0.3333333333333333, \"#9c179e\"], [0.4444444444444444, \"#bd3786\"], [0.5555555555555556, \"#d8576b\"], [0.6666666666666666, \"#ed7953\"], [0.7777777777777778, \"#fb9f3a\"], [0.8888888888888888, \"#fdca26\"], [1.0, \"#f0f921\"]], \"type\": \"surface\"}], \"table\": [{\"cells\": {\"fill\": {\"color\": \"#EBF0F8\"}, \"line\": {\"color\": \"white\"}}, \"header\": {\"fill\": {\"color\": \"#C8D4E3\"}, \"line\": {\"color\": \"white\"}}, \"type\": \"table\"}]}, \"layout\": {\"annotationdefaults\": {\"arrowcolor\": \"#2a3f5f\", \"arrowhead\": 0, \"arrowwidth\": 1}, \"coloraxis\": {\"colorbar\": {\"outlinewidth\": 0, \"ticks\": \"\"}}, \"colorscale\": {\"diverging\": [[0, \"#8e0152\"], [0.1, \"#c51b7d\"], [0.2, \"#de77ae\"], [0.3, \"#f1b6da\"], [0.4, \"#fde0ef\"], [0.5, \"#f7f7f7\"], [0.6, \"#e6f5d0\"], [0.7, \"#b8e186\"], [0.8, \"#7fbc41\"], [0.9, \"#4d9221\"], [1, \"#276419\"]], \"sequential\": [[0.0, \"#0d0887\"], [0.1111111111111111, \"#46039f\"], [0.2222222222222222, \"#7201a8\"], [0.3333333333333333, \"#9c179e\"], [0.4444444444444444, \"#bd3786\"], [0.5555555555555556, \"#d8576b\"], [0.6666666666666666, \"#ed7953\"], [0.7777777777777778, \"#fb9f3a\"], [0.8888888888888888, \"#fdca26\"], [1.0, \"#f0f921\"]], \"sequentialminus\": [[0.0, \"#0d0887\"], [0.1111111111111111, \"#46039f\"], [0.2222222222222222, \"#7201a8\"], [0.3333333333333333, \"#9c179e\"], [0.4444444444444444, \"#bd3786\"], [0.5555555555555556, \"#d8576b\"], [0.6666666666666666, \"#ed7953\"], [0.7777777777777778, \"#fb9f3a\"], [0.8888888888888888, \"#fdca26\"], [1.0, \"#f0f921\"]]}, \"colorway\": [\"#636efa\", \"#EF553B\", \"#00cc96\", \"#ab63fa\", \"#FFA15A\", \"#19d3f3\", \"#FF6692\", \"#B6E880\", \"#FF97FF\", \"#FECB52\"], \"font\": {\"color\": \"#2a3f5f\"}, \"geo\": {\"bgcolor\": \"white\", \"lakecolor\": \"white\", \"landcolor\": \"#E5ECF6\", \"showlakes\": true, \"showland\": true, \"subunitcolor\": \"white\"}, \"hoverlabel\": {\"align\": \"left\"}, \"hovermode\": \"closest\", \"mapbox\": {\"style\": \"light\"}, \"paper_bgcolor\": \"white\", \"plot_bgcolor\": \"#E5ECF6\", \"polar\": {\"angularaxis\": {\"gridcolor\": \"white\", \"linecolor\": \"white\", \"ticks\": \"\"}, \"bgcolor\": \"#E5ECF6\", \"radialaxis\": {\"gridcolor\": \"white\", \"linecolor\": \"white\", \"ticks\": \"\"}}, \"scene\": {\"xaxis\": {\"backgroundcolor\": \"#E5ECF6\", \"gridcolor\": \"white\", \"gridwidth\": 2, \"linecolor\": \"white\", \"showbackground\": true, \"ticks\": \"\", \"zerolinecolor\": \"white\"}, \"yaxis\": {\"backgroundcolor\": \"#E5ECF6\", \"gridcolor\": \"white\", \"gridwidth\": 2, \"linecolor\": \"white\", \"showbackground\": true, \"ticks\": \"\", \"zerolinecolor\": \"white\"}, \"zaxis\": {\"backgroundcolor\": \"#E5ECF6\", \"gridcolor\": \"white\", \"gridwidth\": 2, \"linecolor\": \"white\", \"showbackground\": true, \"ticks\": \"\", \"zerolinecolor\": \"white\"}}, \"shapedefaults\": {\"line\": {\"color\": \"#2a3f5f\"}}, \"ternary\": {\"aaxis\": {\"gridcolor\": \"white\", \"linecolor\": \"white\", \"ticks\": \"\"}, \"baxis\": {\"gridcolor\": \"white\", \"linecolor\": \"white\", \"ticks\": \"\"}, \"bgcolor\": \"#E5ECF6\", \"caxis\": {\"gridcolor\": \"white\", \"linecolor\": \"white\", \"ticks\": \"\"}}, \"title\": {\"x\": 0.05}, \"xaxis\": {\"automargin\": true, \"gridcolor\": \"white\", \"linecolor\": \"white\", \"ticks\": \"\", \"title\": {\"standoff\": 15}, \"zerolinecolor\": \"white\", \"zerolinewidth\": 2}, \"yaxis\": {\"automargin\": true, \"gridcolor\": \"white\", \"linecolor\": \"white\", \"ticks\": \"\", \"title\": {\"standoff\": 15}, \"zerolinecolor\": \"white\", \"zerolinewidth\": 2}}}, \"title\": {\"text\": \"Gender diverisity across JobTitle\"}, \"xaxis\": {\"anchor\": \"y\", \"domain\": [0.0, 1.0], \"title\": {\"text\": \"JobTitle\"}}, \"yaxis\": {\"anchor\": \"x\", \"domain\": [0.0, 1.0], \"title\": {\"text\": \"count\"}}},\n",
              "                        {\"responsive\": true}\n",
              "                    ).then(function(){\n",
              "                            \n",
              "var gd = document.getElementById('383e6cbc-e519-4b80-9b90-bed5ef6a7425');\n",
              "var x = new MutationObserver(function (mutations, observer) {{\n",
              "        var display = window.getComputedStyle(gd).display;\n",
              "        if (!display || display === 'none') {{\n",
              "            console.log([gd, 'removed!']);\n",
              "            Plotly.purge(gd);\n",
              "            observer.disconnect();\n",
              "        }}\n",
              "}});\n",
              "\n",
              "// Listen for the removal of the full notebook cells\n",
              "var notebookContainer = gd.closest('#notebook-container');\n",
              "if (notebookContainer) {{\n",
              "    x.observe(notebookContainer, {childList: true});\n",
              "}}\n",
              "\n",
              "// Listen for the clearing of the current output cell\n",
              "var outputEl = gd.closest('.output');\n",
              "if (outputEl) {{\n",
              "    x.observe(outputEl, {childList: true});\n",
              "}}\n",
              "\n",
              "                        })\n",
              "                };\n",
              "                \n",
              "            </script>\n",
              "        </div>\n",
              "</body>\n",
              "</html>"
            ]
          },
          "metadata": {
            "tags": []
          }
        }
      ]
    },
    {
      "cell_type": "code",
      "metadata": {
        "colab": {
          "base_uri": "https://localhost:8080/",
          "height": 542
        },
        "id": "bpfMLoYtYxG4",
        "outputId": "3dcd5b3b-262a-49a5-a10c-9fb64c879169"
      },
      "source": [
        "fig2=px.histogram(df,x='JobTitle',y='totalPay',color='Gender',barmode='group',title='Gender diverisity across JobTitle',histfunc='avg')\r\n",
        "fig2.show()"
      ],
      "execution_count": 261,
      "outputs": [
        {
          "output_type": "display_data",
          "data": {
            "text/html": [
              "<html>\n",
              "<head><meta charset=\"utf-8\" /></head>\n",
              "<body>\n",
              "    <div>\n",
              "            <script src=\"https://cdnjs.cloudflare.com/ajax/libs/mathjax/2.7.5/MathJax.js?config=TeX-AMS-MML_SVG\"></script><script type=\"text/javascript\">if (window.MathJax) {MathJax.Hub.Config({SVG: {font: \"STIX-Web\"}});}</script>\n",
              "                <script type=\"text/javascript\">window.PlotlyConfig = {MathJaxConfig: 'local'};</script>\n",
              "        <script src=\"https://cdn.plot.ly/plotly-latest.min.js\"></script>    \n",
              "            <div id=\"daf411bc-d135-44b9-9576-014dba0cefc7\" class=\"plotly-graph-div\" style=\"height:525px; width:100%;\"></div>\n",
              "            <script type=\"text/javascript\">\n",
              "                \n",
              "                    window.PLOTLYENV=window.PLOTLYENV || {};\n",
              "                    \n",
              "                if (document.getElementById(\"daf411bc-d135-44b9-9576-014dba0cefc7\")) {\n",
              "                    Plotly.newPlot(\n",
              "                        'daf411bc-d135-44b9-9576-014dba0cefc7',\n",
              "                        [{\"alignmentgroup\": \"True\", \"bingroup\": \"x\", \"histfunc\": \"avg\", \"hoverlabel\": {\"namelength\": 0}, \"hovertemplate\": \"Gender=Female<br>JobTitle=%{x}<br>avg of totalPay=%{y}\", \"legendgroup\": \"Gender=Female\", \"marker\": {\"color\": \"#636efa\"}, \"name\": \"Gender=Female\", \"offsetgroup\": \"Gender=Female\", \"orientation\": \"v\", \"showlegend\": true, \"type\": \"histogram\", \"x\": [\"Graphic Designer\", \"Warehouse Associate\", \"IT\", \"Graphic Designer\", \"Graphic Designer\", \"Sales Associate\", \"Driver\", \"Financial Analyst\", \"Warehouse Associate\", \"Warehouse Associate\", \"Marketing Associate\", \"Financial Analyst\", \"Warehouse Associate\", \"Data Scientist\", \"Driver\", \"Graphic Designer\", \"IT\", \"Marketing Associate\", \"Data Scientist\", \"Data Scientist\", \"IT\", \"Data Scientist\", \"Graphic Designer\", \"IT\", \"Marketing Associate\", \"Data Scientist\", \"Software Engineer\", \"Data Scientist\", \"Driver\", \"Data Scientist\", \"Marketing Associate\", \"Warehouse Associate\", \"Sales Associate\", \"Warehouse Associate\", \"Sales Associate\", \"Warehouse Associate\", \"Financial Analyst\", \"Marketing Associate\", \"Warehouse Associate\", \"Marketing Associate\", \"Warehouse Associate\", \"Warehouse Associate\", \"Data Scientist\", \"IT\", \"Data Scientist\", \"Financial Analyst\", \"Marketing Associate\", \"Driver\", \"Financial Analyst\", \"Graphic Designer\", \"Marketing Associate\", \"Warehouse Associate\", \"Financial Analyst\", \"Financial Analyst\", \"Warehouse Associate\", \"Financial Analyst\", \"Marketing Associate\", \"Warehouse Associate\", \"Marketing Associate\", \"Sales Associate\", \"Financial Analyst\", \"Driver\", \"Marketing Associate\", \"Graphic Designer\", \"Driver\", \"Marketing Associate\", \"IT\", \"IT\", \"Financial Analyst\", \"Marketing Associate\", \"Driver\", \"Manager\", \"Marketing Associate\", \"Warehouse Associate\", \"Financial Analyst\", \"Software Engineer\", \"Warehouse Associate\", \"Driver\", \"Warehouse Associate\", \"Graphic Designer\", \"Data Scientist\", \"Warehouse Associate\", \"Data Scientist\", \"Sales Associate\", \"Graphic Designer\", \"Warehouse Associate\", \"Marketing Associate\", \"Marketing Associate\", \"Marketing Associate\", \"IT\", \"IT\", \"IT\", \"Driver\", \"Warehouse Associate\", \"IT\", \"Marketing Associate\", \"Marketing Associate\", \"Marketing Associate\", \"Financial Analyst\", \"Sales Associate\", \"Driver\", \"Graphic Designer\", \"Data Scientist\", \"Warehouse Associate\", \"Graphic Designer\", \"Marketing Associate\", \"Graphic Designer\", \"Financial Analyst\", \"Data Scientist\", \"Data Scientist\", \"Marketing Associate\", \"Warehouse Associate\", \"Driver\", \"Financial Analyst\", \"IT\", \"Marketing Associate\", \"Graphic Designer\", \"Software Engineer\", \"Driver\", \"Sales Associate\", \"Graphic Designer\", \"Marketing Associate\", \"Data Scientist\", \"Financial Analyst\", \"IT\", \"Warehouse Associate\", \"Sales Associate\", \"Warehouse Associate\", \"Data Scientist\", \"Warehouse Associate\", \"Data Scientist\", \"Graphic Designer\", \"IT\", \"Sales Associate\", \"Financial Analyst\", \"Warehouse Associate\", \"IT\", \"IT\", \"Graphic Designer\", \"Driver\", \"Sales Associate\", \"Driver\", \"Marketing Associate\", \"Graphic Designer\", \"Manager\", \"Warehouse Associate\", \"Marketing Associate\", \"Financial Analyst\", \"Manager\", \"Driver\", \"Warehouse Associate\", \"Sales Associate\", \"Data Scientist\", \"Driver\", \"Warehouse Associate\", \"Marketing Associate\", \"Graphic Designer\", \"Sales Associate\", \"Manager\", \"Data Scientist\", \"Warehouse Associate\", \"Graphic Designer\", \"Financial Analyst\", \"Marketing Associate\", \"Driver\", \"Sales Associate\", \"Driver\", \"Software Engineer\", \"Graphic Designer\", \"Software Engineer\", \"Marketing Associate\", \"Driver\", \"Data Scientist\", \"Manager\", \"Sales Associate\", \"Marketing Associate\", \"Financial Analyst\", \"Driver\", \"Data Scientist\", \"Driver\", \"Driver\", \"Marketing Associate\", \"Marketing Associate\", \"Marketing Associate\", \"Marketing Associate\", \"Marketing Associate\", \"Marketing Associate\", \"Warehouse Associate\", \"Data Scientist\", \"Marketing Associate\", \"Warehouse Associate\", \"Sales Associate\", \"Warehouse Associate\", \"Marketing Associate\", \"Marketing Associate\", \"IT\", \"Graphic Designer\", \"Data Scientist\", \"IT\", \"Marketing Associate\", \"Financial Analyst\", \"IT\", \"Marketing Associate\", \"Warehouse Associate\", \"Financial Analyst\", \"Marketing Associate\", \"Marketing Associate\", \"Driver\", \"Graphic Designer\", \"Sales Associate\", \"Driver\", \"Manager\", \"Marketing Associate\", \"Sales Associate\", \"Marketing Associate\", \"Warehouse Associate\", \"Graphic Designer\", \"Sales Associate\", \"Data Scientist\", \"Data Scientist\", \"Marketing Associate\", \"Data Scientist\", \"Marketing Associate\", \"IT\", \"Manager\", \"Financial Analyst\", \"Sales Associate\", \"Sales Associate\", \"Financial Analyst\", \"Marketing Associate\", \"Warehouse Associate\", \"Driver\", \"Driver\", \"IT\", \"Marketing Associate\", \"Graphic Designer\", \"Financial Analyst\", \"Driver\", \"Warehouse Associate\", \"Financial Analyst\", \"Sales Associate\", \"Graphic Designer\", \"IT\", \"Data Scientist\", \"Manager\", \"Marketing Associate\", \"Driver\", \"Driver\", \"Manager\", \"Graphic Designer\", \"Data Scientist\", \"Data Scientist\", \"Sales Associate\", \"Sales Associate\", \"IT\", \"IT\", \"Data Scientist\", \"Data Scientist\", \"Marketing Associate\", \"Financial Analyst\", \"Sales Associate\", \"IT\", \"Graphic Designer\", \"Financial Analyst\", \"Data Scientist\", \"Marketing Associate\", \"Driver\", \"Marketing Associate\", \"Sales Associate\", \"IT\", \"Marketing Associate\", \"Sales Associate\", \"IT\", \"Marketing Associate\", \"Marketing Associate\", \"IT\", \"Data Scientist\", \"Driver\", \"Financial Analyst\", \"Data Scientist\", \"Marketing Associate\", \"Marketing Associate\", \"Marketing Associate\", \"Graphic Designer\", \"Sales Associate\", \"Graphic Designer\", \"Manager\", \"Marketing Associate\", \"IT\", \"Financial Analyst\", \"Graphic Designer\", \"Driver\", \"Sales Associate\", \"Data Scientist\", \"Marketing Associate\", \"Marketing Associate\", \"Marketing Associate\", \"Warehouse Associate\", \"Financial Analyst\", \"Data Scientist\", \"Warehouse Associate\", \"Warehouse Associate\", \"IT\", \"Marketing Associate\", \"Graphic Designer\", \"Graphic Designer\", \"Warehouse Associate\", \"Data Scientist\", \"Warehouse Associate\", \"Data Scientist\", \"Financial Analyst\", \"Financial Analyst\", \"Financial Analyst\", \"Sales Associate\", \"IT\", \"Warehouse Associate\", \"Graphic Designer\", \"Marketing Associate\", \"Graphic Designer\", \"Manager\", \"Sales Associate\", \"Manager\", \"Marketing Associate\", \"Data Scientist\", \"Data Scientist\", \"Marketing Associate\", \"IT\", \"Marketing Associate\", \"Driver\", \"Data Scientist\", \"Marketing Associate\", \"IT\", \"Data Scientist\", \"Warehouse Associate\", \"Driver\", \"Data Scientist\", \"IT\", \"IT\", \"Marketing Associate\", \"Driver\", \"Graphic Designer\", \"Data Scientist\", \"IT\", \"Financial Analyst\", \"Driver\", \"IT\", \"Driver\", \"Sales Associate\", \"Data Scientist\", \"Warehouse Associate\", \"Sales Associate\", \"IT\", \"Financial Analyst\", \"Graphic Designer\", \"Graphic Designer\", \"Sales Associate\", \"IT\", \"Marketing Associate\", \"Marketing Associate\", \"Financial Analyst\", \"Graphic Designer\", \"Graphic Designer\", \"Financial Analyst\", \"Marketing Associate\", \"Software Engineer\", \"Marketing Associate\", \"Marketing Associate\", \"Graphic Designer\", \"Marketing Associate\", \"Sales Associate\", \"Software Engineer\", \"Manager\", \"Marketing Associate\", \"Marketing Associate\", \"Driver\", \"Marketing Associate\", \"Sales Associate\", \"Marketing Associate\", \"Driver\", \"Marketing Associate\", \"Marketing Associate\", \"Driver\", \"Driver\", \"Sales Associate\", \"Marketing Associate\", \"Graphic Designer\", \"IT\", \"Financial Analyst\", \"Financial Analyst\", \"Data Scientist\", \"Warehouse Associate\", \"Marketing Associate\", \"Manager\", \"Sales Associate\", \"Marketing Associate\", \"Graphic Designer\", \"Marketing Associate\", \"Graphic Designer\", \"Data Scientist\", \"Graphic Designer\", \"Marketing Associate\", \"Manager\", \"Data Scientist\", \"Financial Analyst\", \"Warehouse Associate\", \"Financial Analyst\", \"Financial Analyst\", \"Data Scientist\", \"IT\", \"Sales Associate\", \"Marketing Associate\", \"Marketing Associate\", \"Marketing Associate\", \"IT\", \"IT\", \"Financial Analyst\", \"Manager\", \"Sales Associate\", \"Marketing Associate\", \"Driver\", \"Marketing Associate\", \"Marketing Associate\", \"Software Engineer\", \"Graphic Designer\", \"Graphic Designer\", \"Driver\", \"Marketing Associate\", \"Financial Analyst\", \"Sales Associate\", \"Marketing Associate\", \"IT\", \"Manager\", \"Data Scientist\", \"Data Scientist\", \"Marketing Associate\", \"Sales Associate\", \"Sales Associate\", \"Manager\", \"IT\", \"IT\", \"Marketing Associate\", \"IT\", \"Financial Analyst\", \"Financial Analyst\", \"Driver\", \"Marketing Associate\", \"Data Scientist\", \"Data Scientist\", \"Driver\", \"Driver\", \"Financial Analyst\", \"Marketing Associate\", \"Marketing Associate\", \"Marketing Associate\", \"Financial Analyst\", \"Sales Associate\", \"IT\", \"Marketing Associate\", \"Marketing Associate\", \"IT\", \"Marketing Associate\", \"Financial Analyst\", \"Graphic Designer\", \"IT\", \"Graphic Designer\", \"Marketing Associate\", \"Marketing Associate\", \"Marketing Associate\"], \"xaxis\": \"x\", \"y\": [52301, 99476, 81016, 78126, 122812, 116465, 72883, 92997, 95803, 105329, 83691, 99190, 109494, 101905, 81069, 81197, 122896, 89539, 84495, 123391, 94047, 80676, 84513, 112335, 106940, 99069, 96986, 79728, 71578, 79524, 85765, 92017, 91875, 136772, 62149, 111478, 122402, 55695, 83172, 112552, 87382, 88939, 55150, 97009, 137135, 101131, 60461, 85757, 155151, 105174, 105154, 121464, 125923, 119421, 101969, 100625, 98640, 96329, 70096, 91336, 96506, 73369, 67847, 87205, 51237, 72592, 63410, 117163, 95119, 65008, 101424, 107462, 99340, 97867, 122269, 112146, 73886, 137604, 102048, 73596, 107794, 94481, 142047, 92049, 116843, 115222, 55033, 53192, 68343, 80651, 89182, 92449, 115762, 117399, 136681, 58373, 89752, 93603, 107239, 137001, 80112, 107929, 87635, 113812, 98933, 102966, 128384, 84051, 106220, 99405, 136316, 129208, 71193, 136686, 62490, 76841, 90201, 73500, 82118, 100925, 110926, 77863, 104757, 47661, 110554, 100732, 81204, 70000, 93132, 45662, 63953, 116596, 108635, 115779, 123255, 102858, 46223, 129159, 102584, 83303, 101827, 99424, 96665, 138001, 113817, 63911, 66123, 133770, 112658, 85416, 101571, 63240, 67397, 78221, 98707, 89835, 74590, 107301, 163011, 81071, 85010, 133783, 128331, 78479, 95026, 84364, 137966, 94622, 64504, 121218, 44638, 95194, 136138, 168968, 96981, 82769, 75211, 84305, 93964, 84291, 63685, 109841, 64926, 77536, 73373, 86667, 91843, 121179, 78332, 69009, 72877, 111773, 96636, 77840, 111910, 81331, 113602, 47688, 78250, 86903, 69376, 82935, 90080, 84991, 124502, 104592, 56801, 83942, 107253, 91057, 108578, 150486, 76374, 135113, 82495, 98977, 125307, 92511, 128969, 113658, 40828, 89556, 55918, 105633, 137199, 103036, 98562, 138145, 71927, 83468, 121023, 95892, 85009, 82229, 81790, 134166, 122501, 92417, 74253, 99917, 93848, 109559, 101406, 97265, 119821, 77599, 71830, 72872, 121261, 127902, 133071, 105044, 83422, 93487, 62570, 76173, 104764, 80022, 100431, 108395, 95446, 106115, 62461, 55174, 119460, 92055, 105523, 128695, 94061, 50637, 44030, 72131, 137946, 119967, 106326, 117656, 83645, 97023, 73443, 143724, 64882, 81431, 44013, 117311, 72180, 60805, 125414, 111933, 110978, 83682, 47695, 83177, 87049, 98486, 99849, 115809, 93033, 85839, 103060, 84837, 131262, 112047, 117115, 64148, 105001, 81276, 98940, 113474, 90588, 85094, 135437, 81664, 98725, 88379, 86972, 107301, 84957, 78442, 138666, 109291, 109048, 152243, 72440, 101877, 107025, 86094, 107874, 82108, 93179, 72633, 78124, 60009, 111798, 91997, 117219, 105131, 109125, 67418, 83690, 112964, 105294, 113004, 132402, 127577, 81532, 108952, 108934, 122270, 144110, 138293, 71901, 127947, 56144, 81177, 115915, 121263, 118687, 90750, 83172, 117939, 110738, 114768, 101518, 103985, 119455, 44692, 67980, 113524, 52568, 69887, 82838, 139818, 67393, 58116, 118685, 103985, 66005, 59680, 111266, 112286, 44722, 107737, 125182, 86961, 40958, 120171, 101732, 85511, 88730, 89173, 124894, 86626, 155013, 135111, 43358, 99929, 90978, 75882, 129789, 80593, 104286, 148984, 119980, 123095, 110766, 95954, 96469, 144389, 134495, 101057, 93109, 116726, 57109, 68694, 45447, 118541, 123614, 98118, 119672, 118642, 95748, 74739, 108414, 67435, 94004, 64631, 112862, 142024, 105064, 100040, 103415, 138462, 126180, 117887, 110679, 146719, 110171, 110875, 96165, 64613, 80930, 116490, 103766, 70167, 101325, 57936, 124317, 91002, 128177, 70405, 66955, 64198, 69773, 94980, 93962, 90248, 112668, 101584, 65394, 114932, 101838, 99310, 94348, 108986, 84963, 82673, 88030, 65914], \"yaxis\": \"y\"}, {\"alignmentgroup\": \"True\", \"bingroup\": \"x\", \"histfunc\": \"avg\", \"hoverlabel\": {\"namelength\": 0}, \"hovertemplate\": \"Gender=Male<br>JobTitle=%{x}<br>avg of totalPay=%{y}\", \"legendgroup\": \"Gender=Male\", \"marker\": {\"color\": \"#EF553B\"}, \"name\": \"Gender=Male\", \"offsetgroup\": \"Gender=Male\", \"orientation\": \"v\", \"showlegend\": true, \"type\": \"histogram\", \"x\": [\"Software Engineer\", \"Software Engineer\", \"Graphic Designer\", \"Software Engineer\", \"Graphic Designer\", \"Sales Associate\", \"Warehouse Associate\", \"Financial Analyst\", \"Warehouse Associate\", \"Software Engineer\", \"Software Engineer\", \"Graphic Designer\", \"Warehouse Associate\", \"Software Engineer\", \"Sales Associate\", \"Software Engineer\", \"Software Engineer\", \"Software Engineer\", \"IT\", \"Data Scientist\", \"Data Scientist\", \"Software Engineer\", \"Warehouse Associate\", \"Software Engineer\", \"Software Engineer\", \"Marketing Associate\", \"Sales Associate\", \"Software Engineer\", \"Software Engineer\", \"Financial Analyst\", \"Graphic Designer\", \"Software Engineer\", \"Driver\", \"Sales Associate\", \"Data Scientist\", \"Data Scientist\", \"Manager\", \"Data Scientist\", \"Graphic Designer\", \"Financial Analyst\", \"Warehouse Associate\", \"Warehouse Associate\", \"Manager\", \"Graphic Designer\", \"Manager\", \"Software Engineer\", \"Warehouse Associate\", \"Software Engineer\", \"Software Engineer\", \"IT\", \"Sales Associate\", \"IT\", \"Warehouse Associate\", \"Driver\", \"Financial Analyst\", \"Driver\", \"Data Scientist\", \"Software Engineer\", \"Driver\", \"Sales Associate\", \"Data Scientist\", \"IT\", \"Financial Analyst\", \"Marketing Associate\", \"Graphic Designer\", \"Graphic Designer\", \"Financial Analyst\", \"Financial Analyst\", \"Data Scientist\", \"Financial Analyst\", \"Warehouse Associate\", \"Software Engineer\", \"Manager\", \"Data Scientist\", \"Sales Associate\", \"Marketing Associate\", \"IT\", \"Financial Analyst\", \"Software Engineer\", \"Software Engineer\", \"Sales Associate\", \"Financial Analyst\", \"Driver\", \"Graphic Designer\", \"Software Engineer\", \"Driver\", \"Software Engineer\", \"Manager\", \"Software Engineer\", \"Sales Associate\", \"Graphic Designer\", \"Software Engineer\", \"Software Engineer\", \"Warehouse Associate\", \"Software Engineer\", \"Data Scientist\", \"Sales Associate\", \"Manager\", \"IT\", \"Financial Analyst\", \"Graphic Designer\", \"Software Engineer\", \"Software Engineer\", \"Sales Associate\", \"Graphic Designer\", \"Manager\", \"Financial Analyst\", \"Software Engineer\", \"Driver\", \"Financial Analyst\", \"Graphic Designer\", \"IT\", \"Graphic Designer\", \"Sales Associate\", \"Manager\", \"Graphic Designer\", \"Data Scientist\", \"Data Scientist\", \"Driver\", \"IT\", \"Software Engineer\", \"Financial Analyst\", \"IT\", \"Software Engineer\", \"Sales Associate\", \"IT\", \"Graphic Designer\", \"Driver\", \"Graphic Designer\", \"Financial Analyst\", \"Manager\", \"Data Scientist\", \"Software Engineer\", \"Driver\", \"Manager\", \"Warehouse Associate\", \"Data Scientist\", \"Driver\", \"IT\", \"Driver\", \"Driver\", \"Warehouse Associate\", \"IT\", \"Graphic Designer\", \"Data Scientist\", \"IT\", \"Financial Analyst\", \"Graphic Designer\", \"Financial Analyst\", \"Sales Associate\", \"Sales Associate\", \"Graphic Designer\", \"Financial Analyst\", \"Warehouse Associate\", \"Manager\", \"Software Engineer\", \"Warehouse Associate\", \"Warehouse Associate\", \"Driver\", \"Graphic Designer\", \"Software Engineer\", \"Financial Analyst\", \"Graphic Designer\", \"Software Engineer\", \"IT\", \"Software Engineer\", \"Financial Analyst\", \"Driver\", \"Manager\", \"IT\", \"Driver\", \"Financial Analyst\", \"Software Engineer\", \"Warehouse Associate\", \"Manager\", \"IT\", \"Data Scientist\", \"Sales Associate\", \"Software Engineer\", \"Financial Analyst\", \"Driver\", \"Manager\", \"Graphic Designer\", \"Sales Associate\", \"Financial Analyst\", \"Graphic Designer\", \"Manager\", \"Driver\", \"Manager\", \"Sales Associate\", \"Software Engineer\", \"Warehouse Associate\", \"Marketing Associate\", \"Financial Analyst\", \"Software Engineer\", \"Driver\", \"Data Scientist\", \"Software Engineer\", \"Manager\", \"Sales Associate\", \"Financial Analyst\", \"Financial Analyst\", \"Financial Analyst\", \"Marketing Associate\", \"Sales Associate\", \"IT\", \"Software Engineer\", \"Manager\", \"Data Scientist\", \"Manager\", \"Data Scientist\", \"IT\", \"Financial Analyst\", \"IT\", \"Manager\", \"Software Engineer\", \"Manager\", \"IT\", \"Manager\", \"Manager\", \"Software Engineer\", \"Driver\", \"Warehouse Associate\", \"Manager\", \"Graphic Designer\", \"Software Engineer\", \"Data Scientist\", \"Sales Associate\", \"Software Engineer\", \"Financial Analyst\", \"Software Engineer\", \"Warehouse Associate\", \"Software Engineer\", \"Manager\", \"Marketing Associate\", \"Data Scientist\", \"Data Scientist\", \"Manager\", \"Data Scientist\", \"Warehouse Associate\", \"Software Engineer\", \"Graphic Designer\", \"Software Engineer\", \"Warehouse Associate\", \"Software Engineer\", \"Software Engineer\", \"Software Engineer\", \"Software Engineer\", \"Manager\", \"Data Scientist\", \"Warehouse Associate\", \"Software Engineer\", \"Manager\", \"Graphic Designer\", \"Manager\", \"Sales Associate\", \"Graphic Designer\", \"Graphic Designer\", \"Warehouse Associate\", \"Financial Analyst\", \"Sales Associate\", \"Graphic Designer\", \"Manager\", \"Sales Associate\", \"Financial Analyst\", \"Manager\", \"Software Engineer\", \"Data Scientist\", \"Data Scientist\", \"Financial Analyst\", \"IT\", \"Marketing Associate\", \"Warehouse Associate\", \"Manager\", \"Warehouse Associate\", \"Manager\", \"Software Engineer\", \"Warehouse Associate\", \"Financial Analyst\", \"Manager\", \"Financial Analyst\", \"IT\", \"Graphic Designer\", \"Manager\", \"Manager\", \"Financial Analyst\", \"Financial Analyst\", \"Warehouse Associate\", \"Graphic Designer\", \"Warehouse Associate\", \"Software Engineer\", \"Warehouse Associate\", \"Driver\", \"Driver\", \"Sales Associate\", \"Data Scientist\", \"IT\", \"IT\", \"Driver\", \"Financial Analyst\", \"Warehouse Associate\", \"Manager\", \"Software Engineer\", \"Manager\", \"Graphic Designer\", \"Manager\", \"Graphic Designer\", \"Graphic Designer\", \"Graphic Designer\", \"Manager\", \"Data Scientist\", \"Software Engineer\", \"Data Scientist\", \"Manager\", \"Manager\", \"Data Scientist\", \"Software Engineer\", \"IT\", \"Data Scientist\", \"IT\", \"Driver\", \"Warehouse Associate\", \"IT\", \"Manager\", \"Software Engineer\", \"Manager\", \"Manager\", \"Sales Associate\", \"Software Engineer\", \"IT\", \"Warehouse Associate\", \"Graphic Designer\", \"Manager\", \"Software Engineer\", \"Driver\", \"Financial Analyst\", \"Graphic Designer\", \"Driver\", \"Software Engineer\", \"Data Scientist\", \"Graphic Designer\", \"Warehouse Associate\", \"IT\", \"Sales Associate\", \"Software Engineer\", \"Driver\", \"Financial Analyst\", \"Warehouse Associate\", \"Driver\", \"Marketing Associate\", \"Financial Analyst\", \"Graphic Designer\", \"Driver\", \"Financial Analyst\", \"Driver\", \"Manager\", \"Driver\", \"Data Scientist\", \"Sales Associate\", \"Software Engineer\", \"Sales Associate\", \"Software Engineer\", \"Data Scientist\", \"IT\", \"Software Engineer\", \"Sales Associate\", \"Warehouse Associate\", \"Data Scientist\", \"IT\", \"Warehouse Associate\", \"Financial Analyst\", \"Financial Analyst\", \"Marketing Associate\", \"Manager\", \"Graphic Designer\", \"Manager\", \"Driver\", \"Data Scientist\", \"IT\", \"Software Engineer\", \"Sales Associate\", \"Sales Associate\", \"Warehouse Associate\", \"Data Scientist\", \"Data Scientist\", \"Driver\", \"Driver\", \"Software Engineer\", \"Manager\", \"Software Engineer\", \"IT\", \"Software Engineer\", \"Sales Associate\", \"Software Engineer\", \"Software Engineer\", \"Sales Associate\", \"Manager\", \"Manager\", \"Manager\", \"Software Engineer\", \"Driver\", \"Software Engineer\", \"Graphic Designer\", \"Sales Associate\", \"Manager\", \"Data Scientist\", \"Manager\", \"Data Scientist\", \"Driver\", \"Driver\", \"Software Engineer\", \"Financial Analyst\", \"Software Engineer\", \"Manager\", \"Software Engineer\", \"Sales Associate\", \"Warehouse Associate\", \"Sales Associate\", \"Financial Analyst\", \"Graphic Designer\", \"Manager\", \"Data Scientist\", \"Financial Analyst\", \"IT\", \"Manager\", \"Financial Analyst\", \"Warehouse Associate\", \"Driver\", \"Manager\", \"Sales Associate\", \"Graphic Designer\", \"Software Engineer\", \"Sales Associate\", \"Software Engineer\", \"Graphic Designer\", \"Sales Associate\", \"Software Engineer\", \"Graphic Designer\", \"Graphic Designer\", \"Sales Associate\", \"Sales Associate\", \"Driver\", \"Marketing Associate\", \"Software Engineer\", \"Driver\", \"Warehouse Associate\", \"Manager\", \"Driver\", \"Software Engineer\", \"Data Scientist\", \"Financial Analyst\", \"Manager\", \"Data Scientist\", \"Manager\", \"Data Scientist\", \"Warehouse Associate\", \"Sales Associate\", \"Sales Associate\", \"Marketing Associate\", \"Software Engineer\", \"Manager\", \"IT\", \"Manager\", \"Software Engineer\", \"Data Scientist\", \"IT\", \"Software Engineer\", \"Financial Analyst\", \"Graphic Designer\", \"Financial Analyst\", \"Manager\", \"IT\", \"IT\", \"IT\", \"Financial Analyst\", \"Data Scientist\", \"Software Engineer\", \"Data Scientist\", \"Manager\", \"Graphic Designer\", \"Financial Analyst\", \"Driver\", \"Manager\", \"Data Scientist\", \"Driver\", \"Driver\", \"Financial Analyst\", \"Sales Associate\", \"Driver\", \"Software Engineer\", \"IT\", \"Software Engineer\", \"IT\", \"Manager\", \"Financial Analyst\", \"IT\", \"Software Engineer\", \"Software Engineer\", \"Data Scientist\", \"Manager\", \"Warehouse Associate\", \"Software Engineer\", \"Data Scientist\", \"Manager\", \"IT\", \"Software Engineer\", \"Graphic Designer\", \"Sales Associate\", \"Data Scientist\", \"IT\", \"Financial Analyst\", \"Sales Associate\", \"IT\", \"Warehouse Associate\", \"Sales Associate\", \"Software Engineer\", \"Manager\", \"Data Scientist\", \"Software Engineer\", \"Warehouse Associate\", \"Software Engineer\", \"Sales Associate\", \"IT\", \"Sales Associate\", \"Software Engineer\", \"Manager\", \"Data Scientist\", \"Sales Associate\", \"Data Scientist\", \"Financial Analyst\", \"Financial Analyst\", \"Financial Analyst\"], \"xaxis\": \"x\", \"y\": [119604, 118234, 108783, 107763, 112473, 99847, 117656, 92652, 94997, 142448, 109923, 98035, 114448, 76496, 113519, 106090, 101454, 102022, 88009, 106139, 95824, 97673, 68087, 130317, 91232, 96310, 100133, 98578, 121959, 107202, 96607, 98967, 92790, 75410, 69421, 64594, 142378, 58991, 93271, 121061, 58686, 68412, 156788, 78334, 128557, 76850, 117794, 90300, 91448, 136571, 61620, 56166, 85019, 98583, 115615, 106247, 119374, 133817, 80768, 143985, 110428, 136138, 111006, 86493, 92256, 48736, 105386, 112237, 76692, 128726, 78192, 76197, 112143, 105610, 124006, 94565, 78202, 121865, 87810, 151758, 67089, 79333, 109015, 69872, 116520, 118977, 128166, 99501, 114814, 136949, 101261, 95787, 148989, 111905, 109056, 67639, 109276, 111329, 82582, 72875, 115234, 85266, 95867, 89142, 65225, 115339, 97897, 127356, 111944, 120345, 112472, 97374, 84795, 67510, 165250, 57952, 73575, 89272, 97352, 117136, 73853, 106860, 87448, 140520, 93157, 107605, 123152, 100321, 80692, 76266, 111779, 88943, 83077, 111496, 132316, 69172, 111245, 64725, 72868, 96794, 109247, 91130, 105111, 110447, 68609, 89097, 78267, 140139, 72991, 102701, 106795, 96035, 94577, 142205, 97576, 115140, 85886, 91844, 75745, 125256, 147482, 69354, 105654, 118727, 112174, 162935, 91484, 97456, 117076, 105560, 76614, 126905, 148350, 93041, 151509, 142160, 69995, 136533, 164521, 120308, 75296, 183562, 66091, 110941, 97970, 87472, 158567, 78332, 123920, 125689, 142258, 93318, 72077, 104513, 67872, 125369, 86625, 120721, 128871, 120383, 86439, 99519, 129660, 61336, 44346, 86304, 132085, 130060, 88644, 128688, 130184, 63868, 98125, 97323, 125809, 99345, 145780, 138272, 96221, 119418, 162262, 141823, 73929, 149510, 113622, 132198, 90816, 93594, 98932, 81887, 108534, 80224, 152071, 136509, 58373, 81254, 110925, 90146, 74452, 84236, 96282, 114851, 161343, 122934, 103927, 128320, 119182, 99796, 117934, 112017, 101201, 83350, 114848, 92258, 120342, 126326, 82775, 130302, 90901, 76085, 116693, 112026, 122413, 94146, 86167, 141971, 125671, 93901, 121525, 122354, 72581, 122350, 89148, 154955, 75827, 110217, 117114, 135535, 94968, 155266, 106536, 96182, 132436, 117347, 164857, 111544, 107222, 88264, 76546, 105985, 89515, 133005, 48905, 117715, 118877, 105531, 83450, 71687, 86911, 132759, 112025, 133137, 112764, 96955, 72535, 156896, 77056, 75117, 96640, 106546, 103635, 102350, 62499, 127628, 127085, 91834, 120871, 72003, 74709, 98578, 116881, 64457, 98096, 130327, 140701, 131358, 111974, 80546, 109124, 171735, 123546, 112714, 131052, 94976, 107597, 84587, 102652, 87014, 84135, 78949, 90209, 83892, 55074, 135228, 93014, 58180, 77435, 68926, 90446, 98202, 98170, 78119, 124424, 111169, 100693, 109433, 97586, 100322, 129924, 137195, 75829, 75979, 58835, 102302, 131635, 105833, 98382, 100556, 112010, 96525, 88616, 90308, 115875, 140172, 105722, 162967, 93742, 88528, 123206, 124172, 89227, 126722, 76591, 102932, 113135, 134671, 68488, 133357, 158817, 113708, 89887, 100675, 100054, 107747, 124786, 104773, 156702, 139664, 106209, 162121, 73873, 126789, 105090, 65063, 157327, 94717, 139705, 82297, 66531, 122208, 111728, 89159, 71958, 160790, 142848, 111999, 87575, 82698, 105389, 113099, 118548, 107764, 116481, 99206, 141578, 119494, 69304, 106933, 167303, 56309, 119145, 143194, 140119, 126404, 87325, 100171, 87737, 77854, 110717, 125266, 55337, 114432, 97297, 86516, 100207, 94774, 117493, 134816, 86316, 121537, 144601, 118381, 111536, 85050, 65579, 79092, 95858, 105991, 66900, 69998, 127264, 61165, 119702, 59945, 128041, 104929, 163390, 89856, 139467, 127543, 119403, 96581, 103591, 115117, 65347, 125942, 90168, 106277, 123506, 99653, 87999, 63448, 135821, 82424, 116101, 107871, 73317, 72076, 120234, 89743, 53598, 121881, 88376, 184010, 112862, 113360, 131513, 85057, 98328, 129400, 129719, 126860, 131977, 140906, 91872, 97954, 41030, 115970, 126686, 108749, 103432, 95710, 94643, 50680, 116440, 136182, 111781, 110098, 109124, 109530, 111799, 90570, 95075, 84775, 121857, 123257, 100394, 104416, 112544, 95071, 99601, 125352], \"yaxis\": \"y\"}],\n",
              "                        {\"barmode\": \"group\", \"legend\": {\"tracegroupgap\": 0}, \"template\": {\"data\": {\"bar\": [{\"error_x\": {\"color\": \"#2a3f5f\"}, \"error_y\": {\"color\": \"#2a3f5f\"}, \"marker\": {\"line\": {\"color\": \"#E5ECF6\", \"width\": 0.5}}, \"type\": \"bar\"}], \"barpolar\": [{\"marker\": {\"line\": {\"color\": \"#E5ECF6\", \"width\": 0.5}}, \"type\": \"barpolar\"}], \"carpet\": [{\"aaxis\": {\"endlinecolor\": \"#2a3f5f\", \"gridcolor\": \"white\", \"linecolor\": \"white\", \"minorgridcolor\": \"white\", \"startlinecolor\": \"#2a3f5f\"}, \"baxis\": {\"endlinecolor\": \"#2a3f5f\", \"gridcolor\": \"white\", \"linecolor\": \"white\", \"minorgridcolor\": \"white\", \"startlinecolor\": \"#2a3f5f\"}, \"type\": \"carpet\"}], \"choropleth\": [{\"colorbar\": {\"outlinewidth\": 0, \"ticks\": \"\"}, \"type\": \"choropleth\"}], \"contour\": [{\"colorbar\": {\"outlinewidth\": 0, \"ticks\": \"\"}, \"colorscale\": [[0.0, \"#0d0887\"], [0.1111111111111111, \"#46039f\"], [0.2222222222222222, \"#7201a8\"], [0.3333333333333333, \"#9c179e\"], [0.4444444444444444, \"#bd3786\"], [0.5555555555555556, \"#d8576b\"], [0.6666666666666666, \"#ed7953\"], [0.7777777777777778, \"#fb9f3a\"], [0.8888888888888888, \"#fdca26\"], [1.0, \"#f0f921\"]], \"type\": \"contour\"}], \"contourcarpet\": [{\"colorbar\": {\"outlinewidth\": 0, \"ticks\": \"\"}, \"type\": \"contourcarpet\"}], \"heatmap\": [{\"colorbar\": {\"outlinewidth\": 0, \"ticks\": \"\"}, \"colorscale\": [[0.0, \"#0d0887\"], [0.1111111111111111, \"#46039f\"], [0.2222222222222222, \"#7201a8\"], [0.3333333333333333, \"#9c179e\"], [0.4444444444444444, \"#bd3786\"], [0.5555555555555556, \"#d8576b\"], [0.6666666666666666, \"#ed7953\"], [0.7777777777777778, \"#fb9f3a\"], [0.8888888888888888, \"#fdca26\"], [1.0, \"#f0f921\"]], \"type\": \"heatmap\"}], \"heatmapgl\": [{\"colorbar\": {\"outlinewidth\": 0, \"ticks\": \"\"}, \"colorscale\": [[0.0, \"#0d0887\"], [0.1111111111111111, \"#46039f\"], [0.2222222222222222, \"#7201a8\"], [0.3333333333333333, \"#9c179e\"], [0.4444444444444444, \"#bd3786\"], [0.5555555555555556, \"#d8576b\"], [0.6666666666666666, \"#ed7953\"], [0.7777777777777778, \"#fb9f3a\"], [0.8888888888888888, \"#fdca26\"], [1.0, \"#f0f921\"]], \"type\": \"heatmapgl\"}], \"histogram\": [{\"marker\": {\"colorbar\": {\"outlinewidth\": 0, \"ticks\": \"\"}}, \"type\": \"histogram\"}], \"histogram2d\": [{\"colorbar\": {\"outlinewidth\": 0, \"ticks\": \"\"}, \"colorscale\": [[0.0, \"#0d0887\"], [0.1111111111111111, \"#46039f\"], [0.2222222222222222, \"#7201a8\"], [0.3333333333333333, \"#9c179e\"], [0.4444444444444444, \"#bd3786\"], [0.5555555555555556, \"#d8576b\"], [0.6666666666666666, \"#ed7953\"], [0.7777777777777778, \"#fb9f3a\"], [0.8888888888888888, \"#fdca26\"], [1.0, \"#f0f921\"]], \"type\": \"histogram2d\"}], \"histogram2dcontour\": [{\"colorbar\": {\"outlinewidth\": 0, \"ticks\": \"\"}, \"colorscale\": [[0.0, \"#0d0887\"], [0.1111111111111111, \"#46039f\"], [0.2222222222222222, \"#7201a8\"], [0.3333333333333333, \"#9c179e\"], [0.4444444444444444, \"#bd3786\"], [0.5555555555555556, \"#d8576b\"], [0.6666666666666666, \"#ed7953\"], [0.7777777777777778, \"#fb9f3a\"], [0.8888888888888888, \"#fdca26\"], [1.0, \"#f0f921\"]], \"type\": \"histogram2dcontour\"}], \"mesh3d\": [{\"colorbar\": {\"outlinewidth\": 0, \"ticks\": \"\"}, \"type\": \"mesh3d\"}], \"parcoords\": [{\"line\": {\"colorbar\": {\"outlinewidth\": 0, \"ticks\": \"\"}}, \"type\": \"parcoords\"}], \"pie\": [{\"automargin\": true, \"type\": \"pie\"}], \"scatter\": [{\"marker\": {\"colorbar\": {\"outlinewidth\": 0, \"ticks\": \"\"}}, \"type\": \"scatter\"}], \"scatter3d\": [{\"line\": {\"colorbar\": {\"outlinewidth\": 0, \"ticks\": \"\"}}, \"marker\": {\"colorbar\": {\"outlinewidth\": 0, \"ticks\": \"\"}}, \"type\": \"scatter3d\"}], \"scattercarpet\": [{\"marker\": {\"colorbar\": {\"outlinewidth\": 0, \"ticks\": \"\"}}, \"type\": \"scattercarpet\"}], \"scattergeo\": [{\"marker\": {\"colorbar\": {\"outlinewidth\": 0, \"ticks\": \"\"}}, \"type\": \"scattergeo\"}], \"scattergl\": [{\"marker\": {\"colorbar\": {\"outlinewidth\": 0, \"ticks\": \"\"}}, \"type\": \"scattergl\"}], \"scattermapbox\": [{\"marker\": {\"colorbar\": {\"outlinewidth\": 0, \"ticks\": \"\"}}, \"type\": \"scattermapbox\"}], \"scatterpolar\": [{\"marker\": {\"colorbar\": {\"outlinewidth\": 0, \"ticks\": \"\"}}, \"type\": \"scatterpolar\"}], \"scatterpolargl\": [{\"marker\": {\"colorbar\": {\"outlinewidth\": 0, \"ticks\": \"\"}}, \"type\": \"scatterpolargl\"}], \"scatterternary\": [{\"marker\": {\"colorbar\": {\"outlinewidth\": 0, \"ticks\": \"\"}}, \"type\": \"scatterternary\"}], \"surface\": [{\"colorbar\": {\"outlinewidth\": 0, \"ticks\": \"\"}, \"colorscale\": [[0.0, \"#0d0887\"], [0.1111111111111111, \"#46039f\"], [0.2222222222222222, \"#7201a8\"], [0.3333333333333333, \"#9c179e\"], [0.4444444444444444, \"#bd3786\"], [0.5555555555555556, \"#d8576b\"], [0.6666666666666666, \"#ed7953\"], [0.7777777777777778, \"#fb9f3a\"], [0.8888888888888888, \"#fdca26\"], [1.0, \"#f0f921\"]], \"type\": \"surface\"}], \"table\": [{\"cells\": {\"fill\": {\"color\": \"#EBF0F8\"}, \"line\": {\"color\": \"white\"}}, \"header\": {\"fill\": {\"color\": \"#C8D4E3\"}, \"line\": {\"color\": \"white\"}}, \"type\": \"table\"}]}, \"layout\": {\"annotationdefaults\": {\"arrowcolor\": \"#2a3f5f\", \"arrowhead\": 0, \"arrowwidth\": 1}, \"coloraxis\": {\"colorbar\": {\"outlinewidth\": 0, \"ticks\": \"\"}}, \"colorscale\": {\"diverging\": [[0, \"#8e0152\"], [0.1, \"#c51b7d\"], [0.2, \"#de77ae\"], [0.3, \"#f1b6da\"], [0.4, \"#fde0ef\"], [0.5, \"#f7f7f7\"], [0.6, \"#e6f5d0\"], [0.7, \"#b8e186\"], [0.8, \"#7fbc41\"], [0.9, \"#4d9221\"], [1, \"#276419\"]], \"sequential\": [[0.0, \"#0d0887\"], [0.1111111111111111, \"#46039f\"], [0.2222222222222222, \"#7201a8\"], [0.3333333333333333, \"#9c179e\"], [0.4444444444444444, \"#bd3786\"], [0.5555555555555556, \"#d8576b\"], [0.6666666666666666, \"#ed7953\"], [0.7777777777777778, \"#fb9f3a\"], [0.8888888888888888, \"#fdca26\"], [1.0, \"#f0f921\"]], \"sequentialminus\": [[0.0, \"#0d0887\"], [0.1111111111111111, \"#46039f\"], [0.2222222222222222, \"#7201a8\"], [0.3333333333333333, \"#9c179e\"], [0.4444444444444444, \"#bd3786\"], [0.5555555555555556, \"#d8576b\"], [0.6666666666666666, \"#ed7953\"], [0.7777777777777778, \"#fb9f3a\"], [0.8888888888888888, \"#fdca26\"], [1.0, \"#f0f921\"]]}, \"colorway\": [\"#636efa\", \"#EF553B\", \"#00cc96\", \"#ab63fa\", \"#FFA15A\", \"#19d3f3\", \"#FF6692\", \"#B6E880\", \"#FF97FF\", \"#FECB52\"], \"font\": {\"color\": \"#2a3f5f\"}, \"geo\": {\"bgcolor\": \"white\", \"lakecolor\": \"white\", \"landcolor\": \"#E5ECF6\", \"showlakes\": true, \"showland\": true, \"subunitcolor\": \"white\"}, \"hoverlabel\": {\"align\": \"left\"}, \"hovermode\": \"closest\", \"mapbox\": {\"style\": \"light\"}, \"paper_bgcolor\": \"white\", \"plot_bgcolor\": \"#E5ECF6\", \"polar\": {\"angularaxis\": {\"gridcolor\": \"white\", \"linecolor\": \"white\", \"ticks\": \"\"}, \"bgcolor\": \"#E5ECF6\", \"radialaxis\": {\"gridcolor\": \"white\", \"linecolor\": \"white\", \"ticks\": \"\"}}, \"scene\": {\"xaxis\": {\"backgroundcolor\": \"#E5ECF6\", \"gridcolor\": \"white\", \"gridwidth\": 2, \"linecolor\": \"white\", \"showbackground\": true, \"ticks\": \"\", \"zerolinecolor\": \"white\"}, \"yaxis\": {\"backgroundcolor\": \"#E5ECF6\", \"gridcolor\": \"white\", \"gridwidth\": 2, \"linecolor\": \"white\", \"showbackground\": true, \"ticks\": \"\", \"zerolinecolor\": \"white\"}, \"zaxis\": {\"backgroundcolor\": \"#E5ECF6\", \"gridcolor\": \"white\", \"gridwidth\": 2, \"linecolor\": \"white\", \"showbackground\": true, \"ticks\": \"\", \"zerolinecolor\": \"white\"}}, \"shapedefaults\": {\"line\": {\"color\": \"#2a3f5f\"}}, \"ternary\": {\"aaxis\": {\"gridcolor\": \"white\", \"linecolor\": \"white\", \"ticks\": \"\"}, \"baxis\": {\"gridcolor\": \"white\", \"linecolor\": \"white\", \"ticks\": \"\"}, \"bgcolor\": \"#E5ECF6\", \"caxis\": {\"gridcolor\": \"white\", \"linecolor\": \"white\", \"ticks\": \"\"}}, \"title\": {\"x\": 0.05}, \"xaxis\": {\"automargin\": true, \"gridcolor\": \"white\", \"linecolor\": \"white\", \"ticks\": \"\", \"title\": {\"standoff\": 15}, \"zerolinecolor\": \"white\", \"zerolinewidth\": 2}, \"yaxis\": {\"automargin\": true, \"gridcolor\": \"white\", \"linecolor\": \"white\", \"ticks\": \"\", \"title\": {\"standoff\": 15}, \"zerolinecolor\": \"white\", \"zerolinewidth\": 2}}}, \"title\": {\"text\": \"Gender diverisity across JobTitle\"}, \"xaxis\": {\"anchor\": \"y\", \"domain\": [0.0, 1.0], \"title\": {\"text\": \"JobTitle\"}}, \"yaxis\": {\"anchor\": \"x\", \"domain\": [0.0, 1.0], \"title\": {\"text\": \"avg of totalPay\"}}},\n",
              "                        {\"responsive\": true}\n",
              "                    ).then(function(){\n",
              "                            \n",
              "var gd = document.getElementById('daf411bc-d135-44b9-9576-014dba0cefc7');\n",
              "var x = new MutationObserver(function (mutations, observer) {{\n",
              "        var display = window.getComputedStyle(gd).display;\n",
              "        if (!display || display === 'none') {{\n",
              "            console.log([gd, 'removed!']);\n",
              "            Plotly.purge(gd);\n",
              "            observer.disconnect();\n",
              "        }}\n",
              "}});\n",
              "\n",
              "// Listen for the removal of the full notebook cells\n",
              "var notebookContainer = gd.closest('#notebook-container');\n",
              "if (notebookContainer) {{\n",
              "    x.observe(notebookContainer, {childList: true});\n",
              "}}\n",
              "\n",
              "// Listen for the clearing of the current output cell\n",
              "var outputEl = gd.closest('.output');\n",
              "if (outputEl) {{\n",
              "    x.observe(outputEl, {childList: true});\n",
              "}}\n",
              "\n",
              "                        })\n",
              "                };\n",
              "                \n",
              "            </script>\n",
              "        </div>\n",
              "</body>\n",
              "</html>"
            ]
          },
          "metadata": {
            "tags": []
          }
        }
      ]
    },
    {
      "cell_type": "markdown",
      "metadata": {
        "id": "rQFRyEkUS_lm"
      },
      "source": [
        "## **Findings**\r\n",
        "\r\n",
        "We know that,\r\n",
        "1. Most Women are high school graduates\r\n",
        "2. Women are greater than men at college level of education\r\n",
        "\r\n",
        "Gender Diversity accross Job Title shows that:\r\n",
        "1. Most women are Marketing Associates, while the same job title has the least number of men\r\n",
        "2. Manager and Software Engineer jobs have least number of women\r\n",
        "\r\n",
        "Jobs vs Educational Background shows that:\r\n",
        "1. Marketing associate is the most popular job title within which most users have high school level of education\r\n",
        "2. IT jobs have a majority of users with College level of education\r\n",
        "3. Both Graphic Designer and Software Engineer jobs have a majority of Masters level of education\r\n",
        "4. Data Scientist jobs have the highest number of PhD scholars\r\n",
        "\r\n",
        "Conclusion:\r\n",
        "1. Marketing Associates have majorly women which requires a high school level of education , although most women are high school graduates the ratio of men:women at this role is too vast to ignore\r\n",
        "2. We have greater no.  of women with college degrees as compared to men and IT jobs have majorly college degree holders , in which we can see that women are working more.\r\n",
        "3. IT , Warehouse Associate , Driver and Marketing Associates have more women in their roles whereas highest paid jobs are for Manager and Software Engineers.\r\n",
        "4. Manager Positions have the least number of women even when level of education may not be a major factor."
      ]
    }
  ]
}